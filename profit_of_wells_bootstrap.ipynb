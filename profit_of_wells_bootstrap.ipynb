{
 "cells": [
  {
   "cell_type": "markdown",
   "metadata": {
    "toc": true
   },
   "source": [
    "<h1>Содержание<span class=\"tocSkip\"></span></h1>\n",
    "<div class=\"toc\"><ul class=\"toc-item\"><li><span><a href=\"#Подключение-необходимых-библиотек-и-модулей\" data-toc-modified-id=\"Подключение-необходимых-библиотек-и-модулей-1\"><span class=\"toc-item-num\">1&nbsp;&nbsp;</span>Подключение необходимых библиотек и модулей</a></span></li><li><span><a href=\"#Загрузка-и-подготовка-данных\" data-toc-modified-id=\"Загрузка-и-подготовка-данных-2\"><span class=\"toc-item-num\">2&nbsp;&nbsp;</span>Загрузка и подготовка данных</a></span><ul class=\"toc-item\"><li><span><a href=\"#Создание-датафреймов\" data-toc-modified-id=\"Создание-датафреймов-2.1\"><span class=\"toc-item-num\">2.1&nbsp;&nbsp;</span>Создание датафреймов</a></span></li><li><span><a href=\"#Изучение-датафрейма-df0\" data-toc-modified-id=\"Изучение-датафрейма-df0-2.2\"><span class=\"toc-item-num\">2.2&nbsp;&nbsp;</span>Изучение датафрейма df0</a></span></li><li><span><a href=\"#Изучение-датафрейма-df1\" data-toc-modified-id=\"Изучение-датафрейма-df1-2.3\"><span class=\"toc-item-num\">2.3&nbsp;&nbsp;</span>Изучение датафрейма df1</a></span></li><li><span><a href=\"#Изучение-датафрейма-df2\" data-toc-modified-id=\"Изучение-датафрейма-df2-2.4\"><span class=\"toc-item-num\">2.4&nbsp;&nbsp;</span>Изучение датафрейма df2</a></span></li><li><span><a href=\"#Исследовательский-анализ-данных\" data-toc-modified-id=\"Исследовательский-анализ-данных-2.5\"><span class=\"toc-item-num\">2.5&nbsp;&nbsp;</span>Исследовательский анализ данных</a></span></li><li><span><a href=\"#Работа-с-таблицами\" data-toc-modified-id=\"Работа-с-таблицами-2.6\"><span class=\"toc-item-num\">2.6&nbsp;&nbsp;</span>Работа с таблицами</a></span><ul class=\"toc-item\"><li><span><a href=\"#Работа-с-датафреймом-df0\" data-toc-modified-id=\"Работа-с-датафреймом-df0-2.6.1\"><span class=\"toc-item-num\">2.6.1&nbsp;&nbsp;</span>Работа с датафреймом df0</a></span></li><li><span><a href=\"#Работа-с-датафреймом-df1\" data-toc-modified-id=\"Работа-с-датафреймом-df1-2.6.2\"><span class=\"toc-item-num\">2.6.2&nbsp;&nbsp;</span>Работа с датафреймом df1</a></span></li><li><span><a href=\"#Работа-с-датафреймом-df2\" data-toc-modified-id=\"Работа-с-датафреймом-df2-2.6.3\"><span class=\"toc-item-num\">2.6.3&nbsp;&nbsp;</span>Работа с датафреймом df2</a></span></li></ul></li><li><span><a href=\"#Вывод\" data-toc-modified-id=\"Вывод-2.7\"><span class=\"toc-item-num\">2.7&nbsp;&nbsp;</span>Вывод</a></span></li></ul></li><li><span><a href=\"#Обучение-и-проверка-модели\" data-toc-modified-id=\"Обучение-и-проверка-модели-3\"><span class=\"toc-item-num\">3&nbsp;&nbsp;</span>Обучение и проверка модели</a></span><ul class=\"toc-item\"><li><span><a href=\"#Создание-функции,-формирующей-обученные-модели\" data-toc-modified-id=\"Создание-функции,-формирующей-обученные-модели-3.1\"><span class=\"toc-item-num\">3.1&nbsp;&nbsp;</span>Создание функции, формирующей обученные модели</a></span></li><li><span><a href=\"#Работа-с-моделью-по-датафрейму-df0\" data-toc-modified-id=\"Работа-с-моделью-по-датафрейму-df0-3.2\"><span class=\"toc-item-num\">3.2&nbsp;&nbsp;</span>Работа с моделью по датафрейму df0</a></span><ul class=\"toc-item\"><li><span><a href=\"#Формирование-базовых-таблиц\" data-toc-modified-id=\"Формирование-базовых-таблиц-3.2.1\"><span class=\"toc-item-num\">3.2.1&nbsp;&nbsp;</span>Формирование базовых таблиц</a></span></li><li><span><a href=\"#Формирование-обучающей-и-валидационной-выборок\" data-toc-modified-id=\"Формирование-обучающей-и-валидационной-выборок-3.2.2\"><span class=\"toc-item-num\">3.2.2&nbsp;&nbsp;</span>Формирование обучающей и валидационной выборок</a></span></li><li><span><a href=\"#Обучение-модели-линейной-регрессии---LinearRegression\" data-toc-modified-id=\"Обучение-модели-линейной-регрессии---LinearRegression-3.2.3\"><span class=\"toc-item-num\">3.2.3&nbsp;&nbsp;</span>Обучение модели линейной регрессии - LinearRegression</a></span></li><li><span><a href=\"#Вывод\" data-toc-modified-id=\"Вывод-3.2.4\"><span class=\"toc-item-num\">3.2.4&nbsp;&nbsp;</span>Вывод</a></span></li></ul></li><li><span><a href=\"#Работа-с-моделью-по-датафрейму-df1\" data-toc-modified-id=\"Работа-с-моделью-по-датафрейму-df1-3.3\"><span class=\"toc-item-num\">3.3&nbsp;&nbsp;</span>Работа с моделью по датафрейму df1</a></span><ul class=\"toc-item\"><li><span><a href=\"#Формирование-базовых-таблиц\" data-toc-modified-id=\"Формирование-базовых-таблиц-3.3.1\"><span class=\"toc-item-num\">3.3.1&nbsp;&nbsp;</span>Формирование базовых таблиц</a></span></li><li><span><a href=\"#Формирование-обучающей-и-валидационной-выборок\" data-toc-modified-id=\"Формирование-обучающей-и-валидационной-выборок-3.3.2\"><span class=\"toc-item-num\">3.3.2&nbsp;&nbsp;</span>Формирование обучающей и валидационной выборок</a></span></li><li><span><a href=\"#Обучение-модели-линейной-регрессии---LinearRegression\" data-toc-modified-id=\"Обучение-модели-линейной-регрессии---LinearRegression-3.3.3\"><span class=\"toc-item-num\">3.3.3&nbsp;&nbsp;</span>Обучение модели линейной регрессии - LinearRegression</a></span></li><li><span><a href=\"#Вывод\" data-toc-modified-id=\"Вывод-3.3.4\"><span class=\"toc-item-num\">3.3.4&nbsp;&nbsp;</span>Вывод</a></span></li></ul></li><li><span><a href=\"#Работа-с-моделью-по-датафрейму-df2\" data-toc-modified-id=\"Работа-с-моделью-по-датафрейму-df2-3.4\"><span class=\"toc-item-num\">3.4&nbsp;&nbsp;</span>Работа с моделью по датафрейму df2</a></span><ul class=\"toc-item\"><li><span><a href=\"#Формирование-базовых-таблиц\" data-toc-modified-id=\"Формирование-базовых-таблиц-3.4.1\"><span class=\"toc-item-num\">3.4.1&nbsp;&nbsp;</span>Формирование базовых таблиц</a></span></li><li><span><a href=\"#Формирование-обучающей-и-валидационной-выборок\" data-toc-modified-id=\"Формирование-обучающей-и-валидационной-выборок-3.4.2\"><span class=\"toc-item-num\">3.4.2&nbsp;&nbsp;</span>Формирование обучающей и валидационной выборок</a></span></li><li><span><a href=\"#Обучение-модели-линейной-регрессии---LinearRegression\" data-toc-modified-id=\"Обучение-модели-линейной-регрессии---LinearRegression-3.4.3\"><span class=\"toc-item-num\">3.4.3&nbsp;&nbsp;</span>Обучение модели линейной регрессии - LinearRegression</a></span></li><li><span><a href=\"#Вывод\" data-toc-modified-id=\"Вывод-3.4.4\"><span class=\"toc-item-num\">3.4.4&nbsp;&nbsp;</span>Вывод</a></span></li></ul></li></ul></li><li><span><a href=\"#Подготовка-к-расчёту-прибыли\" data-toc-modified-id=\"Подготовка-к-расчёту-прибыли-4\"><span class=\"toc-item-num\">4&nbsp;&nbsp;</span>Подготовка к расчёту прибыли</a></span><ul class=\"toc-item\"><li><span><a href=\"#Формирование-ключевых-переменных\" data-toc-modified-id=\"Формирование-ключевых-переменных-4.1\"><span class=\"toc-item-num\">4.1&nbsp;&nbsp;</span>Формирование ключевых переменных</a></span></li><li><span><a href=\"#Расчёт-требуемого-минимального-запаса-сырья-в-скважине\" data-toc-modified-id=\"Расчёт-требуемого-минимального-запаса-сырья-в-скважине-4.2\"><span class=\"toc-item-num\">4.2&nbsp;&nbsp;</span>Расчёт требуемого минимального запаса сырья в скважине</a></span></li><li><span><a href=\"#Вывод\" data-toc-modified-id=\"Вывод-4.3\"><span class=\"toc-item-num\">4.3&nbsp;&nbsp;</span>Вывод</a></span></li></ul></li><li><span><a href=\"#Расчёт-прибыли-и-рисков\" data-toc-modified-id=\"Расчёт-прибыли-и-рисков-5\"><span class=\"toc-item-num\">5&nbsp;&nbsp;</span>Расчёт прибыли и рисков</a></span><ul class=\"toc-item\"><li><span><a href=\"#Создание-функции-расчёта-прибыли-по-предсказаниям\" data-toc-modified-id=\"Создание-функции-расчёта-прибыли-по-предсказаниям-5.1\"><span class=\"toc-item-num\">5.1&nbsp;&nbsp;</span>Создание функции расчёта прибыли по предсказаниям</a></span></li><li><span><a href=\"#Создание-функции,-формирующей-отчёт-о-прибыли-и-рисках\" data-toc-modified-id=\"Создание-функции,-формирующей-отчёт-о-прибыли-и-рисках-5.2\"><span class=\"toc-item-num\">5.2&nbsp;&nbsp;</span>Создание функции, формирующей отчёт о прибыли и рисках</a></span></li><li><span><a href=\"#Расчёт-рисков-и-прибыли-для-региона-с-датафреймом-df0\" data-toc-modified-id=\"Расчёт-рисков-и-прибыли-для-региона-с-датафреймом-df0-5.3\"><span class=\"toc-item-num\">5.3&nbsp;&nbsp;</span>Расчёт рисков и прибыли для региона с датафреймом df0</a></span></li><li><span><a href=\"#Расчёт-рисков-и-прибыли-для-региона-с-датафреймом-df1\" data-toc-modified-id=\"Расчёт-рисков-и-прибыли-для-региона-с-датафреймом-df1-5.4\"><span class=\"toc-item-num\">5.4&nbsp;&nbsp;</span>Расчёт рисков и прибыли для региона с датафреймом df1</a></span></li><li><span><a href=\"#Расчёт-рисков-и-прибыли-для-региона-с-датафреймом-df2\" data-toc-modified-id=\"Расчёт-рисков-и-прибыли-для-региона-с-датафреймом-df2-5.5\"><span class=\"toc-item-num\">5.5&nbsp;&nbsp;</span>Расчёт рисков и прибыли для региона с датафреймом df2</a></span></li><li><span><a href=\"#Вывод\" data-toc-modified-id=\"Вывод-5.6\"><span class=\"toc-item-num\">5.6&nbsp;&nbsp;</span>Вывод</a></span></li></ul></li><li><span><a href=\"#Общий-вывод\" data-toc-modified-id=\"Общий-вывод-6\"><span class=\"toc-item-num\">6&nbsp;&nbsp;</span>Общий вывод</a></span></li></ul></div>"
   ]
  },
  {
   "cell_type": "markdown",
   "metadata": {},
   "source": [
    "# Выбор локации для скважины"
   ]
  },
  {
   "cell_type": "markdown",
   "metadata": {},
   "source": [
    "## Подключение необходимых библиотек и модулей"
   ]
  },
  {
   "cell_type": "code",
   "execution_count": 62,
   "metadata": {},
   "outputs": [],
   "source": [
    "# 1. Подключение модуля pathlib\n",
    "import pathlib\n",
    "# 2. Подключение класса Path из модуля pathlib\n",
    "from pathlib import Path\n",
    "# 3. Подключение модуля warnings\n",
    "import warnings\n",
    "\n",
    "# 4. Подключение библиотеки Pandas\n",
    "import pandas as pd\n",
    "# 5. Подключение библиотеки NumPy\n",
    "import numpy as np\n",
    "# 6. Подключение библиотеки Scikit-Learn\n",
    "import sklearn\n",
    "# 7. Подключение библиотеки Seaborn\n",
    "import seaborn as sns\n",
    "\n",
    "# 8. Подключение модуля matplotlib.pyplot\n",
    "import matplotlib.pyplot as plt\n",
    "# 9. Подключение модели LinearRegression\n",
    "# из модуля sklearn.linear_model\n",
    "from sklearn.linear_model import LinearRegression\n",
    "# 10. Подключение функции train_test_split()\n",
    "# из модуля sklearn.model_selection\n",
    "from sklearn.model_selection import train_test_split\n",
    "# 11. Подключение функций mean_squared_error(),\n",
    "# r2_score()\n",
    "from sklearn.metrics import (\n",
    "    mean_squared_error,\n",
    "    r2_score\n",
    ")\n",
    "# 12. Подключение модуля stats из библиотеки SciPy\n",
    "# from scipy import stats as st"
   ]
  },
  {
   "cell_type": "markdown",
   "metadata": {},
   "source": [
    "## Загрузка и подготовка данных"
   ]
  },
  {
   "cell_type": "markdown",
   "metadata": {},
   "source": [
    "### Создание датафреймов"
   ]
  },
  {
   "cell_type": "code",
   "execution_count": 63,
   "metadata": {},
   "outputs": [
    {
     "data": {
      "text/html": [
       "<div>\n",
       "<style scoped>\n",
       "    .dataframe tbody tr th:only-of-type {\n",
       "        vertical-align: middle;\n",
       "    }\n",
       "\n",
       "    .dataframe tbody tr th {\n",
       "        vertical-align: top;\n",
       "    }\n",
       "\n",
       "    .dataframe thead th {\n",
       "        text-align: right;\n",
       "    }\n",
       "</style>\n",
       "<table border=\"1\" class=\"dataframe\">\n",
       "  <thead>\n",
       "    <tr style=\"text-align: right;\">\n",
       "      <th></th>\n",
       "      <th>id</th>\n",
       "      <th>f0</th>\n",
       "      <th>f1</th>\n",
       "      <th>f2</th>\n",
       "      <th>product</th>\n",
       "    </tr>\n",
       "  </thead>\n",
       "  <tbody>\n",
       "    <tr>\n",
       "      <th>0</th>\n",
       "      <td>txEyH</td>\n",
       "      <td>0.705745</td>\n",
       "      <td>-0.497823</td>\n",
       "      <td>1.221170</td>\n",
       "      <td>105.280062</td>\n",
       "    </tr>\n",
       "    <tr>\n",
       "      <th>1</th>\n",
       "      <td>2acmU</td>\n",
       "      <td>1.334711</td>\n",
       "      <td>-0.340164</td>\n",
       "      <td>4.365080</td>\n",
       "      <td>73.037750</td>\n",
       "    </tr>\n",
       "    <tr>\n",
       "      <th>2</th>\n",
       "      <td>409Wp</td>\n",
       "      <td>1.022732</td>\n",
       "      <td>0.151990</td>\n",
       "      <td>1.419926</td>\n",
       "      <td>85.265647</td>\n",
       "    </tr>\n",
       "    <tr>\n",
       "      <th>3</th>\n",
       "      <td>iJLyR</td>\n",
       "      <td>-0.032172</td>\n",
       "      <td>0.139033</td>\n",
       "      <td>2.978566</td>\n",
       "      <td>168.620776</td>\n",
       "    </tr>\n",
       "    <tr>\n",
       "      <th>4</th>\n",
       "      <td>Xdl7t</td>\n",
       "      <td>1.988431</td>\n",
       "      <td>0.155413</td>\n",
       "      <td>4.751769</td>\n",
       "      <td>154.036647</td>\n",
       "    </tr>\n",
       "    <tr>\n",
       "      <th>...</th>\n",
       "      <td>...</td>\n",
       "      <td>...</td>\n",
       "      <td>...</td>\n",
       "      <td>...</td>\n",
       "      <td>...</td>\n",
       "    </tr>\n",
       "    <tr>\n",
       "      <th>99995</th>\n",
       "      <td>DLsed</td>\n",
       "      <td>0.971957</td>\n",
       "      <td>0.370953</td>\n",
       "      <td>6.075346</td>\n",
       "      <td>110.744026</td>\n",
       "    </tr>\n",
       "    <tr>\n",
       "      <th>99996</th>\n",
       "      <td>QKivN</td>\n",
       "      <td>1.392429</td>\n",
       "      <td>-0.382606</td>\n",
       "      <td>1.273912</td>\n",
       "      <td>122.346843</td>\n",
       "    </tr>\n",
       "    <tr>\n",
       "      <th>99997</th>\n",
       "      <td>3rnvd</td>\n",
       "      <td>1.029585</td>\n",
       "      <td>0.018787</td>\n",
       "      <td>-1.348308</td>\n",
       "      <td>64.375443</td>\n",
       "    </tr>\n",
       "    <tr>\n",
       "      <th>99998</th>\n",
       "      <td>7kl59</td>\n",
       "      <td>0.998163</td>\n",
       "      <td>-0.528582</td>\n",
       "      <td>1.583869</td>\n",
       "      <td>74.040764</td>\n",
       "    </tr>\n",
       "    <tr>\n",
       "      <th>99999</th>\n",
       "      <td>1CWhH</td>\n",
       "      <td>1.764754</td>\n",
       "      <td>-0.266417</td>\n",
       "      <td>5.722849</td>\n",
       "      <td>149.633246</td>\n",
       "    </tr>\n",
       "  </tbody>\n",
       "</table>\n",
       "<p>100000 rows × 5 columns</p>\n",
       "</div>"
      ],
      "text/plain": [
       "          id        f0        f1        f2     product\n",
       "0      txEyH  0.705745 -0.497823  1.221170  105.280062\n",
       "1      2acmU  1.334711 -0.340164  4.365080   73.037750\n",
       "2      409Wp  1.022732  0.151990  1.419926   85.265647\n",
       "3      iJLyR -0.032172  0.139033  2.978566  168.620776\n",
       "4      Xdl7t  1.988431  0.155413  4.751769  154.036647\n",
       "...      ...       ...       ...       ...         ...\n",
       "99995  DLsed  0.971957  0.370953  6.075346  110.744026\n",
       "99996  QKivN  1.392429 -0.382606  1.273912  122.346843\n",
       "99997  3rnvd  1.029585  0.018787 -1.348308   64.375443\n",
       "99998  7kl59  0.998163 -0.528582  1.583869   74.040764\n",
       "99999  1CWhH  1.764754 -0.266417  5.722849  149.633246\n",
       "\n",
       "[100000 rows x 5 columns]"
      ]
     },
     "metadata": {},
     "output_type": "display_data"
    }
   ],
   "source": [
    "# Создание и открытие датафрейма из датасета geo_data_0\n",
    "try:\n",
    "    df0 = pd.read_csv('/datasets/geo_data_0.csv')\n",
    "    display(df0)\n",
    "except:\n",
    "    df0 = pd.read_csv(\n",
    "        Path(\n",
    "            pathlib.Path.cwd(),\n",
    "            'datasets',\n",
    "            'geo_data_0.csv'\n",
    "        )\n",
    "    )\n",
    "    display(df0)"
   ]
  },
  {
   "cell_type": "code",
   "execution_count": 64,
   "metadata": {},
   "outputs": [
    {
     "data": {
      "text/html": [
       "<div>\n",
       "<style scoped>\n",
       "    .dataframe tbody tr th:only-of-type {\n",
       "        vertical-align: middle;\n",
       "    }\n",
       "\n",
       "    .dataframe tbody tr th {\n",
       "        vertical-align: top;\n",
       "    }\n",
       "\n",
       "    .dataframe thead th {\n",
       "        text-align: right;\n",
       "    }\n",
       "</style>\n",
       "<table border=\"1\" class=\"dataframe\">\n",
       "  <thead>\n",
       "    <tr style=\"text-align: right;\">\n",
       "      <th></th>\n",
       "      <th>id</th>\n",
       "      <th>f0</th>\n",
       "      <th>f1</th>\n",
       "      <th>f2</th>\n",
       "      <th>product</th>\n",
       "    </tr>\n",
       "  </thead>\n",
       "  <tbody>\n",
       "    <tr>\n",
       "      <th>0</th>\n",
       "      <td>kBEdx</td>\n",
       "      <td>-15.001348</td>\n",
       "      <td>-8.276000</td>\n",
       "      <td>-0.005876</td>\n",
       "      <td>3.179103</td>\n",
       "    </tr>\n",
       "    <tr>\n",
       "      <th>1</th>\n",
       "      <td>62mP7</td>\n",
       "      <td>14.272088</td>\n",
       "      <td>-3.475083</td>\n",
       "      <td>0.999183</td>\n",
       "      <td>26.953261</td>\n",
       "    </tr>\n",
       "    <tr>\n",
       "      <th>2</th>\n",
       "      <td>vyE1P</td>\n",
       "      <td>6.263187</td>\n",
       "      <td>-5.948386</td>\n",
       "      <td>5.001160</td>\n",
       "      <td>134.766305</td>\n",
       "    </tr>\n",
       "    <tr>\n",
       "      <th>3</th>\n",
       "      <td>KcrkZ</td>\n",
       "      <td>-13.081196</td>\n",
       "      <td>-11.506057</td>\n",
       "      <td>4.999415</td>\n",
       "      <td>137.945408</td>\n",
       "    </tr>\n",
       "    <tr>\n",
       "      <th>4</th>\n",
       "      <td>AHL4O</td>\n",
       "      <td>12.702195</td>\n",
       "      <td>-8.147433</td>\n",
       "      <td>5.004363</td>\n",
       "      <td>134.766305</td>\n",
       "    </tr>\n",
       "    <tr>\n",
       "      <th>...</th>\n",
       "      <td>...</td>\n",
       "      <td>...</td>\n",
       "      <td>...</td>\n",
       "      <td>...</td>\n",
       "      <td>...</td>\n",
       "    </tr>\n",
       "    <tr>\n",
       "      <th>99995</th>\n",
       "      <td>QywKC</td>\n",
       "      <td>9.535637</td>\n",
       "      <td>-6.878139</td>\n",
       "      <td>1.998296</td>\n",
       "      <td>53.906522</td>\n",
       "    </tr>\n",
       "    <tr>\n",
       "      <th>99996</th>\n",
       "      <td>ptvty</td>\n",
       "      <td>-10.160631</td>\n",
       "      <td>-12.558096</td>\n",
       "      <td>5.005581</td>\n",
       "      <td>137.945408</td>\n",
       "    </tr>\n",
       "    <tr>\n",
       "      <th>99997</th>\n",
       "      <td>09gWa</td>\n",
       "      <td>-7.378891</td>\n",
       "      <td>-3.084104</td>\n",
       "      <td>4.998651</td>\n",
       "      <td>137.945408</td>\n",
       "    </tr>\n",
       "    <tr>\n",
       "      <th>99998</th>\n",
       "      <td>rqwUm</td>\n",
       "      <td>0.665714</td>\n",
       "      <td>-6.152593</td>\n",
       "      <td>1.000146</td>\n",
       "      <td>30.132364</td>\n",
       "    </tr>\n",
       "    <tr>\n",
       "      <th>99999</th>\n",
       "      <td>relB0</td>\n",
       "      <td>-3.426139</td>\n",
       "      <td>-7.794274</td>\n",
       "      <td>-0.003299</td>\n",
       "      <td>3.179103</td>\n",
       "    </tr>\n",
       "  </tbody>\n",
       "</table>\n",
       "<p>100000 rows × 5 columns</p>\n",
       "</div>"
      ],
      "text/plain": [
       "          id         f0         f1        f2     product\n",
       "0      kBEdx -15.001348  -8.276000 -0.005876    3.179103\n",
       "1      62mP7  14.272088  -3.475083  0.999183   26.953261\n",
       "2      vyE1P   6.263187  -5.948386  5.001160  134.766305\n",
       "3      KcrkZ -13.081196 -11.506057  4.999415  137.945408\n",
       "4      AHL4O  12.702195  -8.147433  5.004363  134.766305\n",
       "...      ...        ...        ...       ...         ...\n",
       "99995  QywKC   9.535637  -6.878139  1.998296   53.906522\n",
       "99996  ptvty -10.160631 -12.558096  5.005581  137.945408\n",
       "99997  09gWa  -7.378891  -3.084104  4.998651  137.945408\n",
       "99998  rqwUm   0.665714  -6.152593  1.000146   30.132364\n",
       "99999  relB0  -3.426139  -7.794274 -0.003299    3.179103\n",
       "\n",
       "[100000 rows x 5 columns]"
      ]
     },
     "metadata": {},
     "output_type": "display_data"
    }
   ],
   "source": [
    "# Создание и открытие датафрейма из датасета geo_data_1\n",
    "try:\n",
    "    df1 = pd.read_csv('/datasets/geo_data_1.csv')\n",
    "    display(df1)\n",
    "except:\n",
    "    df1 = pd.read_csv(\n",
    "        Path(\n",
    "            pathlib.Path.cwd(),\n",
    "            'datasets',\n",
    "            'geo_data_1.csv'\n",
    "        )\n",
    "    )\n",
    "    display(df1)"
   ]
  },
  {
   "cell_type": "code",
   "execution_count": 65,
   "metadata": {
    "scrolled": false
   },
   "outputs": [
    {
     "data": {
      "text/html": [
       "<div>\n",
       "<style scoped>\n",
       "    .dataframe tbody tr th:only-of-type {\n",
       "        vertical-align: middle;\n",
       "    }\n",
       "\n",
       "    .dataframe tbody tr th {\n",
       "        vertical-align: top;\n",
       "    }\n",
       "\n",
       "    .dataframe thead th {\n",
       "        text-align: right;\n",
       "    }\n",
       "</style>\n",
       "<table border=\"1\" class=\"dataframe\">\n",
       "  <thead>\n",
       "    <tr style=\"text-align: right;\">\n",
       "      <th></th>\n",
       "      <th>id</th>\n",
       "      <th>f0</th>\n",
       "      <th>f1</th>\n",
       "      <th>f2</th>\n",
       "      <th>product</th>\n",
       "    </tr>\n",
       "  </thead>\n",
       "  <tbody>\n",
       "    <tr>\n",
       "      <th>0</th>\n",
       "      <td>fwXo0</td>\n",
       "      <td>-1.146987</td>\n",
       "      <td>0.963328</td>\n",
       "      <td>-0.828965</td>\n",
       "      <td>27.758673</td>\n",
       "    </tr>\n",
       "    <tr>\n",
       "      <th>1</th>\n",
       "      <td>WJtFt</td>\n",
       "      <td>0.262778</td>\n",
       "      <td>0.269839</td>\n",
       "      <td>-2.530187</td>\n",
       "      <td>56.069697</td>\n",
       "    </tr>\n",
       "    <tr>\n",
       "      <th>2</th>\n",
       "      <td>ovLUW</td>\n",
       "      <td>0.194587</td>\n",
       "      <td>0.289035</td>\n",
       "      <td>-5.586433</td>\n",
       "      <td>62.871910</td>\n",
       "    </tr>\n",
       "    <tr>\n",
       "      <th>3</th>\n",
       "      <td>q6cA6</td>\n",
       "      <td>2.236060</td>\n",
       "      <td>-0.553760</td>\n",
       "      <td>0.930038</td>\n",
       "      <td>114.572842</td>\n",
       "    </tr>\n",
       "    <tr>\n",
       "      <th>4</th>\n",
       "      <td>WPMUX</td>\n",
       "      <td>-0.515993</td>\n",
       "      <td>1.716266</td>\n",
       "      <td>5.899011</td>\n",
       "      <td>149.600746</td>\n",
       "    </tr>\n",
       "    <tr>\n",
       "      <th>...</th>\n",
       "      <td>...</td>\n",
       "      <td>...</td>\n",
       "      <td>...</td>\n",
       "      <td>...</td>\n",
       "      <td>...</td>\n",
       "    </tr>\n",
       "    <tr>\n",
       "      <th>99995</th>\n",
       "      <td>4GxBu</td>\n",
       "      <td>-1.777037</td>\n",
       "      <td>1.125220</td>\n",
       "      <td>6.263374</td>\n",
       "      <td>172.327046</td>\n",
       "    </tr>\n",
       "    <tr>\n",
       "      <th>99996</th>\n",
       "      <td>YKFjq</td>\n",
       "      <td>-1.261523</td>\n",
       "      <td>-0.894828</td>\n",
       "      <td>2.524545</td>\n",
       "      <td>138.748846</td>\n",
       "    </tr>\n",
       "    <tr>\n",
       "      <th>99997</th>\n",
       "      <td>tKPY3</td>\n",
       "      <td>-1.199934</td>\n",
       "      <td>-2.957637</td>\n",
       "      <td>5.219411</td>\n",
       "      <td>157.080080</td>\n",
       "    </tr>\n",
       "    <tr>\n",
       "      <th>99998</th>\n",
       "      <td>nmxp2</td>\n",
       "      <td>-2.419896</td>\n",
       "      <td>2.417221</td>\n",
       "      <td>-5.548444</td>\n",
       "      <td>51.795253</td>\n",
       "    </tr>\n",
       "    <tr>\n",
       "      <th>99999</th>\n",
       "      <td>V9kWn</td>\n",
       "      <td>-2.551421</td>\n",
       "      <td>-2.025625</td>\n",
       "      <td>6.090891</td>\n",
       "      <td>102.775767</td>\n",
       "    </tr>\n",
       "  </tbody>\n",
       "</table>\n",
       "<p>100000 rows × 5 columns</p>\n",
       "</div>"
      ],
      "text/plain": [
       "          id        f0        f1        f2     product\n",
       "0      fwXo0 -1.146987  0.963328 -0.828965   27.758673\n",
       "1      WJtFt  0.262778  0.269839 -2.530187   56.069697\n",
       "2      ovLUW  0.194587  0.289035 -5.586433   62.871910\n",
       "3      q6cA6  2.236060 -0.553760  0.930038  114.572842\n",
       "4      WPMUX -0.515993  1.716266  5.899011  149.600746\n",
       "...      ...       ...       ...       ...         ...\n",
       "99995  4GxBu -1.777037  1.125220  6.263374  172.327046\n",
       "99996  YKFjq -1.261523 -0.894828  2.524545  138.748846\n",
       "99997  tKPY3 -1.199934 -2.957637  5.219411  157.080080\n",
       "99998  nmxp2 -2.419896  2.417221 -5.548444   51.795253\n",
       "99999  V9kWn -2.551421 -2.025625  6.090891  102.775767\n",
       "\n",
       "[100000 rows x 5 columns]"
      ]
     },
     "metadata": {},
     "output_type": "display_data"
    }
   ],
   "source": [
    "# Создание и открытие датафрейма из датасета geo_data_2\n",
    "try:\n",
    "    df2 = pd.read_csv('/datasets/geo_data_2.csv')\n",
    "    display(df2)\n",
    "except:\n",
    "    df2 = pd.read_csv(\n",
    "        Path(\n",
    "            pathlib.Path.cwd(),\n",
    "            'datasets',\n",
    "            'geo_data_2.csv'\n",
    "        )\n",
    "    )\n",
    "    display(df2)"
   ]
  },
  {
   "cell_type": "markdown",
   "metadata": {},
   "source": [
    "<div class=\"alert alert-block alert-warning\"><span style=\"color:green\"><font size=\"3\" face=\"Arial\"><b>Промежуточные выводы 2.1:<b/></span><br>\n",
    "    <br>\n",
    "<span style=\"color:steelblue\"><font size=\"3\" face=\"Courier\"><b>1. Датафреймы содержат по 100000 строк и по 5 колонок.<br>\n",
    "    2. Названия колонок написаны с соблюдением змеиного стиля.<br>\n",
    "    3. Колонка 'id' содержит уникальный идентификатор скважины в виде категориальных переменных и не влияет на процесс обучения модели. Колонку можно удалить.<br>\n",
    "    4. В колонке 'product' содержатся количественные целевые признаки, поэтому решается задача регрессии.</b></span></div>"
   ]
  },
  {
   "cell_type": "markdown",
   "metadata": {},
   "source": [
    "### Изучение датафрейма df0"
   ]
  },
  {
   "cell_type": "code",
   "execution_count": 66,
   "metadata": {},
   "outputs": [
    {
     "name": "stdout",
     "output_type": "stream",
     "text": [
      "<class 'pandas.core.frame.DataFrame'>\n",
      "RangeIndex: 100000 entries, 0 to 99999\n",
      "Data columns (total 5 columns):\n",
      " #   Column   Non-Null Count   Dtype  \n",
      "---  ------   --------------   -----  \n",
      " 0   id       100000 non-null  object \n",
      " 1   f0       100000 non-null  float64\n",
      " 2   f1       100000 non-null  float64\n",
      " 3   f2       100000 non-null  float64\n",
      " 4   product  100000 non-null  float64\n",
      "dtypes: float64(4), object(1)\n",
      "memory usage: 3.8+ MB\n"
     ]
    }
   ],
   "source": [
    "# Вывод общей информации\n",
    "df0.info()"
   ]
  },
  {
   "cell_type": "code",
   "execution_count": 67,
   "metadata": {},
   "outputs": [
    {
     "data": {
      "text/html": [
       "<div>\n",
       "<style scoped>\n",
       "    .dataframe tbody tr th:only-of-type {\n",
       "        vertical-align: middle;\n",
       "    }\n",
       "\n",
       "    .dataframe tbody tr th {\n",
       "        vertical-align: top;\n",
       "    }\n",
       "\n",
       "    .dataframe thead th {\n",
       "        text-align: right;\n",
       "    }\n",
       "</style>\n",
       "<table border=\"1\" class=\"dataframe\">\n",
       "  <thead>\n",
       "    <tr style=\"text-align: right;\">\n",
       "      <th></th>\n",
       "      <th>f0</th>\n",
       "      <th>f1</th>\n",
       "      <th>f2</th>\n",
       "      <th>product</th>\n",
       "    </tr>\n",
       "  </thead>\n",
       "  <tbody>\n",
       "    <tr>\n",
       "      <th>count</th>\n",
       "      <td>100000.000000</td>\n",
       "      <td>100000.000000</td>\n",
       "      <td>100000.000000</td>\n",
       "      <td>100000.000000</td>\n",
       "    </tr>\n",
       "    <tr>\n",
       "      <th>mean</th>\n",
       "      <td>0.500419</td>\n",
       "      <td>0.250143</td>\n",
       "      <td>2.502647</td>\n",
       "      <td>92.500000</td>\n",
       "    </tr>\n",
       "    <tr>\n",
       "      <th>std</th>\n",
       "      <td>0.871832</td>\n",
       "      <td>0.504433</td>\n",
       "      <td>3.248248</td>\n",
       "      <td>44.288691</td>\n",
       "    </tr>\n",
       "    <tr>\n",
       "      <th>min</th>\n",
       "      <td>-1.408605</td>\n",
       "      <td>-0.848218</td>\n",
       "      <td>-12.088328</td>\n",
       "      <td>0.000000</td>\n",
       "    </tr>\n",
       "    <tr>\n",
       "      <th>25%</th>\n",
       "      <td>-0.072580</td>\n",
       "      <td>-0.200881</td>\n",
       "      <td>0.287748</td>\n",
       "      <td>56.497507</td>\n",
       "    </tr>\n",
       "    <tr>\n",
       "      <th>50%</th>\n",
       "      <td>0.502360</td>\n",
       "      <td>0.250252</td>\n",
       "      <td>2.515969</td>\n",
       "      <td>91.849972</td>\n",
       "    </tr>\n",
       "    <tr>\n",
       "      <th>75%</th>\n",
       "      <td>1.073581</td>\n",
       "      <td>0.700646</td>\n",
       "      <td>4.715088</td>\n",
       "      <td>128.564089</td>\n",
       "    </tr>\n",
       "    <tr>\n",
       "      <th>max</th>\n",
       "      <td>2.362331</td>\n",
       "      <td>1.343769</td>\n",
       "      <td>16.003790</td>\n",
       "      <td>185.364347</td>\n",
       "    </tr>\n",
       "  </tbody>\n",
       "</table>\n",
       "</div>"
      ],
      "text/plain": [
       "                  f0             f1             f2        product\n",
       "count  100000.000000  100000.000000  100000.000000  100000.000000\n",
       "mean        0.500419       0.250143       2.502647      92.500000\n",
       "std         0.871832       0.504433       3.248248      44.288691\n",
       "min        -1.408605      -0.848218     -12.088328       0.000000\n",
       "25%        -0.072580      -0.200881       0.287748      56.497507\n",
       "50%         0.502360       0.250252       2.515969      91.849972\n",
       "75%         1.073581       0.700646       4.715088     128.564089\n",
       "max         2.362331       1.343769      16.003790     185.364347"
      ]
     },
     "execution_count": 67,
     "metadata": {},
     "output_type": "execute_result"
    }
   ],
   "source": [
    "# Вывод списка характерных значений\n",
    "df0.describe()"
   ]
  },
  {
   "cell_type": "code",
   "execution_count": 68,
   "metadata": {},
   "outputs": [
    {
     "data": {
      "text/plain": [
       "0"
      ]
     },
     "execution_count": 68,
     "metadata": {},
     "output_type": "execute_result"
    }
   ],
   "source": [
    "# Определение количества явных дубликатов\n",
    "df0.duplicated().sum()"
   ]
  },
  {
   "cell_type": "code",
   "execution_count": 69,
   "metadata": {},
   "outputs": [
    {
     "data": {
      "text/plain": [
       "fiKDv    2\n",
       "QcMuo    2\n",
       "AGS9W    2\n",
       "Tdehs    2\n",
       "74z30    2\n",
       "        ..\n",
       "x8osI    1\n",
       "gZ7tR    1\n",
       "Zw8hj    1\n",
       "zcrQO    1\n",
       "1CWhH    1\n",
       "Name: id, Length: 99990, dtype: int64"
      ]
     },
     "execution_count": 69,
     "metadata": {},
     "output_type": "execute_result"
    }
   ],
   "source": [
    "# Определение количества неявных дубликатов в колонке 'id'\n",
    "df0['id'].value_counts()"
   ]
  },
  {
   "cell_type": "markdown",
   "metadata": {},
   "source": [
    "<div class=\"alert alert-block alert-warning\"><span style=\"color:green\"><font size=\"3\" face=\"Arial\"><b>Промежуточные выводы 2.2.1:<b/></span><br>\n",
    "    <br>\n",
    "<span style=\"color:steelblue\"><font size=\"3\" face=\"Courier\"><b>В колонке с уникальными идентификаторами скважин 'id' обнаружены дубликаты. Информацию необходимо уточнить. В виду их малого количества удалю, оставляя первое значение.</b></span></div>"
   ]
  },
  {
   "cell_type": "code",
   "execution_count": 70,
   "metadata": {},
   "outputs": [
    {
     "data": {
      "text/plain": [
       "105.280062    1\n",
       "122.799517    1\n",
       "61.817308     1\n",
       "37.155071     1\n",
       "73.090084     1\n",
       "             ..\n",
       "154.694803    1\n",
       "79.818082     1\n",
       "138.609486    1\n",
       "62.540393     1\n",
       "149.633246    1\n",
       "Name: product, Length: 100000, dtype: int64"
      ]
     },
     "execution_count": 70,
     "metadata": {},
     "output_type": "execute_result"
    }
   ],
   "source": [
    "# Определение количества неявных дубликатов в колонке 'product'\n",
    "df0['product'].value_counts()"
   ]
  },
  {
   "cell_type": "markdown",
   "metadata": {},
   "source": [
    "### Изучение датафрейма df1"
   ]
  },
  {
   "cell_type": "code",
   "execution_count": 71,
   "metadata": {},
   "outputs": [
    {
     "name": "stdout",
     "output_type": "stream",
     "text": [
      "<class 'pandas.core.frame.DataFrame'>\n",
      "RangeIndex: 100000 entries, 0 to 99999\n",
      "Data columns (total 5 columns):\n",
      " #   Column   Non-Null Count   Dtype  \n",
      "---  ------   --------------   -----  \n",
      " 0   id       100000 non-null  object \n",
      " 1   f0       100000 non-null  float64\n",
      " 2   f1       100000 non-null  float64\n",
      " 3   f2       100000 non-null  float64\n",
      " 4   product  100000 non-null  float64\n",
      "dtypes: float64(4), object(1)\n",
      "memory usage: 3.8+ MB\n"
     ]
    }
   ],
   "source": [
    "# Вывод общей информации\n",
    "df1.info()"
   ]
  },
  {
   "cell_type": "code",
   "execution_count": 72,
   "metadata": {},
   "outputs": [
    {
     "data": {
      "text/html": [
       "<div>\n",
       "<style scoped>\n",
       "    .dataframe tbody tr th:only-of-type {\n",
       "        vertical-align: middle;\n",
       "    }\n",
       "\n",
       "    .dataframe tbody tr th {\n",
       "        vertical-align: top;\n",
       "    }\n",
       "\n",
       "    .dataframe thead th {\n",
       "        text-align: right;\n",
       "    }\n",
       "</style>\n",
       "<table border=\"1\" class=\"dataframe\">\n",
       "  <thead>\n",
       "    <tr style=\"text-align: right;\">\n",
       "      <th></th>\n",
       "      <th>f0</th>\n",
       "      <th>f1</th>\n",
       "      <th>f2</th>\n",
       "      <th>product</th>\n",
       "    </tr>\n",
       "  </thead>\n",
       "  <tbody>\n",
       "    <tr>\n",
       "      <th>count</th>\n",
       "      <td>100000.000000</td>\n",
       "      <td>100000.000000</td>\n",
       "      <td>100000.000000</td>\n",
       "      <td>100000.000000</td>\n",
       "    </tr>\n",
       "    <tr>\n",
       "      <th>mean</th>\n",
       "      <td>1.141296</td>\n",
       "      <td>-4.796579</td>\n",
       "      <td>2.494541</td>\n",
       "      <td>68.825000</td>\n",
       "    </tr>\n",
       "    <tr>\n",
       "      <th>std</th>\n",
       "      <td>8.965932</td>\n",
       "      <td>5.119872</td>\n",
       "      <td>1.703572</td>\n",
       "      <td>45.944423</td>\n",
       "    </tr>\n",
       "    <tr>\n",
       "      <th>min</th>\n",
       "      <td>-31.609576</td>\n",
       "      <td>-26.358598</td>\n",
       "      <td>-0.018144</td>\n",
       "      <td>0.000000</td>\n",
       "    </tr>\n",
       "    <tr>\n",
       "      <th>25%</th>\n",
       "      <td>-6.298551</td>\n",
       "      <td>-8.267985</td>\n",
       "      <td>1.000021</td>\n",
       "      <td>26.953261</td>\n",
       "    </tr>\n",
       "    <tr>\n",
       "      <th>50%</th>\n",
       "      <td>1.153055</td>\n",
       "      <td>-4.813172</td>\n",
       "      <td>2.011479</td>\n",
       "      <td>57.085625</td>\n",
       "    </tr>\n",
       "    <tr>\n",
       "      <th>75%</th>\n",
       "      <td>8.621015</td>\n",
       "      <td>-1.332816</td>\n",
       "      <td>3.999904</td>\n",
       "      <td>107.813044</td>\n",
       "    </tr>\n",
       "    <tr>\n",
       "      <th>max</th>\n",
       "      <td>29.421755</td>\n",
       "      <td>18.734063</td>\n",
       "      <td>5.019721</td>\n",
       "      <td>137.945408</td>\n",
       "    </tr>\n",
       "  </tbody>\n",
       "</table>\n",
       "</div>"
      ],
      "text/plain": [
       "                  f0             f1             f2        product\n",
       "count  100000.000000  100000.000000  100000.000000  100000.000000\n",
       "mean        1.141296      -4.796579       2.494541      68.825000\n",
       "std         8.965932       5.119872       1.703572      45.944423\n",
       "min       -31.609576     -26.358598      -0.018144       0.000000\n",
       "25%        -6.298551      -8.267985       1.000021      26.953261\n",
       "50%         1.153055      -4.813172       2.011479      57.085625\n",
       "75%         8.621015      -1.332816       3.999904     107.813044\n",
       "max        29.421755      18.734063       5.019721     137.945408"
      ]
     },
     "execution_count": 72,
     "metadata": {},
     "output_type": "execute_result"
    }
   ],
   "source": [
    "# Вывод списка характерных значений\n",
    "df1.describe()"
   ]
  },
  {
   "cell_type": "code",
   "execution_count": 73,
   "metadata": {},
   "outputs": [
    {
     "data": {
      "text/plain": [
       "0"
      ]
     },
     "execution_count": 73,
     "metadata": {},
     "output_type": "execute_result"
    }
   ],
   "source": [
    "# Определение количества явных дубликатов\n",
    "df1.duplicated().sum()"
   ]
  },
  {
   "cell_type": "code",
   "execution_count": 74,
   "metadata": {
    "scrolled": true
   },
   "outputs": [
    {
     "data": {
      "text/plain": [
       "wt4Uk    2\n",
       "LHZR0    2\n",
       "5ltQ6    2\n",
       "bfPNe    2\n",
       "kBEdx    1\n",
       "        ..\n",
       "eup2F    1\n",
       "5Z8yO    1\n",
       "HwvM0    1\n",
       "MZgPf    1\n",
       "relB0    1\n",
       "Name: id, Length: 99996, dtype: int64"
      ]
     },
     "execution_count": 74,
     "metadata": {},
     "output_type": "execute_result"
    }
   ],
   "source": [
    "# Определение количества неявных дубликатов в колонке 'id'\n",
    "df1['id'].value_counts()"
   ]
  },
  {
   "cell_type": "markdown",
   "metadata": {},
   "source": [
    "<div class=\"alert alert-block alert-warning\"><span style=\"color:green\"><font size=\"3\" face=\"Arial\"><b>Промежуточные выводы 2.2.2:<b/></span><br>\n",
    "    <br>\n",
    "<span style=\"color:steelblue\"><font size=\"3\" face=\"Courier\"><b>В колонке с уникальными идентификаторами скважин 'id' обнаружены дубликаты. Информацию необходимо уточнить. В виду их малого количества удалю, оставляя первое значение.</b></span></div>"
   ]
  },
  {
   "cell_type": "code",
   "execution_count": 75,
   "metadata": {
    "scrolled": true
   },
   "outputs": [
    {
     "data": {
      "text/plain": [
       "53.906522     8472\n",
       "26.953261     8468\n",
       "84.038886     8431\n",
       "57.085625     8390\n",
       "3.179103      8337\n",
       "80.859783     8320\n",
       "30.132364     8306\n",
       "134.766305    8304\n",
       "110.992147    8303\n",
       "0.000000      8235\n",
       "137.945408    8233\n",
       "107.813044    8201\n",
       "Name: product, dtype: int64"
      ]
     },
     "execution_count": 75,
     "metadata": {},
     "output_type": "execute_result"
    }
   ],
   "source": [
    "# Определение количества неявных дубликатов в колонке 'product'\n",
    "df1['product'].value_counts()"
   ]
  },
  {
   "cell_type": "markdown",
   "metadata": {},
   "source": [
    "<div class=\"alert alert-block alert-warning\"><span style=\"color:green\"><font size=\"3\" face=\"Arial\"><b>Промежуточные выводы 2.2.3:<b/></span><br>\n",
    "    <br>\n",
    "<span style=\"color:steelblue\"><font size=\"3\" face=\"Courier\"><b>В колонке с объёмом запасов скважин 'product' содержится 12 уникальных значений.</b></span></div>"
   ]
  },
  {
   "cell_type": "markdown",
   "metadata": {},
   "source": [
    "### Изучение датафрейма df2"
   ]
  },
  {
   "cell_type": "code",
   "execution_count": 76,
   "metadata": {},
   "outputs": [
    {
     "name": "stdout",
     "output_type": "stream",
     "text": [
      "<class 'pandas.core.frame.DataFrame'>\n",
      "RangeIndex: 100000 entries, 0 to 99999\n",
      "Data columns (total 5 columns):\n",
      " #   Column   Non-Null Count   Dtype  \n",
      "---  ------   --------------   -----  \n",
      " 0   id       100000 non-null  object \n",
      " 1   f0       100000 non-null  float64\n",
      " 2   f1       100000 non-null  float64\n",
      " 3   f2       100000 non-null  float64\n",
      " 4   product  100000 non-null  float64\n",
      "dtypes: float64(4), object(1)\n",
      "memory usage: 3.8+ MB\n"
     ]
    }
   ],
   "source": [
    "# Вывод общей информации\n",
    "df2.info()"
   ]
  },
  {
   "cell_type": "code",
   "execution_count": 77,
   "metadata": {},
   "outputs": [
    {
     "data": {
      "text/html": [
       "<div>\n",
       "<style scoped>\n",
       "    .dataframe tbody tr th:only-of-type {\n",
       "        vertical-align: middle;\n",
       "    }\n",
       "\n",
       "    .dataframe tbody tr th {\n",
       "        vertical-align: top;\n",
       "    }\n",
       "\n",
       "    .dataframe thead th {\n",
       "        text-align: right;\n",
       "    }\n",
       "</style>\n",
       "<table border=\"1\" class=\"dataframe\">\n",
       "  <thead>\n",
       "    <tr style=\"text-align: right;\">\n",
       "      <th></th>\n",
       "      <th>f0</th>\n",
       "      <th>f1</th>\n",
       "      <th>f2</th>\n",
       "      <th>product</th>\n",
       "    </tr>\n",
       "  </thead>\n",
       "  <tbody>\n",
       "    <tr>\n",
       "      <th>count</th>\n",
       "      <td>100000.000000</td>\n",
       "      <td>100000.000000</td>\n",
       "      <td>100000.000000</td>\n",
       "      <td>100000.000000</td>\n",
       "    </tr>\n",
       "    <tr>\n",
       "      <th>mean</th>\n",
       "      <td>0.002023</td>\n",
       "      <td>-0.002081</td>\n",
       "      <td>2.495128</td>\n",
       "      <td>95.000000</td>\n",
       "    </tr>\n",
       "    <tr>\n",
       "      <th>std</th>\n",
       "      <td>1.732045</td>\n",
       "      <td>1.730417</td>\n",
       "      <td>3.473445</td>\n",
       "      <td>44.749921</td>\n",
       "    </tr>\n",
       "    <tr>\n",
       "      <th>min</th>\n",
       "      <td>-8.760004</td>\n",
       "      <td>-7.084020</td>\n",
       "      <td>-11.970335</td>\n",
       "      <td>0.000000</td>\n",
       "    </tr>\n",
       "    <tr>\n",
       "      <th>25%</th>\n",
       "      <td>-1.162288</td>\n",
       "      <td>-1.174820</td>\n",
       "      <td>0.130359</td>\n",
       "      <td>59.450441</td>\n",
       "    </tr>\n",
       "    <tr>\n",
       "      <th>50%</th>\n",
       "      <td>0.009424</td>\n",
       "      <td>-0.009482</td>\n",
       "      <td>2.484236</td>\n",
       "      <td>94.925613</td>\n",
       "    </tr>\n",
       "    <tr>\n",
       "      <th>75%</th>\n",
       "      <td>1.158535</td>\n",
       "      <td>1.163678</td>\n",
       "      <td>4.858794</td>\n",
       "      <td>130.595027</td>\n",
       "    </tr>\n",
       "    <tr>\n",
       "      <th>max</th>\n",
       "      <td>7.238262</td>\n",
       "      <td>7.844801</td>\n",
       "      <td>16.739402</td>\n",
       "      <td>190.029838</td>\n",
       "    </tr>\n",
       "  </tbody>\n",
       "</table>\n",
       "</div>"
      ],
      "text/plain": [
       "                  f0             f1             f2        product\n",
       "count  100000.000000  100000.000000  100000.000000  100000.000000\n",
       "mean        0.002023      -0.002081       2.495128      95.000000\n",
       "std         1.732045       1.730417       3.473445      44.749921\n",
       "min        -8.760004      -7.084020     -11.970335       0.000000\n",
       "25%        -1.162288      -1.174820       0.130359      59.450441\n",
       "50%         0.009424      -0.009482       2.484236      94.925613\n",
       "75%         1.158535       1.163678       4.858794     130.595027\n",
       "max         7.238262       7.844801      16.739402     190.029838"
      ]
     },
     "execution_count": 77,
     "metadata": {},
     "output_type": "execute_result"
    }
   ],
   "source": [
    "# Вывод списка характерных значений\n",
    "df2.describe()"
   ]
  },
  {
   "cell_type": "code",
   "execution_count": 78,
   "metadata": {},
   "outputs": [
    {
     "data": {
      "text/plain": [
       "0"
      ]
     },
     "execution_count": 78,
     "metadata": {},
     "output_type": "execute_result"
    }
   ],
   "source": [
    "# Определение количества явных дубликатов\n",
    "df2.duplicated().sum()"
   ]
  },
  {
   "cell_type": "code",
   "execution_count": 79,
   "metadata": {},
   "outputs": [
    {
     "data": {
      "text/plain": [
       "VF7Jo    2\n",
       "KUPhW    2\n",
       "xCHr8    2\n",
       "Vcm5J    2\n",
       "fwXo0    1\n",
       "        ..\n",
       "bdHH6    1\n",
       "copuS    1\n",
       "hZYbu    1\n",
       "7K1cP    1\n",
       "V9kWn    1\n",
       "Name: id, Length: 99996, dtype: int64"
      ]
     },
     "execution_count": 79,
     "metadata": {},
     "output_type": "execute_result"
    }
   ],
   "source": [
    "# Определение количества неявных дубликатов в колонке 'id'\n",
    "df2['id'].value_counts()"
   ]
  },
  {
   "cell_type": "markdown",
   "metadata": {},
   "source": [
    "<div class=\"alert alert-block alert-warning\"><span style=\"color:green\"><font size=\"3\" face=\"Arial\"><b>Промежуточные выводы 2.2.4:<b/></span><br>\n",
    "    <br>\n",
    "<span style=\"color:steelblue\"><font size=\"3\" face=\"Courier\"><b>В колонке с уникальными идентификаторами скважин 'id' обнаружены дубликаты. Информацию необходимо уточнить. В виду их малого количества удалю, оставляя первое значение.</b></span></div>"
   ]
  },
  {
   "cell_type": "code",
   "execution_count": 80,
   "metadata": {},
   "outputs": [
    {
     "data": {
      "text/plain": [
       "27.758673     1\n",
       "145.850966    1\n",
       "51.061821     1\n",
       "51.767755     1\n",
       "127.557176    1\n",
       "             ..\n",
       "138.662027    1\n",
       "171.123264    1\n",
       "102.381336    1\n",
       "140.622292    1\n",
       "102.775767    1\n",
       "Name: product, Length: 100000, dtype: int64"
      ]
     },
     "execution_count": 80,
     "metadata": {},
     "output_type": "execute_result"
    }
   ],
   "source": [
    "# Определение количества неявных дубликатов в колонке 'product'\n",
    "df2['product'].value_counts()"
   ]
  },
  {
   "cell_type": "markdown",
   "metadata": {},
   "source": [
    "### Исследовательский анализ данных"
   ]
  },
  {
   "cell_type": "code",
   "execution_count": 81,
   "metadata": {},
   "outputs": [],
   "source": [
    "# Формирование списка датафреймов для цикла\n",
    "# построения диаграмм размаха\n",
    "df_list = [df0, df1, df2]"
   ]
  },
  {
   "cell_type": "code",
   "execution_count": 82,
   "metadata": {},
   "outputs": [],
   "source": [
    "# Формирование списка названий датафреймов для цикла\n",
    "# построения диаграмм размаха\n",
    "name_list = ['df0', 'df1', 'df2']"
   ]
  },
  {
   "cell_type": "code",
   "execution_count": 83,
   "metadata": {},
   "outputs": [],
   "source": [
    "# Формирование списка колонок для цикла\n",
    "# построения диаграмм размаха\n",
    "columns_list = ['f0', 'f1', 'f2']"
   ]
  },
  {
   "cell_type": "code",
   "execution_count": 84,
   "metadata": {
    "scrolled": false
   },
   "outputs": [
    {
     "data": {
      "image/png": "[encoded data removed]",
      "text/plain": [
       "<Figure size 1440x720 with 1 Axes>"
      ]
     },
     "metadata": {
      "needs_background": "light"
     },
     "output_type": "display_data"
    },
    {
     "data": {
      "image/png": "[encoded data removed]",
      "text/plain": [
       "<Figure size 1440x720 with 1 Axes>"
      ]
     },
     "metadata": {
      "needs_background": "light"
     },
     "output_type": "display_data"
    },
    {
     "data": {
      "image/png": "[encoded data removed]",
      "text/plain": [
       "<Figure size 1440x720 with 1 Axes>"
      ]
     },
     "metadata": {
      "needs_background": "light"
     },
     "output_type": "display_data"
    }
   ],
   "source": [
    "# Цикл построения диаграммы размаха для признаков\n",
    "# в колоноках 'f0', 'f1', 'f2'\n",
    "for i in range(len(df_list)):\n",
    "    plt.figure(figsize=(20, 10))\n",
    "    sns.boxplot(data=df_list[i][columns_list])\n",
    "    plt.title(f'ДИАГРАММА РАЗМАХА {name_list[i]}')\n",
    "    plt.grid(visible=True)\n",
    "    plt.ylim()\n",
    "    plt.show()"
   ]
  },
  {
   "cell_type": "markdown",
   "metadata": {},
   "source": [
    "<div class=\"alert alert-block alert-warning\"><span style=\"color:green\"><font size=\"3\" face=\"Arial\"><b>Промежуточные выводы 2.2.5:<b/></span><br>\n",
    "    <br>\n",
    "<span style=\"color:steelblue\"><font size=\"3\" face=\"Courier\"><b>Аномальные выбросы не обнаружены.<br>\n",
    "    В колонках есть незначительные выбросы, но они адекватные, поэтому оставляю их.</b></span></div>"
   ]
  },
  {
   "cell_type": "markdown",
   "metadata": {},
   "source": [
    "### Работа с таблицами"
   ]
  },
  {
   "cell_type": "markdown",
   "metadata": {},
   "source": [
    "#### Работа с датафреймом df0"
   ]
  },
  {
   "cell_type": "code",
   "execution_count": 85,
   "metadata": {},
   "outputs": [],
   "source": [
    "# Удаление дубликатов с одинаковым id\n",
    "df0.drop_duplicates(subset='id', inplace=True)"
   ]
  },
  {
   "cell_type": "code",
   "execution_count": 86,
   "metadata": {},
   "outputs": [],
   "source": [
    "# Сброс индексов\n",
    "df0.reset_index(drop=True, inplace=True)"
   ]
  },
  {
   "cell_type": "code",
   "execution_count": 87,
   "metadata": {},
   "outputs": [
    {
     "data": {
      "text/plain": [
       "txEyH    1\n",
       "Jgu8K    1\n",
       "eIjPq    1\n",
       "mOKqH    1\n",
       "H9kV7    1\n",
       "        ..\n",
       "lMXHv    1\n",
       "DKexz    1\n",
       "9rWUr    1\n",
       "AYCsD    1\n",
       "1CWhH    1\n",
       "Name: id, Length: 99990, dtype: int64"
      ]
     },
     "execution_count": 87,
     "metadata": {},
     "output_type": "execute_result"
    }
   ],
   "source": [
    "# Вывод уникальных значений в колонке 'id'\n",
    "df0['id'].value_counts()"
   ]
  },
  {
   "cell_type": "markdown",
   "metadata": {},
   "source": [
    "#### Работа с датафреймом df1"
   ]
  },
  {
   "cell_type": "code",
   "execution_count": 88,
   "metadata": {},
   "outputs": [],
   "source": [
    "# Удаление дубликатов с одинаковым id\n",
    "df1.drop_duplicates(subset='id', inplace=True)"
   ]
  },
  {
   "cell_type": "code",
   "execution_count": 89,
   "metadata": {},
   "outputs": [],
   "source": [
    "# Сброс индексов\n",
    "df1.reset_index(drop=True, inplace=True)"
   ]
  },
  {
   "cell_type": "code",
   "execution_count": 90,
   "metadata": {},
   "outputs": [
    {
     "data": {
      "text/plain": [
       "kBEdx    1\n",
       "7f8tI    1\n",
       "ENYw9    1\n",
       "gMInh    1\n",
       "uPzFJ    1\n",
       "        ..\n",
       "HwvM0    1\n",
       "MZgPf    1\n",
       "QwTDR    1\n",
       "q7YYT    1\n",
       "relB0    1\n",
       "Name: id, Length: 99996, dtype: int64"
      ]
     },
     "execution_count": 90,
     "metadata": {},
     "output_type": "execute_result"
    }
   ],
   "source": [
    "# Вывод уникальных значений в колонке 'id'\n",
    "df1['id'].value_counts()"
   ]
  },
  {
   "cell_type": "markdown",
   "metadata": {},
   "source": [
    "#### Работа с датафреймом df2"
   ]
  },
  {
   "cell_type": "code",
   "execution_count": 91,
   "metadata": {},
   "outputs": [],
   "source": [
    "# Удаление дубликатов с одинаковым id\n",
    "df2.drop_duplicates(subset='id', inplace=True)"
   ]
  },
  {
   "cell_type": "code",
   "execution_count": 92,
   "metadata": {},
   "outputs": [],
   "source": [
    "# Сброс индексов\n",
    "df2.reset_index(drop=True, inplace=True)"
   ]
  },
  {
   "cell_type": "code",
   "execution_count": 93,
   "metadata": {
    "scrolled": true
   },
   "outputs": [
    {
     "data": {
      "text/plain": [
       "fwXo0    1\n",
       "1iFtt    1\n",
       "2x2Ru    1\n",
       "gtl32    1\n",
       "V5b65    1\n",
       "        ..\n",
       "copuS    1\n",
       "hZYbu    1\n",
       "7K1cP    1\n",
       "sUKJy    1\n",
       "V9kWn    1\n",
       "Name: id, Length: 99996, dtype: int64"
      ]
     },
     "execution_count": 93,
     "metadata": {},
     "output_type": "execute_result"
    }
   ],
   "source": [
    "# Вывод уникальных значений в колонке 'id'\n",
    "df2['id'].value_counts()"
   ]
  },
  {
   "cell_type": "markdown",
   "metadata": {},
   "source": [
    "<div class=\"alert alert-block alert-warning\"><span style=\"color:green\"><font size=\"3\" face=\"Arial\"><b>Промежуточные выводы 2.2.6:<b/></span><br>\n",
    "    <br>\n",
    "<span style=\"color:steelblue\"><font size=\"3\" face=\"Courier\"><b>Все дубликаты в колонке 'id' удалены.</b></span></div>"
   ]
  },
  {
   "cell_type": "markdown",
   "metadata": {},
   "source": [
    "### Вывод"
   ]
  },
  {
   "cell_type": "markdown",
   "metadata": {},
   "source": [
    "<div class=\"alert alert-block alert-warning\">\n",
    "    \n",
    "<span style=\"color:steelblue\"><font size=\"3\" face=\"Courier\"><b>1. Названия колонок написаны с соблюдением змеиного стиля.<br>\n",
    "    2. Пропуски, аномалии и явные дубликаты не обнаружены.<br>\n",
    "    3.1. Во всех трёх датафреймах колонка 'id' содержала неявные дубликаты, которые успешно удалил.<br>\n",
    "    3.2. Колонка 'id' содержит уникальный идентификатор скважины в виде категориальных переменных и не влияет на процесс обучения модели. Колонку можно удалить.<br>\n",
    "    4. В колонке 'product' содержатся количественные целевые признаки, поэтому решается задача регрессии.</b></span></div>"
   ]
  },
  {
   "cell_type": "markdown",
   "metadata": {},
   "source": [
    "## Обучение и проверка модели"
   ]
  },
  {
   "cell_type": "markdown",
   "metadata": {},
   "source": [
    "### Создание функции, формирующей обученные модели"
   ]
  },
  {
   "cell_type": "code",
   "execution_count": 94,
   "metadata": {},
   "outputs": [],
   "source": [
    "# Создание функции model_select(), обучающей модели\n",
    "# для задач регрессии с расчётом метрик качества\n",
    "# 1. Объявление функции model_select() и задание\n",
    "# параметров данной функции\n",
    "def model_select(\n",
    "    model_name,\n",
    "    features_train_income,\n",
    "    target_train_income,\n",
    "    features_valid_income,\n",
    "    target_valid_income\n",
    "):\n",
    "    # C.2.1. Логическое условие для отбора и обучения\n",
    "    # модели логистической ргрессии\n",
    "    if model_name == LinearRegression:\n",
    "        # С.2.2 Создание переменной, содержащей список списков для\n",
    "        # заполнения значениями максимального количества итераций,\n",
    "        # метрик качества из списка\n",
    "        data_value = []\n",
    "        # С.2.3. Создание переменной со списком названий колонок\n",
    "        columns_name = [\n",
    "            'product_predicted_mean',\n",
    "            'mse_valid',\n",
    "            'rmse_valid',\n",
    "            'r2_valid'\n",
    "        ]\n",
    "        # C.3.1. Создание объекта структуры данных\n",
    "        model = model_name()\n",
    "        # C.3.2. Запуск обучения модели на обучающей выборке\n",
    "        model.fit(features_train_income, target_train_income)\n",
    "        # C.3.3. Создание переменной с предсказаниями\n",
    "        # по валидационной выборке признаков\n",
    "        predictions_valid = model.predict(features_valid_income)\n",
    "        # C.3.4. Создание переменной со значением средней квадратичной ошибки (MSE)\n",
    "        # обученной модели на валидационных целевых признаках\n",
    "        mse_valid = mean_squared_error(target_valid_income, predictions_valid)\n",
    "        # C.3.5. Создание переменной со значением коэффициента детерминации (R2)\n",
    "        # обученной модели на валидационных целевых признаках\n",
    "        r2_valid = r2_score(target_valid_income, predictions_valid)\n",
    "        # C.3.6. Заполнение списка в переменной data_value\n",
    "        # значениями средней квадратичной ошибки (MSE),\n",
    "        # квадратного корня из MSE (RMSE), коэффициента\n",
    "        # детерминации (R2)\n",
    "        data_value.append(\n",
    "            [\n",
    "                predictions_valid.mean(),\n",
    "                mse_valid,\n",
    "                mse_valid ** .5,\n",
    "                r2_valid\n",
    "            ]\n",
    "        )\n",
    "        # C.4. Формирование датафрейма с полученными значениями\n",
    "        # средней квадратичной ошибки (MSE), квадратного корня из\n",
    "        # MSE (RMSE), коэффициента детерминации (R2)\n",
    "        new_data = pd.DataFrame(data=data_value, columns=columns_name)\n",
    "        # С.5. Вывод на экран лучшего значения правильности\n",
    "        # и значений параметров обучения модели\n",
    "        print()\n",
    "        print('Значения среднего запаса предсказанного сырья, средней квадратичной ошибки (MSE), квадратного корня из MSE (RMSE), коэффициента детерминации (R2) на валидационной выборке:')\n",
    "        # C.6. Вывод сформированного датафрейма new_data на экран\n",
    "        display(new_data)\n",
    "        print()\n",
    "        # C.7. Возвращение функции\n",
    "        return model, predictions_valid"
   ]
  },
  {
   "cell_type": "markdown",
   "metadata": {},
   "source": [
    "### Работа с моделью по датафрейму df0"
   ]
  },
  {
   "cell_type": "markdown",
   "metadata": {},
   "source": [
    "#### Формирование базовых таблиц"
   ]
  },
  {
   "cell_type": "code",
   "execution_count": 95,
   "metadata": {},
   "outputs": [
    {
     "data": {
      "text/html": [
       "<div>\n",
       "<style scoped>\n",
       "    .dataframe tbody tr th:only-of-type {\n",
       "        vertical-align: middle;\n",
       "    }\n",
       "\n",
       "    .dataframe tbody tr th {\n",
       "        vertical-align: top;\n",
       "    }\n",
       "\n",
       "    .dataframe thead th {\n",
       "        text-align: right;\n",
       "    }\n",
       "</style>\n",
       "<table border=\"1\" class=\"dataframe\">\n",
       "  <thead>\n",
       "    <tr style=\"text-align: right;\">\n",
       "      <th></th>\n",
       "      <th>f0</th>\n",
       "      <th>f1</th>\n",
       "      <th>f2</th>\n",
       "    </tr>\n",
       "  </thead>\n",
       "  <tbody>\n",
       "    <tr>\n",
       "      <th>0</th>\n",
       "      <td>0.705745</td>\n",
       "      <td>-0.497823</td>\n",
       "      <td>1.221170</td>\n",
       "    </tr>\n",
       "    <tr>\n",
       "      <th>1</th>\n",
       "      <td>1.334711</td>\n",
       "      <td>-0.340164</td>\n",
       "      <td>4.365080</td>\n",
       "    </tr>\n",
       "    <tr>\n",
       "      <th>2</th>\n",
       "      <td>1.022732</td>\n",
       "      <td>0.151990</td>\n",
       "      <td>1.419926</td>\n",
       "    </tr>\n",
       "    <tr>\n",
       "      <th>3</th>\n",
       "      <td>-0.032172</td>\n",
       "      <td>0.139033</td>\n",
       "      <td>2.978566</td>\n",
       "    </tr>\n",
       "    <tr>\n",
       "      <th>4</th>\n",
       "      <td>1.988431</td>\n",
       "      <td>0.155413</td>\n",
       "      <td>4.751769</td>\n",
       "    </tr>\n",
       "    <tr>\n",
       "      <th>...</th>\n",
       "      <td>...</td>\n",
       "      <td>...</td>\n",
       "      <td>...</td>\n",
       "    </tr>\n",
       "    <tr>\n",
       "      <th>99985</th>\n",
       "      <td>0.971957</td>\n",
       "      <td>0.370953</td>\n",
       "      <td>6.075346</td>\n",
       "    </tr>\n",
       "    <tr>\n",
       "      <th>99986</th>\n",
       "      <td>1.392429</td>\n",
       "      <td>-0.382606</td>\n",
       "      <td>1.273912</td>\n",
       "    </tr>\n",
       "    <tr>\n",
       "      <th>99987</th>\n",
       "      <td>1.029585</td>\n",
       "      <td>0.018787</td>\n",
       "      <td>-1.348308</td>\n",
       "    </tr>\n",
       "    <tr>\n",
       "      <th>99988</th>\n",
       "      <td>0.998163</td>\n",
       "      <td>-0.528582</td>\n",
       "      <td>1.583869</td>\n",
       "    </tr>\n",
       "    <tr>\n",
       "      <th>99989</th>\n",
       "      <td>1.764754</td>\n",
       "      <td>-0.266417</td>\n",
       "      <td>5.722849</td>\n",
       "    </tr>\n",
       "  </tbody>\n",
       "</table>\n",
       "<p>99990 rows × 3 columns</p>\n",
       "</div>"
      ],
      "text/plain": [
       "             f0        f1        f2\n",
       "0      0.705745 -0.497823  1.221170\n",
       "1      1.334711 -0.340164  4.365080\n",
       "2      1.022732  0.151990  1.419926\n",
       "3     -0.032172  0.139033  2.978566\n",
       "4      1.988431  0.155413  4.751769\n",
       "...         ...       ...       ...\n",
       "99985  0.971957  0.370953  6.075346\n",
       "99986  1.392429 -0.382606  1.273912\n",
       "99987  1.029585  0.018787 -1.348308\n",
       "99988  0.998163 -0.528582  1.583869\n",
       "99989  1.764754 -0.266417  5.722849\n",
       "\n",
       "[99990 rows x 3 columns]"
      ]
     },
     "execution_count": 95,
     "metadata": {},
     "output_type": "execute_result"
    }
   ],
   "source": [
    "# Формирование и вывод на экран базового\n",
    "# датафрейма с признаками (вопросами)\n",
    "features0 = df0.drop(columns=['id', 'product'], axis=1)\n",
    "features0"
   ]
  },
  {
   "cell_type": "code",
   "execution_count": 96,
   "metadata": {},
   "outputs": [
    {
     "data": {
      "text/plain": [
       "0        105.280062\n",
       "1         73.037750\n",
       "2         85.265647\n",
       "3        168.620776\n",
       "4        154.036647\n",
       "            ...    \n",
       "99985    110.744026\n",
       "99986    122.346843\n",
       "99987     64.375443\n",
       "99988     74.040764\n",
       "99989    149.633246\n",
       "Name: product, Length: 99990, dtype: float64"
      ]
     },
     "execution_count": 96,
     "metadata": {},
     "output_type": "execute_result"
    }
   ],
   "source": [
    "# Формирование и вывод на экран базового\n",
    "# Series с целевыми признаками (ответами)\n",
    "target0 = df0['product']\n",
    "target0"
   ]
  },
  {
   "cell_type": "markdown",
   "metadata": {},
   "source": [
    "#### Формирование обучающей и валидационной выборок"
   ]
  },
  {
   "cell_type": "code",
   "execution_count": 97,
   "metadata": {},
   "outputs": [],
   "source": [
    "# Формирование обучающей и валидационной выборок с\n",
    "# признаками (вопросами) и целевыми признаками(ответами)\n",
    "features_train0, features_valid0, target_train0, target_valid0 = train_test_split(\n",
    "    features0,\n",
    "    target0,\n",
    "    test_size=.25,\n",
    "    random_state=777\n",
    ")"
   ]
  },
  {
   "cell_type": "code",
   "execution_count": 98,
   "metadata": {},
   "outputs": [
    {
     "data": {
      "text/plain": [
       "(74992, 3)"
      ]
     },
     "execution_count": 98,
     "metadata": {},
     "output_type": "execute_result"
    }
   ],
   "source": [
    "# Вывод размера features_train0\n",
    "features_train0.shape"
   ]
  },
  {
   "cell_type": "code",
   "execution_count": 99,
   "metadata": {},
   "outputs": [
    {
     "data": {
      "text/plain": [
       "74992"
      ]
     },
     "execution_count": 99,
     "metadata": {},
     "output_type": "execute_result"
    }
   ],
   "source": [
    "# Вывод размера target_train0\n",
    "len(target_train0)"
   ]
  },
  {
   "cell_type": "markdown",
   "metadata": {},
   "source": [
    "#### Обучение модели линейной регрессии - LinearRegression"
   ]
  },
  {
   "cell_type": "code",
   "execution_count": 100,
   "metadata": {
    "scrolled": true
   },
   "outputs": [
    {
     "name": "stdout",
     "output_type": "stream",
     "text": [
      "\n",
      "Значения среднего запаса предсказанного сырья, средней квадратичной ошибки (MSE), квадратного корня из MSE (RMSE), коэффициента детерминации (R2) на валидационной выборке:\n"
     ]
    },
    {
     "data": {
      "text/html": [
       "<div>\n",
       "<style scoped>\n",
       "    .dataframe tbody tr th:only-of-type {\n",
       "        vertical-align: middle;\n",
       "    }\n",
       "\n",
       "    .dataframe tbody tr th {\n",
       "        vertical-align: top;\n",
       "    }\n",
       "\n",
       "    .dataframe thead th {\n",
       "        text-align: right;\n",
       "    }\n",
       "</style>\n",
       "<table border=\"1\" class=\"dataframe\">\n",
       "  <thead>\n",
       "    <tr style=\"text-align: right;\">\n",
       "      <th></th>\n",
       "      <th>product_predicted_mean</th>\n",
       "      <th>mse_valid</th>\n",
       "      <th>rmse_valid</th>\n",
       "      <th>r2_valid</th>\n",
       "    </tr>\n",
       "  </thead>\n",
       "  <tbody>\n",
       "    <tr>\n",
       "      <th>0</th>\n",
       "      <td>92.589275</td>\n",
       "      <td>1418.831531</td>\n",
       "      <td>37.66738</td>\n",
       "      <td>0.276321</td>\n",
       "    </tr>\n",
       "  </tbody>\n",
       "</table>\n",
       "</div>"
      ],
      "text/plain": [
       "   product_predicted_mean    mse_valid  rmse_valid  r2_valid\n",
       "0               92.589275  1418.831531    37.66738  0.276321"
      ]
     },
     "metadata": {},
     "output_type": "display_data"
    },
    {
     "name": "stdout",
     "output_type": "stream",
     "text": [
      "\n",
      "CPU times: total: 0 ns\n",
      "Wall time: 8 ms\n"
     ]
    }
   ],
   "source": [
    "%%time\n",
    "# Формирование и обучение модели линейной регрессии\n",
    "# с выводом времени обучения\n",
    "model_linear0, predictions_valid0 = model_select(\n",
    "    LinearRegression,\n",
    "    features_train0,\n",
    "    target_train0,\n",
    "    features_valid0,\n",
    "    target_valid0\n",
    ")"
   ]
  },
  {
   "cell_type": "markdown",
   "metadata": {},
   "source": [
    "#### Вывод"
   ]
  },
  {
   "cell_type": "markdown",
   "metadata": {},
   "source": [
    "<div class=\"alert alert-block alert-warning\">\n",
    "    \n",
    "<span style=\"color:steelblue\"><font size=\"3\" face=\"Courier\"><b>1. Средний запас предсказанного сырья составляет 92.5 тысяч баррелей.<br>\n",
    "    2. Квадратный корень из средней квадратичной ошибки (RMSE) при прогнозировании запаса равен 37.6 тысяч баррелей. Разброс около 40% от среднего.<br>\n",
    "    3. Коэффициент детерминации (R2) 0.276321 показывает довольно низкое качество предсказаний модели - велика доля средней квадратичной ошибки модели от средней квадратичной ошибки среднего константной модели.</b></span></div>"
   ]
  },
  {
   "cell_type": "markdown",
   "metadata": {},
   "source": [
    "### Работа с моделью по датафрейму df1"
   ]
  },
  {
   "cell_type": "markdown",
   "metadata": {},
   "source": [
    "#### Формирование базовых таблиц"
   ]
  },
  {
   "cell_type": "code",
   "execution_count": 101,
   "metadata": {},
   "outputs": [
    {
     "data": {
      "text/html": [
       "<div>\n",
       "<style scoped>\n",
       "    .dataframe tbody tr th:only-of-type {\n",
       "        vertical-align: middle;\n",
       "    }\n",
       "\n",
       "    .dataframe tbody tr th {\n",
       "        vertical-align: top;\n",
       "    }\n",
       "\n",
       "    .dataframe thead th {\n",
       "        text-align: right;\n",
       "    }\n",
       "</style>\n",
       "<table border=\"1\" class=\"dataframe\">\n",
       "  <thead>\n",
       "    <tr style=\"text-align: right;\">\n",
       "      <th></th>\n",
       "      <th>f0</th>\n",
       "      <th>f1</th>\n",
       "      <th>f2</th>\n",
       "    </tr>\n",
       "  </thead>\n",
       "  <tbody>\n",
       "    <tr>\n",
       "      <th>0</th>\n",
       "      <td>-15.001348</td>\n",
       "      <td>-8.276000</td>\n",
       "      <td>-0.005876</td>\n",
       "    </tr>\n",
       "    <tr>\n",
       "      <th>1</th>\n",
       "      <td>14.272088</td>\n",
       "      <td>-3.475083</td>\n",
       "      <td>0.999183</td>\n",
       "    </tr>\n",
       "    <tr>\n",
       "      <th>2</th>\n",
       "      <td>6.263187</td>\n",
       "      <td>-5.948386</td>\n",
       "      <td>5.001160</td>\n",
       "    </tr>\n",
       "    <tr>\n",
       "      <th>3</th>\n",
       "      <td>-13.081196</td>\n",
       "      <td>-11.506057</td>\n",
       "      <td>4.999415</td>\n",
       "    </tr>\n",
       "    <tr>\n",
       "      <th>4</th>\n",
       "      <td>12.702195</td>\n",
       "      <td>-8.147433</td>\n",
       "      <td>5.004363</td>\n",
       "    </tr>\n",
       "    <tr>\n",
       "      <th>...</th>\n",
       "      <td>...</td>\n",
       "      <td>...</td>\n",
       "      <td>...</td>\n",
       "    </tr>\n",
       "    <tr>\n",
       "      <th>99991</th>\n",
       "      <td>9.535637</td>\n",
       "      <td>-6.878139</td>\n",
       "      <td>1.998296</td>\n",
       "    </tr>\n",
       "    <tr>\n",
       "      <th>99992</th>\n",
       "      <td>-10.160631</td>\n",
       "      <td>-12.558096</td>\n",
       "      <td>5.005581</td>\n",
       "    </tr>\n",
       "    <tr>\n",
       "      <th>99993</th>\n",
       "      <td>-7.378891</td>\n",
       "      <td>-3.084104</td>\n",
       "      <td>4.998651</td>\n",
       "    </tr>\n",
       "    <tr>\n",
       "      <th>99994</th>\n",
       "      <td>0.665714</td>\n",
       "      <td>-6.152593</td>\n",
       "      <td>1.000146</td>\n",
       "    </tr>\n",
       "    <tr>\n",
       "      <th>99995</th>\n",
       "      <td>-3.426139</td>\n",
       "      <td>-7.794274</td>\n",
       "      <td>-0.003299</td>\n",
       "    </tr>\n",
       "  </tbody>\n",
       "</table>\n",
       "<p>99996 rows × 3 columns</p>\n",
       "</div>"
      ],
      "text/plain": [
       "              f0         f1        f2\n",
       "0     -15.001348  -8.276000 -0.005876\n",
       "1      14.272088  -3.475083  0.999183\n",
       "2       6.263187  -5.948386  5.001160\n",
       "3     -13.081196 -11.506057  4.999415\n",
       "4      12.702195  -8.147433  5.004363\n",
       "...          ...        ...       ...\n",
       "99991   9.535637  -6.878139  1.998296\n",
       "99992 -10.160631 -12.558096  5.005581\n",
       "99993  -7.378891  -3.084104  4.998651\n",
       "99994   0.665714  -6.152593  1.000146\n",
       "99995  -3.426139  -7.794274 -0.003299\n",
       "\n",
       "[99996 rows x 3 columns]"
      ]
     },
     "execution_count": 101,
     "metadata": {},
     "output_type": "execute_result"
    }
   ],
   "source": [
    "# Формирование и вывод на экран базового\n",
    "# датафрейма с признаками (вопросами)\n",
    "features1 = df1.drop(columns=['id', 'product'], axis=1)\n",
    "features1"
   ]
  },
  {
   "cell_type": "code",
   "execution_count": 102,
   "metadata": {},
   "outputs": [
    {
     "data": {
      "text/plain": [
       "0          3.179103\n",
       "1         26.953261\n",
       "2        134.766305\n",
       "3        137.945408\n",
       "4        134.766305\n",
       "            ...    \n",
       "99991     53.906522\n",
       "99992    137.945408\n",
       "99993    137.945408\n",
       "99994     30.132364\n",
       "99995      3.179103\n",
       "Name: product, Length: 99996, dtype: float64"
      ]
     },
     "execution_count": 102,
     "metadata": {},
     "output_type": "execute_result"
    }
   ],
   "source": [
    "# Формирование и вывод на экран базового\n",
    "# Series с целевыми признаками (ответами)\n",
    "target1 = df1['product']\n",
    "target1"
   ]
  },
  {
   "cell_type": "markdown",
   "metadata": {},
   "source": [
    "#### Формирование обучающей и валидационной выборок"
   ]
  },
  {
   "cell_type": "code",
   "execution_count": 103,
   "metadata": {},
   "outputs": [],
   "source": [
    "# Формирование обучающей и валидационной выборок с\n",
    "# признаками (вопросами) и целевыми признаками(ответами)\n",
    "features_train1, features_valid1, target_train1, target_valid1 = train_test_split(\n",
    "    features1,\n",
    "    target1,\n",
    "    test_size=.25,\n",
    "    random_state=777\n",
    ")"
   ]
  },
  {
   "cell_type": "code",
   "execution_count": 104,
   "metadata": {},
   "outputs": [
    {
     "data": {
      "text/plain": [
       "(74997, 3)"
      ]
     },
     "execution_count": 104,
     "metadata": {},
     "output_type": "execute_result"
    }
   ],
   "source": [
    "# Вывод размера features_train1\n",
    "features_train1.shape"
   ]
  },
  {
   "cell_type": "code",
   "execution_count": 105,
   "metadata": {},
   "outputs": [
    {
     "data": {
      "text/plain": [
       "74997"
      ]
     },
     "execution_count": 105,
     "metadata": {},
     "output_type": "execute_result"
    }
   ],
   "source": [
    "# Вывод размера target_train1\n",
    "len(target_train1)"
   ]
  },
  {
   "cell_type": "markdown",
   "metadata": {},
   "source": [
    "#### Обучение модели линейной регрессии - LinearRegression"
   ]
  },
  {
   "cell_type": "code",
   "execution_count": 106,
   "metadata": {},
   "outputs": [
    {
     "name": "stdout",
     "output_type": "stream",
     "text": [
      "\n",
      "Значения среднего запаса предсказанного сырья, средней квадратичной ошибки (MSE), квадратного корня из MSE (RMSE), коэффициента детерминации (R2) на валидационной выборке:\n"
     ]
    },
    {
     "data": {
      "text/html": [
       "<div>\n",
       "<style scoped>\n",
       "    .dataframe tbody tr th:only-of-type {\n",
       "        vertical-align: middle;\n",
       "    }\n",
       "\n",
       "    .dataframe tbody tr th {\n",
       "        vertical-align: top;\n",
       "    }\n",
       "\n",
       "    .dataframe thead th {\n",
       "        text-align: right;\n",
       "    }\n",
       "</style>\n",
       "<table border=\"1\" class=\"dataframe\">\n",
       "  <thead>\n",
       "    <tr style=\"text-align: right;\">\n",
       "      <th></th>\n",
       "      <th>product_predicted_mean</th>\n",
       "      <th>mse_valid</th>\n",
       "      <th>rmse_valid</th>\n",
       "      <th>r2_valid</th>\n",
       "    </tr>\n",
       "  </thead>\n",
       "  <tbody>\n",
       "    <tr>\n",
       "      <th>0</th>\n",
       "      <td>69.184714</td>\n",
       "      <td>0.794422</td>\n",
       "      <td>0.891304</td>\n",
       "      <td>0.999623</td>\n",
       "    </tr>\n",
       "  </tbody>\n",
       "</table>\n",
       "</div>"
      ],
      "text/plain": [
       "   product_predicted_mean  mse_valid  rmse_valid  r2_valid\n",
       "0               69.184714   0.794422    0.891304  0.999623"
      ]
     },
     "metadata": {},
     "output_type": "display_data"
    },
    {
     "name": "stdout",
     "output_type": "stream",
     "text": [
      "\n",
      "CPU times: total: 0 ns\n",
      "Wall time: 8 ms\n"
     ]
    }
   ],
   "source": [
    "%%time\n",
    "# Формирование и обучение модели линейной регрессии\n",
    "# с выводом времени обучения\n",
    "model_linear1, predictions_valid1 = model_select(\n",
    "    LinearRegression,\n",
    "    features_train1,\n",
    "    target_train1,\n",
    "    features_valid1,\n",
    "    target_valid1\n",
    ")"
   ]
  },
  {
   "cell_type": "markdown",
   "metadata": {},
   "source": [
    "#### Вывод"
   ]
  },
  {
   "cell_type": "markdown",
   "metadata": {},
   "source": [
    "<div class=\"alert alert-block alert-warning\">\n",
    "    \n",
    "<span style=\"color:steelblue\"><font size=\"3\" face=\"Courier\"><b>1. Средний запас предсказанного сырья составляет 69.18 тысяч баррелей.<br>\n",
    "    2. Квадратный корень из средней квадратичной ошибки (RMSE) при прогнозировании запаса равен 0.89 тысяч баррелей. Разброс около 1% от среднего.<br>\n",
    "    3. Коэффициент детерминации (R2) 0.999623 показывает высокое качество предсказаний модели - минимальна доля средней квадратичной ошибки модели от средней квадратичной ошибки среднего константной модели. Скорее всего это связано с малым количеством вариаций значений запасов в скажинах.</b></span></div>"
   ]
  },
  {
   "cell_type": "markdown",
   "metadata": {},
   "source": [
    "### Работа с моделью по датафрейму df2"
   ]
  },
  {
   "cell_type": "markdown",
   "metadata": {},
   "source": [
    "#### Формирование базовых таблиц"
   ]
  },
  {
   "cell_type": "code",
   "execution_count": 107,
   "metadata": {},
   "outputs": [
    {
     "data": {
      "text/html": [
       "<div>\n",
       "<style scoped>\n",
       "    .dataframe tbody tr th:only-of-type {\n",
       "        vertical-align: middle;\n",
       "    }\n",
       "\n",
       "    .dataframe tbody tr th {\n",
       "        vertical-align: top;\n",
       "    }\n",
       "\n",
       "    .dataframe thead th {\n",
       "        text-align: right;\n",
       "    }\n",
       "</style>\n",
       "<table border=\"1\" class=\"dataframe\">\n",
       "  <thead>\n",
       "    <tr style=\"text-align: right;\">\n",
       "      <th></th>\n",
       "      <th>f0</th>\n",
       "      <th>f1</th>\n",
       "      <th>f2</th>\n",
       "    </tr>\n",
       "  </thead>\n",
       "  <tbody>\n",
       "    <tr>\n",
       "      <th>0</th>\n",
       "      <td>-1.146987</td>\n",
       "      <td>0.963328</td>\n",
       "      <td>-0.828965</td>\n",
       "    </tr>\n",
       "    <tr>\n",
       "      <th>1</th>\n",
       "      <td>0.262778</td>\n",
       "      <td>0.269839</td>\n",
       "      <td>-2.530187</td>\n",
       "    </tr>\n",
       "    <tr>\n",
       "      <th>2</th>\n",
       "      <td>0.194587</td>\n",
       "      <td>0.289035</td>\n",
       "      <td>-5.586433</td>\n",
       "    </tr>\n",
       "    <tr>\n",
       "      <th>3</th>\n",
       "      <td>2.236060</td>\n",
       "      <td>-0.553760</td>\n",
       "      <td>0.930038</td>\n",
       "    </tr>\n",
       "    <tr>\n",
       "      <th>4</th>\n",
       "      <td>-0.515993</td>\n",
       "      <td>1.716266</td>\n",
       "      <td>5.899011</td>\n",
       "    </tr>\n",
       "    <tr>\n",
       "      <th>...</th>\n",
       "      <td>...</td>\n",
       "      <td>...</td>\n",
       "      <td>...</td>\n",
       "    </tr>\n",
       "    <tr>\n",
       "      <th>99991</th>\n",
       "      <td>-1.777037</td>\n",
       "      <td>1.125220</td>\n",
       "      <td>6.263374</td>\n",
       "    </tr>\n",
       "    <tr>\n",
       "      <th>99992</th>\n",
       "      <td>-1.261523</td>\n",
       "      <td>-0.894828</td>\n",
       "      <td>2.524545</td>\n",
       "    </tr>\n",
       "    <tr>\n",
       "      <th>99993</th>\n",
       "      <td>-1.199934</td>\n",
       "      <td>-2.957637</td>\n",
       "      <td>5.219411</td>\n",
       "    </tr>\n",
       "    <tr>\n",
       "      <th>99994</th>\n",
       "      <td>-2.419896</td>\n",
       "      <td>2.417221</td>\n",
       "      <td>-5.548444</td>\n",
       "    </tr>\n",
       "    <tr>\n",
       "      <th>99995</th>\n",
       "      <td>-2.551421</td>\n",
       "      <td>-2.025625</td>\n",
       "      <td>6.090891</td>\n",
       "    </tr>\n",
       "  </tbody>\n",
       "</table>\n",
       "<p>99996 rows × 3 columns</p>\n",
       "</div>"
      ],
      "text/plain": [
       "             f0        f1        f2\n",
       "0     -1.146987  0.963328 -0.828965\n",
       "1      0.262778  0.269839 -2.530187\n",
       "2      0.194587  0.289035 -5.586433\n",
       "3      2.236060 -0.553760  0.930038\n",
       "4     -0.515993  1.716266  5.899011\n",
       "...         ...       ...       ...\n",
       "99991 -1.777037  1.125220  6.263374\n",
       "99992 -1.261523 -0.894828  2.524545\n",
       "99993 -1.199934 -2.957637  5.219411\n",
       "99994 -2.419896  2.417221 -5.548444\n",
       "99995 -2.551421 -2.025625  6.090891\n",
       "\n",
       "[99996 rows x 3 columns]"
      ]
     },
     "execution_count": 107,
     "metadata": {},
     "output_type": "execute_result"
    }
   ],
   "source": [
    "# Формирование и вывод на экран базового\n",
    "# датафрейма с признаками (вопросами)\n",
    "features2 = df2.drop(columns=['id', 'product'], axis=1)\n",
    "features2"
   ]
  },
  {
   "cell_type": "code",
   "execution_count": 108,
   "metadata": {},
   "outputs": [
    {
     "data": {
      "text/plain": [
       "0         27.758673\n",
       "1         56.069697\n",
       "2         62.871910\n",
       "3        114.572842\n",
       "4        149.600746\n",
       "            ...    \n",
       "99991    172.327046\n",
       "99992    138.748846\n",
       "99993    157.080080\n",
       "99994     51.795253\n",
       "99995    102.775767\n",
       "Name: product, Length: 99996, dtype: float64"
      ]
     },
     "execution_count": 108,
     "metadata": {},
     "output_type": "execute_result"
    }
   ],
   "source": [
    "# Формирование и вывод на экран базового\n",
    "# Series с целевыми признаками (ответами)\n",
    "target2 = df2['product']\n",
    "target2"
   ]
  },
  {
   "cell_type": "markdown",
   "metadata": {},
   "source": [
    "#### Формирование обучающей и валидационной выборок"
   ]
  },
  {
   "cell_type": "code",
   "execution_count": 109,
   "metadata": {},
   "outputs": [],
   "source": [
    "# Формирование обучающей и валидационной выборок с\n",
    "# признаками (вопросами) и целевыми признаками(ответами)\n",
    "features_train2, features_valid2, target_train2, target_valid2 = train_test_split(\n",
    "    features2,\n",
    "    target2,\n",
    "    test_size=.25,\n",
    "    random_state=777\n",
    ")"
   ]
  },
  {
   "cell_type": "code",
   "execution_count": 110,
   "metadata": {},
   "outputs": [
    {
     "data": {
      "text/plain": [
       "(74997, 3)"
      ]
     },
     "execution_count": 110,
     "metadata": {},
     "output_type": "execute_result"
    }
   ],
   "source": [
    "# Вывод размера features_train2\n",
    "features_train2.shape"
   ]
  },
  {
   "cell_type": "code",
   "execution_count": 111,
   "metadata": {},
   "outputs": [
    {
     "data": {
      "text/plain": [
       "74997"
      ]
     },
     "execution_count": 111,
     "metadata": {},
     "output_type": "execute_result"
    }
   ],
   "source": [
    "# Вывод размера target_train2\n",
    "len(target_train2)"
   ]
  },
  {
   "cell_type": "markdown",
   "metadata": {},
   "source": [
    "#### Обучение модели линейной регрессии - LinearRegression"
   ]
  },
  {
   "cell_type": "code",
   "execution_count": 112,
   "metadata": {},
   "outputs": [
    {
     "name": "stdout",
     "output_type": "stream",
     "text": [
      "\n",
      "Значения среднего запаса предсказанного сырья, средней квадратичной ошибки (MSE), квадратного корня из MSE (RMSE), коэффициента детерминации (R2) на валидационной выборке:\n"
     ]
    },
    {
     "data": {
      "text/html": [
       "<div>\n",
       "<style scoped>\n",
       "    .dataframe tbody tr th:only-of-type {\n",
       "        vertical-align: middle;\n",
       "    }\n",
       "\n",
       "    .dataframe tbody tr th {\n",
       "        vertical-align: top;\n",
       "    }\n",
       "\n",
       "    .dataframe thead th {\n",
       "        text-align: right;\n",
       "    }\n",
       "</style>\n",
       "<table border=\"1\" class=\"dataframe\">\n",
       "  <thead>\n",
       "    <tr style=\"text-align: right;\">\n",
       "      <th></th>\n",
       "      <th>product_predicted_mean</th>\n",
       "      <th>mse_valid</th>\n",
       "      <th>rmse_valid</th>\n",
       "      <th>r2_valid</th>\n",
       "    </tr>\n",
       "  </thead>\n",
       "  <tbody>\n",
       "    <tr>\n",
       "      <th>0</th>\n",
       "      <td>95.08384</td>\n",
       "      <td>1612.312362</td>\n",
       "      <td>40.15361</td>\n",
       "      <td>0.198843</td>\n",
       "    </tr>\n",
       "  </tbody>\n",
       "</table>\n",
       "</div>"
      ],
      "text/plain": [
       "   product_predicted_mean    mse_valid  rmse_valid  r2_valid\n",
       "0                95.08384  1612.312362    40.15361  0.198843"
      ]
     },
     "metadata": {},
     "output_type": "display_data"
    },
    {
     "name": "stdout",
     "output_type": "stream",
     "text": [
      "\n",
      "CPU times: total: 15.6 ms\n",
      "Wall time: 9 ms\n"
     ]
    }
   ],
   "source": [
    "%%time\n",
    "# Формирование и обучение модели линейной регрессии\n",
    "# с выводом времени обучения\n",
    "model_linear2, predictions_valid2 = model_select(\n",
    "    LinearRegression,\n",
    "    features_train2,\n",
    "    target_train2,\n",
    "    features_valid2,\n",
    "    target_valid2\n",
    ")"
   ]
  },
  {
   "cell_type": "markdown",
   "metadata": {},
   "source": [
    "#### Вывод"
   ]
  },
  {
   "cell_type": "markdown",
   "metadata": {},
   "source": [
    "<div class=\"alert alert-block alert-warning\">\n",
    "    \n",
    "<span style=\"color:steelblue\"><font size=\"3\" face=\"Courier\"><b>1. Средний запас предсказанного сырья составляет 95.08 тысяч баррелей.<br>\n",
    "    2. Квадратный корень из средней квадратичной ошибки (RMSE) при прогнозировании запаса равен 40.15 тысяч баррелей. Разброс около 42% от среднего.<br>\n",
    "    3. Коэффициент детерминации (R2) 0.198843 показывает довольно низкое качество предсказаний модели - велика доля средней квадратичной ошибки модели от средней квадратичной ошибки среднего константной модели.</b></span></div>"
   ]
  },
  {
   "cell_type": "markdown",
   "metadata": {},
   "source": [
    "## Подготовка к расчёту прибыли"
   ]
  },
  {
   "cell_type": "markdown",
   "metadata": {},
   "source": [
    "### Формирование ключевых переменных"
   ]
  },
  {
   "cell_type": "code",
   "execution_count": 113,
   "metadata": {},
   "outputs": [],
   "source": [
    "# Формирование переменной с суммой инвестиций\n",
    "# на разработку скважин  регионе\n",
    "INVESTITIONS = 10 ** 10"
   ]
  },
  {
   "cell_type": "code",
   "execution_count": 114,
   "metadata": {},
   "outputs": [],
   "source": [
    "# Формирование переменной с количестовм исследуемых скважин\n",
    "WELLS_RESEARCHED = 500"
   ]
  },
  {
   "cell_type": "code",
   "execution_count": 115,
   "metadata": {},
   "outputs": [],
   "source": [
    "# Формирование переменной с количеством разрабатываемых скважин\n",
    "WELLS_SELECTED = 200"
   ]
  },
  {
   "cell_type": "code",
   "execution_count": 116,
   "metadata": {},
   "outputs": [],
   "source": [
    "# Формирование переменной с доходом с 1 тысячи баррелей\n",
    "REVENUE_PER_THOUSAND_BARREL = 450000"
   ]
  },
  {
   "cell_type": "markdown",
   "metadata": {},
   "source": [
    "### Расчёт требуемого минимального запаса сырья в скважине"
   ]
  },
  {
   "cell_type": "code",
   "execution_count": 117,
   "metadata": {},
   "outputs": [
    {
     "data": {
      "text/plain": [
       "111.11111111111111"
      ]
     },
     "execution_count": 117,
     "metadata": {},
     "output_type": "execute_result"
    }
   ],
   "source": [
    "# Определение и вывод на экран объёма запаса сырья\n",
    "# для безубыточной разработки новой скважины\n",
    "product_required = INVESTITIONS  / (WELLS_SELECTED * REVENUE_PER_THOUSAND_BARREL)\n",
    "product_required"
   ]
  },
  {
   "cell_type": "markdown",
   "metadata": {},
   "source": [
    "### Вывод"
   ]
  },
  {
   "cell_type": "markdown",
   "metadata": {},
   "source": [
    "<div class=\"alert alert-block alert-warning\">\n",
    "    \n",
    "<span style=\"color:steelblue\"><font size=\"3\" face=\"Courier\"><b>Требуемый минимальный расчётный запас сырья 111.111 тысяч баррелей выше средних значений запаса в каждом регионе. Для минимизации убытков необходимо отфильтровать скважины с максимальными запасами.</b></span></div>"
   ]
  },
  {
   "cell_type": "markdown",
   "metadata": {},
   "source": [
    "## Расчёт прибыли и рисков "
   ]
  },
  {
   "cell_type": "markdown",
   "metadata": {},
   "source": [
    "### Создание функции расчёта прибыли по предсказаниям"
   ]
  },
  {
   "cell_type": "code",
   "execution_count": 118,
   "metadata": {},
   "outputs": [],
   "source": [
    "# Создание функции расчёта прибыли по выбранным\n",
    "# скважинам и предсказаниям модели\n",
    "# 1. Объявление функции profit_wells()\n",
    "def profit_wells(\n",
    "    target_income,\n",
    "    predictions_income,\n",
    "    wells_left,\n",
    "    price,\n",
    "    investitions_income\n",
    "):\n",
    "    # 2. Сортировка Series по убыванию предсказанных\n",
    "    # запасов сырья с перезаписью\n",
    "    predictions_income.sort_values(ascending=False, inplace=True)\n",
    "    # 3. Формирование Series с 200 скважинами с наибольшими запасами\n",
    "    # сырья по предсказаниям и суммирование реальных запасов\n",
    "    total_product = sum(target_income.loc[predictions_income[:wells_left].index])\n",
    "    # 4. Расчёт дохода от разработки скважин\n",
    "    total_profit = total_product * price - investitions_income\n",
    "    # 5. Возвращение функции\n",
    "    return total_profit"
   ]
  },
  {
   "cell_type": "markdown",
   "metadata": {},
   "source": [
    "### Создание функции, формирующей отчёт о прибыли и рисках"
   ]
  },
  {
   "cell_type": "code",
   "execution_count": 119,
   "metadata": {},
   "outputs": [],
   "source": [
    "# Создание функции для расчёта прибыли и убытка,\n",
    "# а также вывода на экран основных показателей\n",
    "# 1. Объявление функции risks_profit()\n",
    "def risks_profit(\n",
    "    target_income,\n",
    "    predictions_income,\n",
    "    wells_income,\n",
    "    wells_left,\n",
    "    price,\n",
    "    investitions_income,\n",
    "    func_app,\n",
    "    number_subsamples,\n",
    "    alpha_income\n",
    "):\n",
    "    # 2. Формирование переменной со случайным числом\n",
    "    state = np.random.RandomState(777)\n",
    "    # 3. Формирование переменной со списком возможных доходов\n",
    "    profit_list = []\n",
    "    # 4.1. Цикл формирования псевдовыборок (Bootstrap) и расчёта\n",
    "    # возможных доходов по предсказаниям predictions_income\n",
    "    for j in range(number_subsamples):\n",
    "        # 4.2. Перевод массива ndarray в Series\n",
    "        predictions_income = pd.Series(predictions_income)\n",
    "        # 4.3. Переназначение индексов в predictions_income\n",
    "        # по индексам из target_income\n",
    "        predictions_income.index = target_income.index\n",
    "        # 4.4. Формирование псевдовыборки\n",
    "        subsample = predictions_income.sample(\n",
    "            frac= wells_income / len(predictions_income),\n",
    "            replace=True,\n",
    "            random_state=state\n",
    "        )\n",
    "        # 4.5. Расчёт возможного дохода через\n",
    "        # вызов функции func_app()\n",
    "        profit = func_app(\n",
    "            target_income,\n",
    "            subsample,\n",
    "            wells_left,\n",
    "            price,\n",
    "            investitions_income\n",
    "        )\n",
    "        # 4.6. Заполнение списка в переменной profit_list\n",
    "        # возможным доходом revenue\n",
    "        profit_list.append(profit)\n",
    "    # 5. Формирование Series из списка profit_list\n",
    "    profit_sample = pd.Series(profit_list)\n",
    "    # 6. Расчёт доверительного интервала для\n",
    "    # возможной прибыли\n",
    "    confidence_interval_from = profit_sample.quantile(q=.025)\n",
    "    confidence_interval_to = profit_sample.quantile(q=.975)\n",
    "    # 7. Вывод на экран основных показателей\n",
    "    print(f'- Средняя прибыль: {np.ceil(profit_sample.mean())}')\n",
    "    print(f'- {alpha_income:.0%} доверительный интервал возможной прибыли: от {np.ceil(confidence_interval_from)} до {np.ceil(confidence_interval_to)}')\n",
    "    print(f'- Возможное количество убыточных разработок: {(profit_sample < 0).sum()}')\n",
    "    print(f'- Вероятность убыточных разработок: {(profit_sample < 0).mean():.1%}')\n",
    "    print(f'- Возможный максимальный убыток: {np.ceil(profit_sample.min())}')"
   ]
  },
  {
   "cell_type": "markdown",
   "metadata": {},
   "source": [
    "### Расчёт рисков и прибыли для региона с датафреймом df0"
   ]
  },
  {
   "cell_type": "code",
   "execution_count": 120,
   "metadata": {
    "scrolled": false
   },
   "outputs": [
    {
     "name": "stdout",
     "output_type": "stream",
     "text": [
      "- Средняя прибыль: 384509713.0\n",
      "- 95% доверительный интервал возможной прибыли: от -111956780.0 до 894668404.0\n",
      "- Возможное количество убыточных разработок: 63\n",
      "- Вероятность убыточных разработок: 6.3%\n",
      "- Возможный максимальный убыток: -621187539.0\n"
     ]
    }
   ],
   "source": [
    "# Формирование расчёта прибыли и убытков\n",
    "# по предсказаниям predictions_valid0\n",
    "risks_profit(\n",
    "    target_valid0,\n",
    "    predictions_valid0,\n",
    "    WELLS_RESEARCHED,\n",
    "    WELLS_SELECTED,\n",
    "    REVENUE_PER_THOUSAND_BARREL,\n",
    "    INVESTITIONS,\n",
    "    profit_wells,\n",
    "    1000,\n",
    "    .95\n",
    ")"
   ]
  },
  {
   "cell_type": "markdown",
   "metadata": {},
   "source": [
    "### Расчёт рисков и прибыли для региона с датафреймом df1"
   ]
  },
  {
   "cell_type": "code",
   "execution_count": 121,
   "metadata": {},
   "outputs": [
    {
     "name": "stdout",
     "output_type": "stream",
     "text": [
      "- Средняя прибыль: 472240699.0\n",
      "- 95% доверительный интервал возможной прибыли: от 76744615.0 до 855186412.0\n",
      "- Возможное количество убыточных разработок: 6\n",
      "- Вероятность убыточных разработок: 0.6%\n",
      "- Возможный максимальный убыток: -165211181.0\n"
     ]
    }
   ],
   "source": [
    "# Формирование расчёта прибыли и убытков\n",
    "# по предсказаниям predictions_valid1\n",
    "risks_profit(\n",
    "    target_valid1,\n",
    "    predictions_valid1,\n",
    "    WELLS_RESEARCHED,\n",
    "    WELLS_SELECTED,\n",
    "    REVENUE_PER_THOUSAND_BARREL,\n",
    "    INVESTITIONS,\n",
    "    profit_wells,\n",
    "    1000,\n",
    "    .95\n",
    ")"
   ]
  },
  {
   "cell_type": "markdown",
   "metadata": {},
   "source": [
    "### Расчёт рисков и прибыли для региона с датафреймом df2"
   ]
  },
  {
   "cell_type": "code",
   "execution_count": 122,
   "metadata": {},
   "outputs": [
    {
     "name": "stdout",
     "output_type": "stream",
     "text": [
      "- Средняя прибыль: 357407573.0\n",
      "- 95% доверительный интервал возможной прибыли: от -171147740.0 до 849787704.0\n",
      "- Возможное количество убыточных разработок: 94\n",
      "- Вероятность убыточных разработок: 9.4%\n",
      "- Возможный максимальный убыток: -475631766.0\n"
     ]
    }
   ],
   "source": [
    "# Формирование расчёта прибыли и убытков\n",
    "# по предсказаниям predictions_valid2\n",
    "risks_profit(\n",
    "    target_valid2,\n",
    "    predictions_valid2,\n",
    "    WELLS_RESEARCHED,\n",
    "    WELLS_SELECTED,\n",
    "    REVENUE_PER_THOUSAND_BARREL,\n",
    "    INVESTITIONS,\n",
    "    profit_wells,\n",
    "    1000,\n",
    "    .95\n",
    ")"
   ]
  },
  {
   "cell_type": "markdown",
   "metadata": {},
   "source": [
    "### Вывод"
   ]
  },
  {
   "cell_type": "markdown",
   "metadata": {},
   "source": [
    "<div class=\"alert alert-block alert-warning\">\n",
    "    \n",
    "<span style=\"color:steelblue\"><font size=\"3\" face=\"Courier\"><b>Вероятность убытков меньше 2.5% только в регионе с датафреймом df1, равная 0.6%.<br>\n",
    "    Наибольшее значение средней прибыли в регионе с датафреймом df1, и составляет 472 миллиона 240 тысяч 699 рублей, а возможный убыток 165 миллионов 211 тысяч 181 рубль.</b></span></div>"
   ]
  },
  {
   "cell_type": "markdown",
   "metadata": {},
   "source": [
    "## Общий вывод"
   ]
  },
  {
   "cell_type": "markdown",
   "metadata": {},
   "source": [
    "<div class=\"alert alert-block alert-warning\">\n",
    "    \n",
    "<span style=\"color:steelblue\"><font size=\"3\" face=\"Courier\"><b>В ходе выполнения проекта проанализировал предоставленные данные, на основании которых обучил три модели с изучением метрик качества, а также определил лучший регион для нефтедобычи.<br>\n",
    "    <br>\n",
    "    1. Названия колонок написаны с соблюдением змеиного стиля.<br>\n",
    "    2. В колонке с уникальными идентификаторами скважин 'id' обнаружены дубликаты, которые удалил.<br>\n",
    "    3. Аномалии и явные дубликаты не обнаружены.<br>\n",
    "    4. Выполнил декомпозицию датафреймов и сформировал обучающие, валидационные выборки.<br>\n",
    "    5. Создал функцию 'model_select()', которая обучает и формирует модель ML (LinearRegression), выводит значения характеристик и метрик качества на валидационных выборках.<br>\n",
    "    <br>\n",
    "    6. Результаты предсказаний моделями запасов в регионах:<br>\n",
    "    6.1. Регион с результатами геологоразведки 'geo_data_0':<br>\n",
    "    6.1.1. Средний запас предсказанного сырья составляет 92.5 тысяч баррелей.<br>\n",
    "    6.1.2. Квадратный корень из средней квадратичной ошибки (RMSE) при прогнозировании запаса равен 37.6 тысяч баррелей. Разброс около 40% от среднего.<br>\n",
    "    6.1.3. Коэффициент детерминации (R2) 0.276321 показывает довольно низкое качество предсказаний модели - велика доля средней квадратичной ошибки модели от средней квадратичной ошибки среднего константной модели.<br>\n",
    "    6.2. Регион с результатами геологоразведки 'geo_data_1':<br>\n",
    "    6.2.1. Средний запас предсказанного сырья составляет 69.18 тысяч баррелей.<br>\n",
    "    6.2.2. Квадратный корень из средней квадратичной ошибки (RMSE) при прогнозировании запаса равен 0.89 тысяч баррелей. Разброс около 1% от среднего.<br>\n",
    "    6.2.3. Коэффициент детерминации (R2) 0.999623 показывает высокое качество предсказаний модели - минимальна доля средней квадратичной ошибки модели от средней квадратичной ошибки среднего константной модели. Скорее всего это связано с малым количеством вариаций значений запасов в скажинах.<br>\n",
    "    6.3. Регион с результатами геологоразведки 'geo_data_2':<br>\n",
    "    6.3.1. Средний запас предсказанного сырья составляет 95.08 тысяч баррелей.<br>\n",
    "    6.3.2. Квадратный корень из средней квадратичной ошибки (RMSE) при прогнозировании запаса равен 40.15 тысяч баррелей. Разброс около 42% от среднего.<br>\n",
    "    6.3.3. Коэффициент детерминации (R2) 0.198843 показывает довольно низкое качество предсказаний модели - велика доля средней квадратичной ошибки модели от средней квадратичной ошибки среднего константной модели.<br>\n",
    "    <br>\n",
    "    7. Согласно проведённым расчётам требуемый минимальный безубыточный запас сырья 111.111 тысяч баррелей выше средних значений запаса в каждом регионе.<br>\n",
    "    Для минимизации убытков выполнил фильтрацию скважины с максимальными запасами в количестве 200 шт.<br>\n",
    "    <br>\n",
    "    8. Создал функции profit_wells() и risks_profit(), совместно выполняющие расчёт прибыли по выбранным скважинам и предсказаниям модели, а также выводящие на экран основные показатели.<br>\n",
    "    <br>\n",
    "    9. Исходя из результатов обучения моделей и выполненных предсказаний и расчётов, во всех регионах вероятность убытков в диапазоне 0.6-9.4%. Вероятность убытков меньше 2.5% только в регионе с датафреймом df1, равная 0.6%.<br>\n",
    "    Для разработки предлагаю регион с датафреймом df1 по данным геологоразведки 'geo_data_1', так как имеет наибольшее значение средней прибыли, которое составляет 472 миллиона 240 тысяч 699 рублей.</b></span></div>"
   ]
  }
 ],
 "metadata": {
  "ExecuteTimeLog": [
   {
    "duration": 1268,
    "start_time": "2022-06-05T12:18:14.203Z"
   },
   {
    "duration": 167,
    "start_time": "2022-06-05T12:23:04.517Z"
   },
   {
    "duration": 523,
    "start_time": "2022-06-05T12:23:49.680Z"
   },
   {
    "duration": 159,
    "start_time": "2022-06-05T12:23:54.666Z"
   },
   {
    "duration": 218,
    "start_time": "2022-06-05T12:36:27.744Z"
   },
   {
    "duration": 137,
    "start_time": "2022-06-05T12:36:59.160Z"
   },
   {
    "duration": 216,
    "start_time": "2022-06-05T12:39:02.328Z"
   },
   {
    "duration": 10,
    "start_time": "2022-06-05T13:02:06.306Z"
   },
   {
    "duration": 18,
    "start_time": "2022-06-05T13:02:11.176Z"
   },
   {
    "duration": 36,
    "start_time": "2022-06-05T13:03:27.019Z"
   },
   {
    "duration": 48,
    "start_time": "2022-06-05T13:04:21.806Z"
   },
   {
    "duration": 54,
    "start_time": "2022-06-05T13:04:36.146Z"
   },
   {
    "duration": 67,
    "start_time": "2022-06-05T13:05:46.910Z"
   },
   {
    "duration": 8,
    "start_time": "2022-06-05T13:08:25.310Z"
   },
   {
    "duration": 11,
    "start_time": "2022-06-05T13:08:38.930Z"
   },
   {
    "duration": 20,
    "start_time": "2022-06-05T13:08:45.676Z"
   },
   {
    "duration": 453,
    "start_time": "2022-06-05T13:10:48.860Z"
   },
   {
    "duration": 68,
    "start_time": "2022-06-05T13:11:20.749Z"
   },
   {
    "duration": 48,
    "start_time": "2022-06-05T13:11:51.879Z"
   },
   {
    "duration": 22,
    "start_time": "2022-06-05T13:13:09.586Z"
   },
   {
    "duration": 57,
    "start_time": "2022-06-05T13:13:20.150Z"
   },
   {
    "duration": 61,
    "start_time": "2022-06-05T13:13:28.286Z"
   },
   {
    "duration": 10,
    "start_time": "2022-06-05T13:13:39.598Z"
   },
   {
    "duration": 31,
    "start_time": "2022-06-05T13:13:49.942Z"
   },
   {
    "duration": 26,
    "start_time": "2022-06-05T13:13:50.843Z"
   },
   {
    "duration": 30,
    "start_time": "2022-06-05T13:19:46.555Z"
   },
   {
    "duration": 23,
    "start_time": "2022-06-05T13:19:47.988Z"
   },
   {
    "duration": 52,
    "start_time": "2022-06-05T13:19:48.470Z"
   },
   {
    "duration": 60,
    "start_time": "2022-06-05T13:20:06.843Z"
   },
   {
    "duration": 51,
    "start_time": "2022-06-05T13:21:33.155Z"
   },
   {
    "duration": 25,
    "start_time": "2022-06-05T13:22:03.277Z"
   },
   {
    "duration": 63,
    "start_time": "2022-06-05T13:22:03.848Z"
   },
   {
    "duration": 29,
    "start_time": "2022-06-05T13:22:13.592Z"
   },
   {
    "duration": 8,
    "start_time": "2022-06-05T13:22:14.300Z"
   },
   {
    "duration": 3,
    "start_time": "2022-06-05T13:22:35.842Z"
   },
   {
    "duration": 148,
    "start_time": "2022-06-05T13:22:35.847Z"
   },
   {
    "duration": 144,
    "start_time": "2022-06-05T13:22:35.996Z"
   },
   {
    "duration": 140,
    "start_time": "2022-06-05T13:22:36.142Z"
   },
   {
    "duration": 13,
    "start_time": "2022-06-05T13:22:36.284Z"
   },
   {
    "duration": 32,
    "start_time": "2022-06-05T13:22:36.298Z"
   },
   {
    "duration": 64,
    "start_time": "2022-06-05T13:22:36.332Z"
   },
   {
    "duration": 67,
    "start_time": "2022-06-05T13:22:36.398Z"
   },
   {
    "duration": 24,
    "start_time": "2022-06-05T13:22:36.467Z"
   },
   {
    "duration": 9,
    "start_time": "2022-06-05T13:22:36.492Z"
   },
   {
    "duration": 10,
    "start_time": "2022-06-05T13:23:29.215Z"
   },
   {
    "duration": 5,
    "start_time": "2022-06-05T13:23:35.403Z"
   },
   {
    "duration": 157,
    "start_time": "2022-06-05T13:23:35.410Z"
   },
   {
    "duration": 136,
    "start_time": "2022-06-05T13:23:35.568Z"
   },
   {
    "duration": 135,
    "start_time": "2022-06-05T13:23:35.707Z"
   },
   {
    "duration": 20,
    "start_time": "2022-06-05T13:23:35.844Z"
   },
   {
    "duration": 35,
    "start_time": "2022-06-05T13:23:35.866Z"
   },
   {
    "duration": 41,
    "start_time": "2022-06-05T13:23:35.903Z"
   },
   {
    "duration": 66,
    "start_time": "2022-06-05T13:23:35.946Z"
   },
   {
    "duration": 22,
    "start_time": "2022-06-05T13:23:38.687Z"
   },
   {
    "duration": 59,
    "start_time": "2022-06-05T13:23:41.996Z"
   },
   {
    "duration": 172,
    "start_time": "2022-06-05T13:27:02.751Z"
   },
   {
    "duration": 3,
    "start_time": "2022-06-05T13:28:51.679Z"
   },
   {
    "duration": 161,
    "start_time": "2022-06-05T13:28:51.684Z"
   },
   {
    "duration": 155,
    "start_time": "2022-06-05T13:28:51.847Z"
   },
   {
    "duration": 153,
    "start_time": "2022-06-05T13:28:52.006Z"
   },
   {
    "duration": 16,
    "start_time": "2022-06-05T13:28:52.161Z"
   },
   {
    "duration": 37,
    "start_time": "2022-06-05T13:28:52.179Z"
   },
   {
    "duration": 72,
    "start_time": "2022-06-05T13:28:52.218Z"
   },
   {
    "duration": 73,
    "start_time": "2022-06-05T13:28:52.292Z"
   },
   {
    "duration": 58,
    "start_time": "2022-06-05T13:28:52.367Z"
   },
   {
    "duration": 17,
    "start_time": "2022-06-05T13:29:19.446Z"
   },
   {
    "duration": 13,
    "start_time": "2022-06-05T13:39:06.125Z"
   },
   {
    "duration": 15,
    "start_time": "2022-06-05T13:49:07.344Z"
   },
   {
    "duration": 35,
    "start_time": "2022-06-05T13:49:37.342Z"
   },
   {
    "duration": 42,
    "start_time": "2022-06-05T13:57:16.585Z"
   },
   {
    "duration": 68,
    "start_time": "2022-06-05T13:57:40.301Z"
   },
   {
    "duration": 83,
    "start_time": "2022-06-05T13:57:49.090Z"
   },
   {
    "duration": 50,
    "start_time": "2022-06-05T13:57:57.573Z"
   },
   {
    "duration": 6,
    "start_time": "2022-06-05T14:00:02.237Z"
   },
   {
    "duration": 15,
    "start_time": "2022-06-05T14:03:17.822Z"
   },
   {
    "duration": 51,
    "start_time": "2022-06-05T14:03:37.775Z"
   },
   {
    "duration": 44,
    "start_time": "2022-06-05T14:08:25.580Z"
   },
   {
    "duration": 56,
    "start_time": "2022-06-05T14:09:06.993Z"
   },
   {
    "duration": 73,
    "start_time": "2022-06-05T14:09:12.305Z"
   },
   {
    "duration": 57,
    "start_time": "2022-06-05T14:09:20.978Z"
   },
   {
    "duration": 16,
    "start_time": "2022-06-05T14:10:10.585Z"
   },
   {
    "duration": 3,
    "start_time": "2022-06-05T14:14:02.392Z"
   },
   {
    "duration": 3,
    "start_time": "2022-06-05T14:15:28.457Z"
   },
   {
    "duration": 13,
    "start_time": "2022-06-05T14:19:28.254Z"
   },
   {
    "duration": 835,
    "start_time": "2022-06-05T14:19:37.286Z"
   },
   {
    "duration": 12,
    "start_time": "2022-06-05T14:24:22.587Z"
   },
   {
    "duration": 198,
    "start_time": "2022-06-05T14:24:46.113Z"
   },
   {
    "duration": 3,
    "start_time": "2022-06-05T14:24:51.413Z"
   },
   {
    "duration": 589,
    "start_time": "2022-06-05T14:24:54.394Z"
   },
   {
    "duration": 24,
    "start_time": "2022-06-05T14:50:07.603Z"
   },
   {
    "duration": 106,
    "start_time": "2022-06-05T14:50:09.147Z"
   },
   {
    "duration": 24,
    "start_time": "2022-06-05T14:50:55.364Z"
   },
   {
    "duration": 63,
    "start_time": "2022-06-05T14:50:56.351Z"
   },
   {
    "duration": 27,
    "start_time": "2022-06-05T14:51:35.799Z"
   },
   {
    "duration": 66,
    "start_time": "2022-06-05T14:51:38.100Z"
   },
   {
    "duration": 1525,
    "start_time": "2022-06-06T10:02:55.221Z"
   },
   {
    "duration": 608,
    "start_time": "2022-06-06T10:02:56.748Z"
   },
   {
    "duration": 291,
    "start_time": "2022-06-06T10:02:57.358Z"
   },
   {
    "duration": 199,
    "start_time": "2022-06-06T10:02:57.652Z"
   },
   {
    "duration": 19,
    "start_time": "2022-06-06T10:02:57.852Z"
   },
   {
    "duration": 43,
    "start_time": "2022-06-06T10:02:57.873Z"
   },
   {
    "duration": 62,
    "start_time": "2022-06-06T10:02:57.918Z"
   },
   {
    "duration": 82,
    "start_time": "2022-06-06T10:02:57.982Z"
   },
   {
    "duration": 13,
    "start_time": "2022-06-06T10:02:58.066Z"
   },
   {
    "duration": 13,
    "start_time": "2022-06-06T10:02:58.082Z"
   },
   {
    "duration": 63,
    "start_time": "2022-06-06T10:02:58.097Z"
   },
   {
    "duration": 40,
    "start_time": "2022-06-06T10:02:58.161Z"
   },
   {
    "duration": 74,
    "start_time": "2022-06-06T10:02:58.203Z"
   },
   {
    "duration": 8,
    "start_time": "2022-06-06T10:02:58.279Z"
   },
   {
    "duration": 14,
    "start_time": "2022-06-06T10:02:58.289Z"
   },
   {
    "duration": 56,
    "start_time": "2022-06-06T10:02:58.304Z"
   },
   {
    "duration": 43,
    "start_time": "2022-06-06T10:02:58.361Z"
   },
   {
    "duration": 84,
    "start_time": "2022-06-06T10:02:58.405Z"
   },
   {
    "duration": 16,
    "start_time": "2022-06-06T10:02:58.491Z"
   },
   {
    "duration": 2,
    "start_time": "2022-06-06T10:02:58.509Z"
   },
   {
    "duration": 5,
    "start_time": "2022-06-06T10:02:58.513Z"
   },
   {
    "duration": 7,
    "start_time": "2022-06-06T10:02:58.520Z"
   },
   {
    "duration": 614,
    "start_time": "2022-06-06T10:02:58.528Z"
   },
   {
    "duration": 26,
    "start_time": "2022-06-06T10:02:59.144Z"
   },
   {
    "duration": 55,
    "start_time": "2022-06-06T10:02:59.172Z"
   },
   {
    "duration": 45,
    "start_time": "2022-06-06T10:02:59.229Z"
   },
   {
    "duration": 59,
    "start_time": "2022-06-06T10:02:59.276Z"
   },
   {
    "duration": 49,
    "start_time": "2022-06-06T10:02:59.339Z"
   },
   {
    "duration": 93,
    "start_time": "2022-06-06T10:02:59.390Z"
   },
   {
    "duration": 4,
    "start_time": "2022-06-06T13:30:31.964Z"
   },
   {
    "duration": 13,
    "start_time": "2022-06-06T13:38:42.672Z"
   },
   {
    "duration": 5,
    "start_time": "2022-06-06T14:02:34.108Z"
   },
   {
    "duration": 132,
    "start_time": "2022-06-06T14:03:22.600Z"
   },
   {
    "duration": 33,
    "start_time": "2022-06-06T14:04:09.044Z"
   },
   {
    "duration": 28,
    "start_time": "2022-06-06T14:04:52.952Z"
   },
   {
    "duration": 24,
    "start_time": "2022-06-06T14:05:53.676Z"
   },
   {
    "duration": 2,
    "start_time": "2022-06-06T14:05:56.928Z"
   },
   {
    "duration": 73,
    "start_time": "2022-06-06T14:06:00.760Z"
   },
   {
    "duration": 25,
    "start_time": "2022-06-06T14:06:11.927Z"
   },
   {
    "duration": 3,
    "start_time": "2022-06-06T14:06:13.243Z"
   },
   {
    "duration": 56,
    "start_time": "2022-06-06T14:06:14.192Z"
   },
   {
    "duration": 26,
    "start_time": "2022-06-06T14:06:28.747Z"
   },
   {
    "duration": 3,
    "start_time": "2022-06-06T14:06:30.012Z"
   },
   {
    "duration": 62,
    "start_time": "2022-06-06T14:06:31.587Z"
   },
   {
    "duration": 14,
    "start_time": "2022-06-06T14:06:44.619Z"
   },
   {
    "duration": 6,
    "start_time": "2022-06-06T14:06:53.411Z"
   },
   {
    "duration": 13,
    "start_time": "2022-06-06T14:20:17.165Z"
   },
   {
    "duration": 4,
    "start_time": "2022-06-06T14:20:42.211Z"
   },
   {
    "duration": 3,
    "start_time": "2022-06-06T14:21:13.195Z"
   },
   {
    "duration": 3,
    "start_time": "2022-06-06T14:21:25.327Z"
   },
   {
    "duration": 4,
    "start_time": "2022-06-06T15:00:29.636Z"
   },
   {
    "duration": 5,
    "start_time": "2022-06-06T15:49:23.006Z"
   },
   {
    "duration": 45,
    "start_time": "2022-06-06T15:52:42.256Z"
   },
   {
    "duration": 140,
    "start_time": "2022-06-06T15:52:49.132Z"
   },
   {
    "duration": 6,
    "start_time": "2022-06-06T15:57:46.113Z"
   },
   {
    "duration": 23,
    "start_time": "2022-06-06T15:57:51.811Z"
   },
   {
    "duration": 6,
    "start_time": "2022-06-06T15:58:07.406Z"
   },
   {
    "duration": 28,
    "start_time": "2022-06-06T15:58:11.933Z"
   },
   {
    "duration": 7,
    "start_time": "2022-06-06T15:58:48.441Z"
   },
   {
    "duration": 52,
    "start_time": "2022-06-06T15:58:54.111Z"
   },
   {
    "duration": 26,
    "start_time": "2022-06-06T16:01:37.535Z"
   },
   {
    "duration": 4,
    "start_time": "2022-06-06T16:01:46.343Z"
   },
   {
    "duration": 4,
    "start_time": "2022-06-06T16:02:09.859Z"
   },
   {
    "duration": 5,
    "start_time": "2022-06-06T16:02:14.322Z"
   },
   {
    "duration": 4,
    "start_time": "2022-06-06T16:02:50.628Z"
   },
   {
    "duration": 1268,
    "start_time": "2022-06-07T11:16:02.454Z"
   },
   {
    "duration": 489,
    "start_time": "2022-06-07T11:16:03.723Z"
   },
   {
    "duration": 561,
    "start_time": "2022-06-07T11:16:04.213Z"
   },
   {
    "duration": 501,
    "start_time": "2022-06-07T11:16:04.775Z"
   },
   {
    "duration": 11,
    "start_time": "2022-06-07T11:16:05.278Z"
   },
   {
    "duration": 32,
    "start_time": "2022-06-07T11:16:05.290Z"
   },
   {
    "duration": 38,
    "start_time": "2022-06-07T11:16:05.323Z"
   },
   {
    "duration": 46,
    "start_time": "2022-06-07T11:16:05.362Z"
   },
   {
    "duration": 21,
    "start_time": "2022-06-07T11:16:05.409Z"
   },
   {
    "duration": 10,
    "start_time": "2022-06-07T11:16:05.431Z"
   },
   {
    "duration": 29,
    "start_time": "2022-06-07T11:16:05.442Z"
   },
   {
    "duration": 53,
    "start_time": "2022-06-07T11:16:05.472Z"
   },
   {
    "duration": 49,
    "start_time": "2022-06-07T11:16:05.527Z"
   },
   {
    "duration": 7,
    "start_time": "2022-06-07T11:16:05.579Z"
   },
   {
    "duration": 43,
    "start_time": "2022-06-07T11:16:05.588Z"
   },
   {
    "duration": 46,
    "start_time": "2022-06-07T11:16:05.632Z"
   },
   {
    "duration": 41,
    "start_time": "2022-06-07T11:16:05.679Z"
   },
   {
    "duration": 62,
    "start_time": "2022-06-07T11:16:05.722Z"
   },
   {
    "duration": 14,
    "start_time": "2022-06-07T11:16:05.786Z"
   },
   {
    "duration": 13,
    "start_time": "2022-06-07T11:16:05.801Z"
   },
   {
    "duration": 10,
    "start_time": "2022-06-07T11:16:05.825Z"
   },
   {
    "duration": 7,
    "start_time": "2022-06-07T11:16:05.836Z"
   },
   {
    "duration": 497,
    "start_time": "2022-06-07T11:16:05.844Z"
   },
   {
    "duration": 18,
    "start_time": "2022-06-07T11:16:06.342Z"
   },
   {
    "duration": 3,
    "start_time": "2022-06-07T11:16:06.361Z"
   },
   {
    "duration": 73,
    "start_time": "2022-06-07T11:16:06.366Z"
   },
   {
    "duration": 25,
    "start_time": "2022-06-07T11:16:06.441Z"
   },
   {
    "duration": 3,
    "start_time": "2022-06-07T11:16:06.467Z"
   },
   {
    "duration": 88,
    "start_time": "2022-06-07T11:16:06.471Z"
   },
   {
    "duration": 30,
    "start_time": "2022-06-07T11:16:06.561Z"
   },
   {
    "duration": 2,
    "start_time": "2022-06-07T11:16:06.593Z"
   },
   {
    "duration": 68,
    "start_time": "2022-06-07T11:16:06.599Z"
   },
   {
    "duration": 7,
    "start_time": "2022-06-07T11:16:06.669Z"
   },
   {
    "duration": 20,
    "start_time": "2022-06-07T11:16:06.677Z"
   },
   {
    "duration": 24,
    "start_time": "2022-06-07T11:16:06.698Z"
   },
   {
    "duration": 13,
    "start_time": "2022-06-07T11:16:06.723Z"
   },
   {
    "duration": 19,
    "start_time": "2022-06-07T11:16:06.737Z"
   },
   {
    "duration": 22,
    "start_time": "2022-06-07T11:16:06.757Z"
   },
   {
    "duration": 153,
    "start_time": "2022-06-07T11:16:06.780Z"
   },
   {
    "duration": 4,
    "start_time": "2022-06-07T11:16:34.405Z"
   },
   {
    "duration": 7,
    "start_time": "2022-06-07T11:34:12.463Z"
   },
   {
    "duration": 11,
    "start_time": "2022-06-07T11:53:35.942Z"
   },
   {
    "duration": 5,
    "start_time": "2022-06-07T11:53:44.465Z"
   },
   {
    "duration": 11,
    "start_time": "2022-06-07T11:54:03.356Z"
   },
   {
    "duration": 7,
    "start_time": "2022-06-07T11:54:11.986Z"
   },
   {
    "duration": 4,
    "start_time": "2022-06-07T11:54:21.372Z"
   },
   {
    "duration": 40,
    "start_time": "2022-06-07T11:54:39.203Z"
   },
   {
    "duration": 4,
    "start_time": "2022-06-07T11:55:18.148Z"
   },
   {
    "duration": 7,
    "start_time": "2022-06-07T11:55:23.780Z"
   },
   {
    "duration": 12,
    "start_time": "2022-06-07T11:56:02.553Z"
   },
   {
    "duration": 6,
    "start_time": "2022-06-07T11:56:10.642Z"
   },
   {
    "duration": 15,
    "start_time": "2022-06-07T11:56:41.642Z"
   },
   {
    "duration": 5,
    "start_time": "2022-06-07T11:56:47.698Z"
   },
   {
    "duration": 5,
    "start_time": "2022-06-07T11:56:52.647Z"
   },
   {
    "duration": 38,
    "start_time": "2022-06-07T11:57:13.496Z"
   },
   {
    "duration": 136,
    "start_time": "2022-06-07T11:58:06.096Z"
   },
   {
    "duration": 117,
    "start_time": "2022-06-07T11:58:21.116Z"
   },
   {
    "duration": 127,
    "start_time": "2022-06-07T11:58:34.612Z"
   },
   {
    "duration": 34,
    "start_time": "2022-06-07T11:58:54.911Z"
   },
   {
    "duration": 4,
    "start_time": "2022-06-07T11:59:14.831Z"
   },
   {
    "duration": 5,
    "start_time": "2022-06-07T11:59:16.775Z"
   },
   {
    "duration": 5,
    "start_time": "2022-06-07T12:32:58.468Z"
   },
   {
    "duration": 9,
    "start_time": "2022-06-07T13:34:13.397Z"
   },
   {
    "duration": 6,
    "start_time": "2022-06-07T13:34:19.095Z"
   },
   {
    "duration": 5,
    "start_time": "2022-06-07T13:35:35.775Z"
   },
   {
    "duration": 9,
    "start_time": "2022-06-07T13:36:58.922Z"
   },
   {
    "duration": 4,
    "start_time": "2022-06-07T13:37:02.620Z"
   },
   {
    "duration": 7,
    "start_time": "2022-06-07T14:17:52.815Z"
   },
   {
    "duration": 6,
    "start_time": "2022-06-07T14:18:01.100Z"
   },
   {
    "duration": 2,
    "start_time": "2022-06-07T15:34:35.444Z"
   },
   {
    "duration": 3,
    "start_time": "2022-06-07T15:36:29.018Z"
   },
   {
    "duration": 3,
    "start_time": "2022-06-07T15:42:02.125Z"
   },
   {
    "duration": 4,
    "start_time": "2022-06-07T15:49:33.869Z"
   },
   {
    "duration": 9,
    "start_time": "2022-06-07T15:51:34.196Z"
   },
   {
    "duration": 2,
    "start_time": "2022-06-07T15:51:36.876Z"
   },
   {
    "duration": 4,
    "start_time": "2022-06-07T15:51:38.964Z"
   },
   {
    "duration": 11,
    "start_time": "2022-06-07T15:52:27.950Z"
   },
   {
    "duration": 11,
    "start_time": "2022-06-07T15:52:41.146Z"
   },
   {
    "duration": 12,
    "start_time": "2022-06-07T15:53:08.076Z"
   },
   {
    "duration": 11,
    "start_time": "2022-06-07T15:53:32.096Z"
   },
   {
    "duration": 16,
    "start_time": "2022-06-07T15:53:59.719Z"
   },
   {
    "duration": 7,
    "start_time": "2022-06-07T15:55:21.967Z"
   },
   {
    "duration": 8,
    "start_time": "2022-06-07T15:55:42.407Z"
   },
   {
    "duration": 3,
    "start_time": "2022-06-07T15:55:46.399Z"
   },
   {
    "duration": 3,
    "start_time": "2022-06-07T17:11:28.823Z"
   },
   {
    "duration": 4,
    "start_time": "2022-06-07T17:11:30.830Z"
   },
   {
    "duration": 4,
    "start_time": "2022-06-07T17:12:30.510Z"
   },
   {
    "duration": 7,
    "start_time": "2022-06-07T17:17:03.006Z"
   },
   {
    "duration": 3,
    "start_time": "2022-06-07T17:17:09.681Z"
   },
   {
    "duration": 3,
    "start_time": "2022-06-07T17:17:13.018Z"
   },
   {
    "duration": 3,
    "start_time": "2022-06-07T17:17:17.642Z"
   },
   {
    "duration": 4,
    "start_time": "2022-06-07T17:17:35.069Z"
   },
   {
    "duration": 14,
    "start_time": "2022-06-07T17:21:25.625Z"
   },
   {
    "duration": 5,
    "start_time": "2022-06-07T17:23:39.652Z"
   },
   {
    "duration": 11,
    "start_time": "2022-06-07T17:23:41.317Z"
   },
   {
    "duration": 3,
    "start_time": "2022-06-07T17:24:25.009Z"
   },
   {
    "duration": 14,
    "start_time": "2022-06-07T17:24:26.580Z"
   },
   {
    "duration": 4,
    "start_time": "2022-06-07T17:24:57.830Z"
   },
   {
    "duration": 15,
    "start_time": "2022-06-07T17:24:59.113Z"
   },
   {
    "duration": 3,
    "start_time": "2022-06-07T17:25:54.413Z"
   },
   {
    "duration": 4,
    "start_time": "2022-06-07T17:25:55.617Z"
   },
   {
    "duration": 4,
    "start_time": "2022-06-07T17:33:40.242Z"
   },
   {
    "duration": 5,
    "start_time": "2022-06-07T17:33:45.952Z"
   },
   {
    "duration": 3,
    "start_time": "2022-06-07T17:40:25.344Z"
   },
   {
    "duration": 7,
    "start_time": "2022-06-07T17:40:27.669Z"
   },
   {
    "duration": 4,
    "start_time": "2022-06-07T17:40:53.348Z"
   },
   {
    "duration": 9,
    "start_time": "2022-06-07T17:40:55.888Z"
   },
   {
    "duration": 6,
    "start_time": "2022-06-07T17:45:00.783Z"
   },
   {
    "duration": 9,
    "start_time": "2022-06-07T17:45:08.096Z"
   },
   {
    "duration": 4,
    "start_time": "2022-06-07T17:47:53.136Z"
   },
   {
    "duration": 5,
    "start_time": "2022-06-07T17:47:55.210Z"
   },
   {
    "duration": 5,
    "start_time": "2022-06-07T17:47:57.075Z"
   },
   {
    "duration": 5,
    "start_time": "2022-06-07T17:47:58.900Z"
   },
   {
    "duration": 16,
    "start_time": "2022-06-07T17:54:16.906Z"
   },
   {
    "duration": 5,
    "start_time": "2022-06-07T17:57:40.935Z"
   },
   {
    "duration": 3,
    "start_time": "2022-06-07T17:57:42.682Z"
   },
   {
    "duration": 7,
    "start_time": "2022-06-07T17:57:54.577Z"
   },
   {
    "duration": 14,
    "start_time": "2022-06-07T17:58:09.754Z"
   },
   {
    "duration": 19,
    "start_time": "2022-06-07T17:59:32.190Z"
   },
   {
    "duration": 14,
    "start_time": "2022-06-07T18:00:24.049Z"
   },
   {
    "duration": 17,
    "start_time": "2022-06-07T18:00:36.340Z"
   },
   {
    "duration": 11,
    "start_time": "2022-06-07T18:00:38.154Z"
   },
   {
    "duration": 12,
    "start_time": "2022-06-07T18:00:39.410Z"
   },
   {
    "duration": 11,
    "start_time": "2022-06-07T18:00:40.501Z"
   },
   {
    "duration": 10,
    "start_time": "2022-06-07T18:00:41.409Z"
   },
   {
    "duration": 10,
    "start_time": "2022-06-07T18:00:41.770Z"
   },
   {
    "duration": 12,
    "start_time": "2022-06-07T18:00:42.169Z"
   },
   {
    "duration": 10,
    "start_time": "2022-06-07T18:00:42.553Z"
   },
   {
    "duration": 10,
    "start_time": "2022-06-07T18:00:42.915Z"
   },
   {
    "duration": 11,
    "start_time": "2022-06-07T18:00:43.342Z"
   },
   {
    "duration": 12,
    "start_time": "2022-06-07T18:00:43.697Z"
   },
   {
    "duration": 12,
    "start_time": "2022-06-07T18:00:52.442Z"
   },
   {
    "duration": 11,
    "start_time": "2022-06-07T18:00:52.698Z"
   },
   {
    "duration": 12,
    "start_time": "2022-06-07T18:00:52.897Z"
   },
   {
    "duration": 11,
    "start_time": "2022-06-07T18:00:53.122Z"
   },
   {
    "duration": 38,
    "start_time": "2022-06-07T18:00:54.167Z"
   },
   {
    "duration": 5,
    "start_time": "2022-06-07T18:01:21.110Z"
   },
   {
    "duration": 4,
    "start_time": "2022-06-07T18:01:21.486Z"
   },
   {
    "duration": 5,
    "start_time": "2022-06-07T18:01:21.890Z"
   },
   {
    "duration": 4,
    "start_time": "2022-06-07T18:01:22.314Z"
   },
   {
    "duration": 2,
    "start_time": "2022-06-07T18:01:37.271Z"
   },
   {
    "duration": 3,
    "start_time": "2022-06-07T18:01:37.866Z"
   },
   {
    "duration": 3,
    "start_time": "2022-06-07T18:01:38.141Z"
   },
   {
    "duration": 3,
    "start_time": "2022-06-07T18:01:38.345Z"
   },
   {
    "duration": 2,
    "start_time": "2022-06-07T18:01:38.506Z"
   },
   {
    "duration": 5,
    "start_time": "2022-06-07T18:01:47.181Z"
   },
   {
    "duration": 5,
    "start_time": "2022-06-07T18:01:48.054Z"
   },
   {
    "duration": 5,
    "start_time": "2022-06-07T18:01:49.986Z"
   },
   {
    "duration": 6,
    "start_time": "2022-06-07T18:01:50.557Z"
   },
   {
    "duration": 6,
    "start_time": "2022-06-07T18:01:50.826Z"
   },
   {
    "duration": 6,
    "start_time": "2022-06-07T18:01:51.105Z"
   },
   {
    "duration": 6,
    "start_time": "2022-06-07T18:01:51.353Z"
   },
   {
    "duration": 6,
    "start_time": "2022-06-07T18:01:51.578Z"
   },
   {
    "duration": 5,
    "start_time": "2022-06-07T18:01:51.817Z"
   },
   {
    "duration": 5,
    "start_time": "2022-06-07T18:01:52.042Z"
   },
   {
    "duration": 5,
    "start_time": "2022-06-07T18:01:52.274Z"
   },
   {
    "duration": 4,
    "start_time": "2022-06-07T18:01:52.474Z"
   },
   {
    "duration": 5,
    "start_time": "2022-06-07T18:01:52.689Z"
   },
   {
    "duration": 4,
    "start_time": "2022-06-07T18:01:52.898Z"
   },
   {
    "duration": 5,
    "start_time": "2022-06-07T18:01:53.082Z"
   },
   {
    "duration": 5,
    "start_time": "2022-06-07T18:01:53.881Z"
   },
   {
    "duration": 4,
    "start_time": "2022-06-07T18:01:54.145Z"
   },
   {
    "duration": 5,
    "start_time": "2022-06-07T18:01:54.286Z"
   },
   {
    "duration": 13,
    "start_time": "2022-06-07T18:02:48.440Z"
   },
   {
    "duration": 4,
    "start_time": "2022-06-07T18:04:51.265Z"
   },
   {
    "duration": 3,
    "start_time": "2022-06-07T18:04:55.485Z"
   },
   {
    "duration": 6,
    "start_time": "2022-06-07T18:04:58.142Z"
   },
   {
    "duration": 5,
    "start_time": "2022-06-07T18:04:59.102Z"
   },
   {
    "duration": 6,
    "start_time": "2022-06-07T18:04:59.693Z"
   },
   {
    "duration": 3,
    "start_time": "2022-06-07T18:14:07.809Z"
   },
   {
    "duration": 3,
    "start_time": "2022-06-07T18:18:32.761Z"
   },
   {
    "duration": 3,
    "start_time": "2022-06-07T18:19:17.537Z"
   },
   {
    "duration": 14,
    "start_time": "2022-06-07T18:28:37.140Z"
   },
   {
    "duration": 3,
    "start_time": "2022-06-07T18:37:44.968Z"
   },
   {
    "duration": 2,
    "start_time": "2022-06-07T18:37:49.100Z"
   },
   {
    "duration": 3,
    "start_time": "2022-06-07T18:37:52.639Z"
   },
   {
    "duration": 16,
    "start_time": "2022-06-07T18:37:55.497Z"
   },
   {
    "duration": 14,
    "start_time": "2022-06-07T18:38:37.968Z"
   },
   {
    "duration": 19,
    "start_time": "2022-06-07T18:38:38.865Z"
   },
   {
    "duration": 14,
    "start_time": "2022-06-07T18:38:39.137Z"
   },
   {
    "duration": 13,
    "start_time": "2022-06-07T18:38:39.341Z"
   },
   {
    "duration": 13,
    "start_time": "2022-06-07T18:38:39.500Z"
   },
   {
    "duration": 13,
    "start_time": "2022-06-07T18:38:39.668Z"
   },
   {
    "duration": 13,
    "start_time": "2022-06-07T18:38:39.845Z"
   },
   {
    "duration": 13,
    "start_time": "2022-06-07T18:38:40.056Z"
   },
   {
    "duration": 4,
    "start_time": "2022-06-07T18:40:09.458Z"
   },
   {
    "duration": 13,
    "start_time": "2022-06-07T18:40:12.322Z"
   },
   {
    "duration": 8,
    "start_time": "2022-06-07T18:40:14.616Z"
   },
   {
    "duration": 4,
    "start_time": "2022-06-07T18:40:17.519Z"
   },
   {
    "duration": 14,
    "start_time": "2022-06-07T18:40:19.824Z"
   },
   {
    "duration": 3,
    "start_time": "2022-06-07T18:40:21.312Z"
   },
   {
    "duration": 4,
    "start_time": "2022-06-07T18:41:35.405Z"
   },
   {
    "duration": 477,
    "start_time": "2022-06-07T18:41:35.413Z"
   },
   {
    "duration": 603,
    "start_time": "2022-06-07T18:41:35.891Z"
   },
   {
    "duration": 238,
    "start_time": "2022-06-07T18:41:36.496Z"
   },
   {
    "duration": 16,
    "start_time": "2022-06-07T18:41:36.735Z"
   },
   {
    "duration": 56,
    "start_time": "2022-06-07T18:41:36.755Z"
   },
   {
    "duration": 52,
    "start_time": "2022-06-07T18:41:36.813Z"
   },
   {
    "duration": 48,
    "start_time": "2022-06-07T18:41:36.867Z"
   },
   {
    "duration": 24,
    "start_time": "2022-06-07T18:41:36.917Z"
   },
   {
    "duration": 15,
    "start_time": "2022-06-07T18:41:36.943Z"
   },
   {
    "duration": 34,
    "start_time": "2022-06-07T18:41:36.959Z"
   },
   {
    "duration": 53,
    "start_time": "2022-06-07T18:41:36.994Z"
   },
   {
    "duration": 68,
    "start_time": "2022-06-07T18:41:37.048Z"
   },
   {
    "duration": 9,
    "start_time": "2022-06-07T18:41:37.130Z"
   },
   {
    "duration": 38,
    "start_time": "2022-06-07T18:41:37.141Z"
   },
   {
    "duration": 32,
    "start_time": "2022-06-07T18:41:37.180Z"
   },
   {
    "duration": 48,
    "start_time": "2022-06-07T18:41:37.214Z"
   },
   {
    "duration": 82,
    "start_time": "2022-06-07T18:41:37.264Z"
   },
   {
    "duration": 35,
    "start_time": "2022-06-07T18:41:37.348Z"
   },
   {
    "duration": 10,
    "start_time": "2022-06-07T18:41:37.384Z"
   },
   {
    "duration": 12,
    "start_time": "2022-06-07T18:41:37.395Z"
   },
   {
    "duration": 7,
    "start_time": "2022-06-07T18:41:37.408Z"
   },
   {
    "duration": 591,
    "start_time": "2022-06-07T18:41:37.417Z"
   },
   {
    "duration": 33,
    "start_time": "2022-06-07T18:41:38.011Z"
   },
   {
    "duration": 3,
    "start_time": "2022-06-07T18:41:38.046Z"
   },
   {
    "duration": 82,
    "start_time": "2022-06-07T18:41:38.051Z"
   },
   {
    "duration": 28,
    "start_time": "2022-06-07T18:41:38.134Z"
   },
   {
    "duration": 13,
    "start_time": "2022-06-07T18:41:38.164Z"
   },
   {
    "duration": 80,
    "start_time": "2022-06-07T18:41:38.178Z"
   },
   {
    "duration": 26,
    "start_time": "2022-06-07T18:41:38.260Z"
   },
   {
    "duration": 3,
    "start_time": "2022-06-07T18:41:38.288Z"
   },
   {
    "duration": 62,
    "start_time": "2022-06-07T18:41:38.292Z"
   },
   {
    "duration": 10,
    "start_time": "2022-06-07T18:41:38.361Z"
   },
   {
    "duration": 18,
    "start_time": "2022-06-07T18:41:38.372Z"
   },
   {
    "duration": 10,
    "start_time": "2022-06-07T18:41:38.392Z"
   },
   {
    "duration": 14,
    "start_time": "2022-06-07T18:41:38.404Z"
   },
   {
    "duration": 8,
    "start_time": "2022-06-07T18:41:38.419Z"
   },
   {
    "duration": 42,
    "start_time": "2022-06-07T18:41:38.428Z"
   },
   {
    "duration": 69,
    "start_time": "2022-06-07T18:41:38.472Z"
   },
   {
    "duration": 119,
    "start_time": "2022-06-07T18:41:38.548Z"
   },
   {
    "duration": 14,
    "start_time": "2022-06-07T18:41:38.669Z"
   },
   {
    "duration": 21,
    "start_time": "2022-06-07T18:41:38.684Z"
   },
   {
    "duration": 4,
    "start_time": "2022-06-07T18:41:38.707Z"
   },
   {
    "duration": 10,
    "start_time": "2022-06-07T18:41:38.712Z"
   },
   {
    "duration": 123,
    "start_time": "2022-06-07T18:41:38.724Z"
   },
   {
    "duration": 118,
    "start_time": "2022-06-07T18:41:38.850Z"
   },
   {
    "duration": 18,
    "start_time": "2022-06-07T18:41:38.969Z"
   },
   {
    "duration": 14,
    "start_time": "2022-06-07T18:41:38.989Z"
   },
   {
    "duration": 4,
    "start_time": "2022-06-07T18:41:39.005Z"
   },
   {
    "duration": 8,
    "start_time": "2022-06-07T18:41:39.011Z"
   },
   {
    "duration": 107,
    "start_time": "2022-06-07T18:41:39.020Z"
   },
   {
    "duration": 6,
    "start_time": "2022-06-07T18:41:39.129Z"
   },
   {
    "duration": 101,
    "start_time": "2022-06-07T18:41:39.136Z"
   },
   {
    "duration": 24,
    "start_time": "2022-06-07T18:41:39.239Z"
   },
   {
    "duration": 6,
    "start_time": "2022-06-07T18:41:39.265Z"
   },
   {
    "duration": 5,
    "start_time": "2022-06-07T18:41:39.273Z"
   },
   {
    "duration": 4,
    "start_time": "2022-06-07T18:41:39.280Z"
   },
   {
    "duration": 7,
    "start_time": "2022-06-07T18:41:39.285Z"
   },
   {
    "duration": 6,
    "start_time": "2022-06-07T18:41:39.293Z"
   },
   {
    "duration": 14,
    "start_time": "2022-06-07T18:41:39.300Z"
   },
   {
    "duration": 5,
    "start_time": "2022-06-07T18:41:39.315Z"
   },
   {
    "duration": 3,
    "start_time": "2022-06-07T18:44:26.188Z"
   },
   {
    "duration": 2,
    "start_time": "2022-06-07T18:44:26.692Z"
   },
   {
    "duration": 26,
    "start_time": "2022-06-07T18:44:27.849Z"
   },
   {
    "duration": 3,
    "start_time": "2022-06-07T18:45:03.307Z"
   },
   {
    "duration": 9,
    "start_time": "2022-06-07T18:46:07.224Z"
   },
   {
    "duration": 3,
    "start_time": "2022-06-07T18:46:07.845Z"
   },
   {
    "duration": 3,
    "start_time": "2022-06-07T18:46:08.469Z"
   },
   {
    "duration": 20,
    "start_time": "2022-06-07T18:46:09.796Z"
   },
   {
    "duration": 5,
    "start_time": "2022-06-07T18:46:12.445Z"
   },
   {
    "duration": 4,
    "start_time": "2022-06-07T18:46:55.042Z"
   },
   {
    "duration": 2,
    "start_time": "2022-06-07T18:46:55.396Z"
   },
   {
    "duration": 3,
    "start_time": "2022-06-07T18:46:55.795Z"
   },
   {
    "duration": 13,
    "start_time": "2022-06-07T18:47:06.472Z"
   },
   {
    "duration": 2,
    "start_time": "2022-06-07T18:47:12.272Z"
   },
   {
    "duration": 2,
    "start_time": "2022-06-07T18:48:05.020Z"
   },
   {
    "duration": 2864,
    "start_time": "2022-06-07T18:48:05.895Z"
   },
   {
    "duration": 4,
    "start_time": "2022-06-07T18:48:15.008Z"
   },
   {
    "duration": 434,
    "start_time": "2022-06-07T18:50:05.597Z"
   },
   {
    "duration": 5,
    "start_time": "2022-06-07T18:50:08.318Z"
   },
   {
    "duration": 3,
    "start_time": "2022-06-07T18:55:04.078Z"
   },
   {
    "duration": 651,
    "start_time": "2022-06-07T18:55:05.502Z"
   },
   {
    "duration": 4,
    "start_time": "2022-06-07T18:55:07.976Z"
   },
   {
    "duration": 1032,
    "start_time": "2022-06-07T18:55:23.358Z"
   },
   {
    "duration": 5,
    "start_time": "2022-06-07T18:55:24.392Z"
   },
   {
    "duration": 449,
    "start_time": "2022-06-07T18:55:40.806Z"
   },
   {
    "duration": 5,
    "start_time": "2022-06-07T18:55:42.458Z"
   },
   {
    "duration": 3,
    "start_time": "2022-06-07T18:55:48.490Z"
   },
   {
    "duration": 371,
    "start_time": "2022-06-07T18:55:49.298Z"
   },
   {
    "duration": 3,
    "start_time": "2022-06-07T18:55:49.898Z"
   },
   {
    "duration": 2,
    "start_time": "2022-06-07T18:55:55.558Z"
   },
   {
    "duration": 601,
    "start_time": "2022-06-07T18:56:02.921Z"
   },
   {
    "duration": 5,
    "start_time": "2022-06-07T18:56:03.526Z"
   },
   {
    "duration": 2,
    "start_time": "2022-06-07T18:56:08.003Z"
   },
   {
    "duration": 922,
    "start_time": "2022-06-07T18:56:13.918Z"
   },
   {
    "duration": 4,
    "start_time": "2022-06-07T18:56:14.843Z"
   },
   {
    "duration": 2,
    "start_time": "2022-06-07T18:56:37.814Z"
   },
   {
    "duration": 918,
    "start_time": "2022-06-07T18:56:38.326Z"
   },
   {
    "duration": 6,
    "start_time": "2022-06-07T18:56:39.246Z"
   },
   {
    "duration": 3,
    "start_time": "2022-06-07T18:56:58.165Z"
   },
   {
    "duration": 321,
    "start_time": "2022-06-07T18:57:00.158Z"
   },
   {
    "duration": 3,
    "start_time": "2022-06-07T18:57:02.857Z"
   },
   {
    "duration": 3,
    "start_time": "2022-06-07T18:59:02.300Z"
   },
   {
    "duration": 8,
    "start_time": "2022-06-07T19:01:23.868Z"
   },
   {
    "duration": 3,
    "start_time": "2022-06-07T19:04:35.694Z"
   },
   {
    "duration": 8,
    "start_time": "2022-06-07T19:08:23.266Z"
   },
   {
    "duration": 4,
    "start_time": "2022-06-07T19:08:30.142Z"
   },
   {
    "duration": 1293,
    "start_time": "2022-06-08T09:21:01.103Z"
   },
   {
    "duration": 480,
    "start_time": "2022-06-08T09:21:02.398Z"
   },
   {
    "duration": 529,
    "start_time": "2022-06-08T09:21:02.880Z"
   },
   {
    "duration": 505,
    "start_time": "2022-06-08T09:21:03.412Z"
   },
   {
    "duration": 12,
    "start_time": "2022-06-08T09:21:03.919Z"
   },
   {
    "duration": 32,
    "start_time": "2022-06-08T09:21:03.933Z"
   },
   {
    "duration": 45,
    "start_time": "2022-06-08T09:21:03.966Z"
   },
   {
    "duration": 54,
    "start_time": "2022-06-08T09:21:04.013Z"
   },
   {
    "duration": 24,
    "start_time": "2022-06-08T09:21:04.068Z"
   },
   {
    "duration": 13,
    "start_time": "2022-06-08T09:21:04.094Z"
   },
   {
    "duration": 31,
    "start_time": "2022-06-08T09:21:04.108Z"
   },
   {
    "duration": 54,
    "start_time": "2022-06-08T09:21:04.141Z"
   },
   {
    "duration": 73,
    "start_time": "2022-06-08T09:21:04.196Z"
   },
   {
    "duration": 20,
    "start_time": "2022-06-08T09:21:04.271Z"
   },
   {
    "duration": 12,
    "start_time": "2022-06-08T09:21:04.293Z"
   },
   {
    "duration": 30,
    "start_time": "2022-06-08T09:21:04.306Z"
   },
   {
    "duration": 57,
    "start_time": "2022-06-08T09:21:04.337Z"
   },
   {
    "duration": 53,
    "start_time": "2022-06-08T09:21:04.396Z"
   },
   {
    "duration": 12,
    "start_time": "2022-06-08T09:21:04.451Z"
   },
   {
    "duration": 2,
    "start_time": "2022-06-08T09:21:04.465Z"
   },
   {
    "duration": 26,
    "start_time": "2022-06-08T09:21:04.469Z"
   },
   {
    "duration": 7,
    "start_time": "2022-06-08T09:21:04.496Z"
   },
   {
    "duration": 518,
    "start_time": "2022-06-08T09:21:04.505Z"
   },
   {
    "duration": 26,
    "start_time": "2022-06-08T09:21:05.025Z"
   },
   {
    "duration": 2,
    "start_time": "2022-06-08T09:21:05.053Z"
   },
   {
    "duration": 63,
    "start_time": "2022-06-08T09:21:05.057Z"
   },
   {
    "duration": 21,
    "start_time": "2022-06-08T09:21:05.121Z"
   },
   {
    "duration": 2,
    "start_time": "2022-06-08T09:21:05.145Z"
   },
   {
    "duration": 63,
    "start_time": "2022-06-08T09:21:05.149Z"
   },
   {
    "duration": 20,
    "start_time": "2022-06-08T09:21:05.214Z"
   },
   {
    "duration": 3,
    "start_time": "2022-06-08T09:21:05.235Z"
   },
   {
    "duration": 68,
    "start_time": "2022-06-08T09:21:05.240Z"
   },
   {
    "duration": 5,
    "start_time": "2022-06-08T09:21:05.310Z"
   },
   {
    "duration": 15,
    "start_time": "2022-06-08T09:21:05.317Z"
   },
   {
    "duration": 9,
    "start_time": "2022-06-08T09:21:05.333Z"
   },
   {
    "duration": 14,
    "start_time": "2022-06-08T09:21:05.343Z"
   },
   {
    "duration": 3,
    "start_time": "2022-06-08T09:21:05.359Z"
   },
   {
    "duration": 5,
    "start_time": "2022-06-08T09:21:05.364Z"
   },
   {
    "duration": 122,
    "start_time": "2022-06-08T09:21:05.370Z"
   },
   {
    "duration": 97,
    "start_time": "2022-06-08T09:21:05.495Z"
   },
   {
    "duration": 5,
    "start_time": "2022-06-08T09:21:05.594Z"
   },
   {
    "duration": 14,
    "start_time": "2022-06-08T09:21:05.600Z"
   },
   {
    "duration": 3,
    "start_time": "2022-06-08T09:21:05.615Z"
   },
   {
    "duration": 6,
    "start_time": "2022-06-08T09:21:05.619Z"
   },
   {
    "duration": 75,
    "start_time": "2022-06-08T09:21:05.626Z"
   },
   {
    "duration": 94,
    "start_time": "2022-06-08T09:21:05.702Z"
   },
   {
    "duration": 13,
    "start_time": "2022-06-08T09:21:05.798Z"
   },
   {
    "duration": 14,
    "start_time": "2022-06-08T09:21:05.812Z"
   },
   {
    "duration": 4,
    "start_time": "2022-06-08T09:21:05.827Z"
   },
   {
    "duration": 5,
    "start_time": "2022-06-08T09:21:05.832Z"
   },
   {
    "duration": 157,
    "start_time": "2022-06-08T09:21:05.838Z"
   },
   {
    "duration": 2,
    "start_time": "2022-06-08T09:21:05.997Z"
   },
   {
    "duration": 9,
    "start_time": "2022-06-08T09:21:06.001Z"
   },
   {
    "duration": 6,
    "start_time": "2022-06-08T09:21:06.012Z"
   },
   {
    "duration": 15,
    "start_time": "2022-06-08T09:21:06.019Z"
   },
   {
    "duration": 7,
    "start_time": "2022-06-08T09:21:06.036Z"
   },
   {
    "duration": 5,
    "start_time": "2022-06-08T09:21:06.045Z"
   },
   {
    "duration": 7,
    "start_time": "2022-06-08T09:21:06.051Z"
   },
   {
    "duration": 9,
    "start_time": "2022-06-08T09:21:06.059Z"
   },
   {
    "duration": 323,
    "start_time": "2022-06-08T09:21:06.069Z"
   },
   {
    "duration": 4,
    "start_time": "2022-06-08T09:49:16.845Z"
   },
   {
    "duration": 3,
    "start_time": "2022-06-08T09:53:47.183Z"
   },
   {
    "duration": 2,
    "start_time": "2022-06-08T09:55:47.863Z"
   },
   {
    "duration": 3,
    "start_time": "2022-06-08T09:55:53.179Z"
   },
   {
    "duration": 119,
    "start_time": "2022-06-08T09:55:53.183Z"
   },
   {
    "duration": 118,
    "start_time": "2022-06-08T09:55:53.303Z"
   },
   {
    "duration": 110,
    "start_time": "2022-06-08T09:55:53.422Z"
   },
   {
    "duration": 11,
    "start_time": "2022-06-08T09:55:53.533Z"
   },
   {
    "duration": 29,
    "start_time": "2022-06-08T09:55:53.545Z"
   },
   {
    "duration": 48,
    "start_time": "2022-06-08T09:55:53.575Z"
   },
   {
    "duration": 44,
    "start_time": "2022-06-08T09:55:53.624Z"
   },
   {
    "duration": 26,
    "start_time": "2022-06-08T09:55:53.669Z"
   },
   {
    "duration": 10,
    "start_time": "2022-06-08T09:55:53.697Z"
   },
   {
    "duration": 28,
    "start_time": "2022-06-08T09:55:53.709Z"
   },
   {
    "duration": 31,
    "start_time": "2022-06-08T09:55:53.738Z"
   },
   {
    "duration": 46,
    "start_time": "2022-06-08T09:55:53.791Z"
   },
   {
    "duration": 6,
    "start_time": "2022-06-08T09:55:53.838Z"
   },
   {
    "duration": 11,
    "start_time": "2022-06-08T09:55:53.845Z"
   },
   {
    "duration": 49,
    "start_time": "2022-06-08T09:55:53.857Z"
   },
   {
    "duration": 35,
    "start_time": "2022-06-08T09:55:53.907Z"
   },
   {
    "duration": 56,
    "start_time": "2022-06-08T09:55:53.943Z"
   },
   {
    "duration": 11,
    "start_time": "2022-06-08T09:55:54.001Z"
   },
   {
    "duration": 6,
    "start_time": "2022-06-08T09:55:54.013Z"
   },
   {
    "duration": 4,
    "start_time": "2022-06-08T09:55:54.020Z"
   },
   {
    "duration": 4,
    "start_time": "2022-06-08T09:55:54.025Z"
   },
   {
    "duration": 504,
    "start_time": "2022-06-08T09:55:54.031Z"
   },
   {
    "duration": 19,
    "start_time": "2022-06-08T09:55:54.536Z"
   },
   {
    "duration": 3,
    "start_time": "2022-06-08T09:55:54.557Z"
   },
   {
    "duration": 68,
    "start_time": "2022-06-08T09:55:54.561Z"
   },
   {
    "duration": 20,
    "start_time": "2022-06-08T09:55:54.630Z"
   },
   {
    "duration": 3,
    "start_time": "2022-06-08T09:55:54.651Z"
   },
   {
    "duration": 57,
    "start_time": "2022-06-08T09:55:54.657Z"
   },
   {
    "duration": 19,
    "start_time": "2022-06-08T09:55:54.716Z"
   },
   {
    "duration": 3,
    "start_time": "2022-06-08T09:55:54.737Z"
   },
   {
    "duration": 67,
    "start_time": "2022-06-08T09:55:54.741Z"
   },
   {
    "duration": 7,
    "start_time": "2022-06-08T09:55:54.810Z"
   },
   {
    "duration": 22,
    "start_time": "2022-06-08T09:55:54.819Z"
   },
   {
    "duration": 10,
    "start_time": "2022-06-08T09:55:54.843Z"
   },
   {
    "duration": 15,
    "start_time": "2022-06-08T09:55:54.855Z"
   },
   {
    "duration": 4,
    "start_time": "2022-06-08T09:55:54.872Z"
   },
   {
    "duration": 3,
    "start_time": "2022-06-08T09:55:54.892Z"
   },
   {
    "duration": 23,
    "start_time": "2022-06-08T09:55:54.896Z"
   },
   {
    "duration": 100,
    "start_time": "2022-06-08T09:55:54.992Z"
   },
   {
    "duration": 4,
    "start_time": "2022-06-08T09:55:55.094Z"
   },
   {
    "duration": 18,
    "start_time": "2022-06-08T09:55:55.099Z"
   },
   {
    "duration": 3,
    "start_time": "2022-06-08T09:55:55.118Z"
   },
   {
    "duration": 15,
    "start_time": "2022-06-08T09:55:55.122Z"
   },
   {
    "duration": 55,
    "start_time": "2022-06-08T09:55:55.138Z"
   },
   {
    "duration": 104,
    "start_time": "2022-06-08T09:55:55.194Z"
   },
   {
    "duration": 7,
    "start_time": "2022-06-08T09:55:55.300Z"
   },
   {
    "duration": 12,
    "start_time": "2022-06-08T09:55:55.308Z"
   },
   {
    "duration": 3,
    "start_time": "2022-06-08T09:55:55.322Z"
   },
   {
    "duration": 7,
    "start_time": "2022-06-08T09:55:55.327Z"
   },
   {
    "duration": 58,
    "start_time": "2022-06-08T09:55:55.336Z"
   },
   {
    "duration": 3,
    "start_time": "2022-06-08T09:55:55.395Z"
   },
   {
    "duration": 98,
    "start_time": "2022-06-08T09:55:55.399Z"
   },
   {
    "duration": 6,
    "start_time": "2022-06-08T09:55:55.498Z"
   },
   {
    "duration": 7,
    "start_time": "2022-06-08T09:55:55.506Z"
   },
   {
    "duration": 6,
    "start_time": "2022-06-08T09:55:55.515Z"
   },
   {
    "duration": 4,
    "start_time": "2022-06-08T09:55:55.523Z"
   },
   {
    "duration": 6,
    "start_time": "2022-06-08T09:55:55.528Z"
   },
   {
    "duration": 5,
    "start_time": "2022-06-08T09:55:55.535Z"
   },
   {
    "duration": 303,
    "start_time": "2022-06-08T09:55:55.541Z"
   },
   {
    "duration": 2,
    "start_time": "2022-06-08T09:55:55.846Z"
   },
   {
    "duration": 6,
    "start_time": "2022-06-08T09:57:58.574Z"
   },
   {
    "duration": 110,
    "start_time": "2022-06-08T09:59:14.194Z"
   },
   {
    "duration": 5,
    "start_time": "2022-06-08T09:59:36.170Z"
   },
   {
    "duration": 5,
    "start_time": "2022-06-08T10:01:36.550Z"
   },
   {
    "duration": 8,
    "start_time": "2022-06-08T10:02:30.446Z"
   },
   {
    "duration": 5,
    "start_time": "2022-06-08T10:02:38.814Z"
   },
   {
    "duration": 10,
    "start_time": "2022-06-08T10:10:35.361Z"
   },
   {
    "duration": 6,
    "start_time": "2022-06-08T10:10:43.453Z"
   },
   {
    "duration": 6,
    "start_time": "2022-06-08T10:11:25.873Z"
   },
   {
    "duration": 5,
    "start_time": "2022-06-08T10:11:38.193Z"
   },
   {
    "duration": 5,
    "start_time": "2022-06-08T10:11:47.401Z"
   },
   {
    "duration": 302,
    "start_time": "2022-06-08T10:16:03.601Z"
   },
   {
    "duration": 2,
    "start_time": "2022-06-08T10:16:06.809Z"
   },
   {
    "duration": 3,
    "start_time": "2022-06-08T10:16:17.049Z"
   },
   {
    "duration": 3,
    "start_time": "2022-06-08T10:16:17.825Z"
   },
   {
    "duration": 4,
    "start_time": "2022-06-08T10:16:22.713Z"
   },
   {
    "duration": 169,
    "start_time": "2022-06-08T10:16:22.719Z"
   },
   {
    "duration": 133,
    "start_time": "2022-06-08T10:16:22.891Z"
   },
   {
    "duration": 122,
    "start_time": "2022-06-08T10:16:23.025Z"
   },
   {
    "duration": 13,
    "start_time": "2022-06-08T10:16:23.149Z"
   },
   {
    "duration": 45,
    "start_time": "2022-06-08T10:16:23.163Z"
   },
   {
    "duration": 38,
    "start_time": "2022-06-08T10:16:23.209Z"
   },
   {
    "duration": 63,
    "start_time": "2022-06-08T10:16:23.249Z"
   },
   {
    "duration": 11,
    "start_time": "2022-06-08T10:16:23.314Z"
   },
   {
    "duration": 12,
    "start_time": "2022-06-08T10:16:23.326Z"
   },
   {
    "duration": 51,
    "start_time": "2022-06-08T10:16:23.341Z"
   },
   {
    "duration": 35,
    "start_time": "2022-06-08T10:16:23.393Z"
   },
   {
    "duration": 63,
    "start_time": "2022-06-08T10:16:23.429Z"
   },
   {
    "duration": 6,
    "start_time": "2022-06-08T10:16:23.493Z"
   },
   {
    "duration": 15,
    "start_time": "2022-06-08T10:16:23.500Z"
   },
   {
    "duration": 33,
    "start_time": "2022-06-08T10:16:23.516Z"
   },
   {
    "duration": 58,
    "start_time": "2022-06-08T10:16:23.550Z"
   },
   {
    "duration": 49,
    "start_time": "2022-06-08T10:16:23.609Z"
   },
   {
    "duration": 13,
    "start_time": "2022-06-08T10:16:23.659Z"
   },
   {
    "duration": 5,
    "start_time": "2022-06-08T10:16:23.691Z"
   },
   {
    "duration": 7,
    "start_time": "2022-06-08T10:16:23.697Z"
   },
   {
    "duration": 5,
    "start_time": "2022-06-08T10:16:23.705Z"
   },
   {
    "duration": 528,
    "start_time": "2022-06-08T10:16:23.711Z"
   },
   {
    "duration": 19,
    "start_time": "2022-06-08T10:16:24.241Z"
   },
   {
    "duration": 3,
    "start_time": "2022-06-08T10:16:24.261Z"
   },
   {
    "duration": 58,
    "start_time": "2022-06-08T10:16:24.265Z"
   },
   {
    "duration": 19,
    "start_time": "2022-06-08T10:16:24.325Z"
   },
   {
    "duration": 2,
    "start_time": "2022-06-08T10:16:24.345Z"
   },
   {
    "duration": 60,
    "start_time": "2022-06-08T10:16:24.351Z"
   },
   {
    "duration": 20,
    "start_time": "2022-06-08T10:16:24.412Z"
   },
   {
    "duration": 2,
    "start_time": "2022-06-08T10:16:24.433Z"
   },
   {
    "duration": 56,
    "start_time": "2022-06-08T10:16:24.437Z"
   },
   {
    "duration": 6,
    "start_time": "2022-06-08T10:16:24.494Z"
   },
   {
    "duration": 16,
    "start_time": "2022-06-08T10:16:24.501Z"
   },
   {
    "duration": 9,
    "start_time": "2022-06-08T10:16:24.518Z"
   },
   {
    "duration": 14,
    "start_time": "2022-06-08T10:16:24.528Z"
   },
   {
    "duration": 3,
    "start_time": "2022-06-08T10:16:24.543Z"
   },
   {
    "duration": 7,
    "start_time": "2022-06-08T10:16:24.547Z"
   },
   {
    "duration": 40,
    "start_time": "2022-06-08T10:16:24.555Z"
   },
   {
    "duration": 103,
    "start_time": "2022-06-08T10:16:24.597Z"
   },
   {
    "duration": 5,
    "start_time": "2022-06-08T10:16:24.701Z"
   },
   {
    "duration": 11,
    "start_time": "2022-06-08T10:16:24.707Z"
   },
   {
    "duration": 2,
    "start_time": "2022-06-08T10:16:24.720Z"
   },
   {
    "duration": 7,
    "start_time": "2022-06-08T10:16:24.723Z"
   },
   {
    "duration": 161,
    "start_time": "2022-06-08T10:16:24.731Z"
   },
   {
    "duration": 100,
    "start_time": "2022-06-08T10:16:24.894Z"
   },
   {
    "duration": 6,
    "start_time": "2022-06-08T10:16:24.995Z"
   },
   {
    "duration": 16,
    "start_time": "2022-06-08T10:16:25.002Z"
   },
   {
    "duration": 8,
    "start_time": "2022-06-08T10:16:25.019Z"
   },
   {
    "duration": 6,
    "start_time": "2022-06-08T10:16:25.028Z"
   },
   {
    "duration": 58,
    "start_time": "2022-06-08T10:16:25.035Z"
   },
   {
    "duration": 2,
    "start_time": "2022-06-08T10:16:25.095Z"
   },
   {
    "duration": 98,
    "start_time": "2022-06-08T10:16:25.099Z"
   },
   {
    "duration": 15,
    "start_time": "2022-06-08T10:16:25.199Z"
   },
   {
    "duration": 9,
    "start_time": "2022-06-08T10:16:25.215Z"
   },
   {
    "duration": 6,
    "start_time": "2022-06-08T10:16:25.225Z"
   },
   {
    "duration": 7,
    "start_time": "2022-06-08T10:16:25.233Z"
   },
   {
    "duration": 7,
    "start_time": "2022-06-08T10:16:25.241Z"
   },
   {
    "duration": 4,
    "start_time": "2022-06-08T10:16:25.249Z"
   },
   {
    "duration": 388,
    "start_time": "2022-06-08T10:16:25.255Z"
   },
   {
    "duration": 3,
    "start_time": "2022-06-08T10:16:31.400Z"
   },
   {
    "duration": 4,
    "start_time": "2022-06-08T10:16:41.964Z"
   },
   {
    "duration": 5,
    "start_time": "2022-06-08T10:16:45.469Z"
   },
   {
    "duration": 4,
    "start_time": "2022-06-08T10:16:50.457Z"
   },
   {
    "duration": 4,
    "start_time": "2022-06-08T10:16:51.877Z"
   },
   {
    "duration": 4,
    "start_time": "2022-06-08T10:17:00.501Z"
   },
   {
    "duration": 5,
    "start_time": "2022-06-08T10:17:05.136Z"
   },
   {
    "duration": 5,
    "start_time": "2022-06-08T10:17:15.765Z"
   },
   {
    "duration": 5,
    "start_time": "2022-06-08T10:17:19.597Z"
   },
   {
    "duration": 4,
    "start_time": "2022-06-08T10:17:43.281Z"
   },
   {
    "duration": 4,
    "start_time": "2022-06-08T10:19:12.700Z"
   },
   {
    "duration": 5,
    "start_time": "2022-06-08T10:21:44.220Z"
   },
   {
    "duration": 5,
    "start_time": "2022-06-08T10:21:53.196Z"
   },
   {
    "duration": 5,
    "start_time": "2022-06-08T10:21:58.897Z"
   },
   {
    "duration": 5,
    "start_time": "2022-06-08T10:22:13.968Z"
   },
   {
    "duration": 5,
    "start_time": "2022-06-08T10:22:19.704Z"
   },
   {
    "duration": 5,
    "start_time": "2022-06-08T10:22:27.888Z"
   },
   {
    "duration": 5,
    "start_time": "2022-06-08T10:22:34.224Z"
   },
   {
    "duration": 4,
    "start_time": "2022-06-08T10:24:52.652Z"
   },
   {
    "duration": 3,
    "start_time": "2022-06-08T10:24:55.263Z"
   },
   {
    "duration": 3,
    "start_time": "2022-06-08T10:24:56.364Z"
   },
   {
    "duration": 295,
    "start_time": "2022-06-08T10:25:08.928Z"
   },
   {
    "duration": 2,
    "start_time": "2022-06-08T10:25:10.656Z"
   },
   {
    "duration": 3,
    "start_time": "2022-06-08T10:25:14.324Z"
   },
   {
    "duration": 5,
    "start_time": "2022-06-08T10:25:20.724Z"
   },
   {
    "duration": 5,
    "start_time": "2022-06-08T10:25:22.751Z"
   },
   {
    "duration": 6,
    "start_time": "2022-06-08T10:25:24.055Z"
   },
   {
    "duration": 4,
    "start_time": "2022-06-08T10:25:25.384Z"
   },
   {
    "duration": 4,
    "start_time": "2022-06-08T10:33:56.015Z"
   },
   {
    "duration": 4,
    "start_time": "2022-06-08T10:34:05.223Z"
   },
   {
    "duration": 4,
    "start_time": "2022-06-08T10:34:30.287Z"
   },
   {
    "duration": 5,
    "start_time": "2022-06-08T10:36:47.950Z"
   },
   {
    "duration": 5,
    "start_time": "2022-06-08T10:37:02.151Z"
   },
   {
    "duration": 33,
    "start_time": "2022-06-08T11:00:23.044Z"
   },
   {
    "duration": 4,
    "start_time": "2022-06-08T12:10:37.548Z"
   },
   {
    "duration": 2,
    "start_time": "2022-06-08T12:32:33.902Z"
   },
   {
    "duration": 3,
    "start_time": "2022-06-08T12:32:50.758Z"
   },
   {
    "duration": 361,
    "start_time": "2022-06-08T12:39:28.294Z"
   },
   {
    "duration": 4,
    "start_time": "2022-06-08T12:39:41.078Z"
   },
   {
    "duration": 3,
    "start_time": "2022-06-08T12:39:41.519Z"
   },
   {
    "duration": 2,
    "start_time": "2022-06-08T12:39:42.502Z"
   },
   {
    "duration": 3,
    "start_time": "2022-06-08T12:39:42.982Z"
   },
   {
    "duration": 151,
    "start_time": "2022-06-08T12:39:43.854Z"
   },
   {
    "duration": 360,
    "start_time": "2022-06-08T12:40:17.343Z"
   },
   {
    "duration": 3,
    "start_time": "2022-06-08T12:40:20.766Z"
   },
   {
    "duration": 5,
    "start_time": "2022-06-08T12:40:21.547Z"
   },
   {
    "duration": 6,
    "start_time": "2022-06-08T12:40:28.936Z"
   },
   {
    "duration": 4,
    "start_time": "2022-06-08T12:40:32.019Z"
   },
   {
    "duration": 6,
    "start_time": "2022-06-08T12:40:35.411Z"
   },
   {
    "duration": 4,
    "start_time": "2022-06-08T12:40:51.978Z"
   },
   {
    "duration": 3,
    "start_time": "2022-06-08T12:41:18.735Z"
   },
   {
    "duration": 4,
    "start_time": "2022-06-08T12:41:47.594Z"
   },
   {
    "duration": 3,
    "start_time": "2022-06-08T12:41:48.042Z"
   },
   {
    "duration": 3,
    "start_time": "2022-06-08T12:41:49.214Z"
   },
   {
    "duration": 3,
    "start_time": "2022-06-08T12:41:54.478Z"
   },
   {
    "duration": 353,
    "start_time": "2022-06-08T12:41:56.198Z"
   },
   {
    "duration": 3,
    "start_time": "2022-06-08T12:41:57.958Z"
   },
   {
    "duration": 5,
    "start_time": "2022-06-08T12:41:59.126Z"
   },
   {
    "duration": 7,
    "start_time": "2022-06-08T12:42:01.283Z"
   },
   {
    "duration": 5,
    "start_time": "2022-06-08T12:42:03.479Z"
   },
   {
    "duration": 6,
    "start_time": "2022-06-08T12:42:06.126Z"
   },
   {
    "duration": 3,
    "start_time": "2022-06-08T12:42:07.207Z"
   },
   {
    "duration": 4,
    "start_time": "2022-06-08T12:42:08.438Z"
   },
   {
    "duration": 3,
    "start_time": "2022-06-08T12:46:47.587Z"
   },
   {
    "duration": 5,
    "start_time": "2022-06-08T12:46:56.842Z"
   },
   {
    "duration": 3,
    "start_time": "2022-06-08T13:53:48.837Z"
   },
   {
    "duration": 3,
    "start_time": "2022-06-08T13:53:51.407Z"
   },
   {
    "duration": 3,
    "start_time": "2022-06-08T13:53:52.085Z"
   },
   {
    "duration": 2,
    "start_time": "2022-06-08T13:53:52.734Z"
   },
   {
    "duration": 2,
    "start_time": "2022-06-08T13:53:54.674Z"
   },
   {
    "duration": 10,
    "start_time": "2022-06-08T13:54:05.556Z"
   },
   {
    "duration": 336,
    "start_time": "2022-06-08T13:54:21.133Z"
   },
   {
    "duration": 3,
    "start_time": "2022-06-08T13:54:23.877Z"
   },
   {
    "duration": 6,
    "start_time": "2022-06-08T13:54:27.653Z"
   },
   {
    "duration": 310,
    "start_time": "2022-06-08T13:55:02.337Z"
   },
   {
    "duration": 3,
    "start_time": "2022-06-08T13:55:03.361Z"
   },
   {
    "duration": 5,
    "start_time": "2022-06-08T13:55:03.958Z"
   },
   {
    "duration": 3,
    "start_time": "2022-06-08T13:55:09.006Z"
   },
   {
    "duration": 2,
    "start_time": "2022-06-08T13:55:09.329Z"
   },
   {
    "duration": 2,
    "start_time": "2022-06-08T13:55:09.677Z"
   },
   {
    "duration": 2,
    "start_time": "2022-06-08T13:55:10.102Z"
   },
   {
    "duration": 319,
    "start_time": "2022-06-08T13:55:10.595Z"
   },
   {
    "duration": 3,
    "start_time": "2022-06-08T13:55:11.289Z"
   },
   {
    "duration": 5,
    "start_time": "2022-06-08T13:57:14.157Z"
   },
   {
    "duration": 4,
    "start_time": "2022-06-08T13:57:29.497Z"
   },
   {
    "duration": 5,
    "start_time": "2022-06-08T13:57:51.954Z"
   },
   {
    "duration": 5,
    "start_time": "2022-06-08T14:18:48.792Z"
   },
   {
    "duration": 5,
    "start_time": "2022-06-08T14:20:32.150Z"
   },
   {
    "duration": 6,
    "start_time": "2022-06-08T14:23:00.885Z"
   },
   {
    "duration": 8,
    "start_time": "2022-06-08T14:23:06.027Z"
   },
   {
    "duration": 13,
    "start_time": "2022-06-08T14:23:19.999Z"
   },
   {
    "duration": 7,
    "start_time": "2022-06-08T14:27:44.013Z"
   },
   {
    "duration": 12,
    "start_time": "2022-06-08T14:27:45.927Z"
   },
   {
    "duration": 6,
    "start_time": "2022-06-08T14:29:07.056Z"
   },
   {
    "duration": 14,
    "start_time": "2022-06-08T14:29:08.515Z"
   },
   {
    "duration": 10,
    "start_time": "2022-06-08T14:31:23.610Z"
   },
   {
    "duration": 300,
    "start_time": "2022-06-08T14:31:24.854Z"
   },
   {
    "duration": 6,
    "start_time": "2022-06-08T14:32:53.435Z"
   },
   {
    "duration": 1655,
    "start_time": "2022-06-08T14:32:54.091Z"
   },
   {
    "duration": 16,
    "start_time": "2022-06-08T14:57:39.484Z"
   },
   {
    "duration": 70,
    "start_time": "2022-06-08T14:57:42.675Z"
   },
   {
    "duration": 1928,
    "start_time": "2022-06-08T14:57:48.357Z"
   },
   {
    "duration": 613,
    "start_time": "2022-06-08T14:57:50.288Z"
   },
   {
    "duration": 395,
    "start_time": "2022-06-08T14:57:50.903Z"
   },
   {
    "duration": 366,
    "start_time": "2022-06-08T14:57:51.300Z"
   },
   {
    "duration": 21,
    "start_time": "2022-06-08T14:57:51.669Z"
   },
   {
    "duration": 48,
    "start_time": "2022-06-08T14:57:51.692Z"
   },
   {
    "duration": 71,
    "start_time": "2022-06-08T14:57:51.742Z"
   },
   {
    "duration": 145,
    "start_time": "2022-06-08T14:57:51.815Z"
   },
   {
    "duration": 25,
    "start_time": "2022-06-08T14:57:51.962Z"
   },
   {
    "duration": 18,
    "start_time": "2022-06-08T14:57:51.990Z"
   },
   {
    "duration": 72,
    "start_time": "2022-06-08T14:57:52.010Z"
   },
   {
    "duration": 51,
    "start_time": "2022-06-08T14:57:52.084Z"
   },
   {
    "duration": 132,
    "start_time": "2022-06-08T14:57:52.138Z"
   },
   {
    "duration": 11,
    "start_time": "2022-06-08T14:57:52.275Z"
   },
   {
    "duration": 28,
    "start_time": "2022-06-08T14:57:52.288Z"
   },
   {
    "duration": 58,
    "start_time": "2022-06-08T14:57:52.319Z"
   },
   {
    "duration": 60,
    "start_time": "2022-06-08T14:57:52.379Z"
   },
   {
    "duration": 99,
    "start_time": "2022-06-08T14:57:52.441Z"
   },
   {
    "duration": 19,
    "start_time": "2022-06-08T14:57:52.542Z"
   },
   {
    "duration": 19,
    "start_time": "2022-06-08T14:57:52.570Z"
   },
   {
    "duration": 10,
    "start_time": "2022-06-08T14:57:52.591Z"
   },
   {
    "duration": 5,
    "start_time": "2022-06-08T14:57:52.603Z"
   },
   {
    "duration": 809,
    "start_time": "2022-06-08T14:57:52.610Z"
   },
   {
    "duration": 33,
    "start_time": "2022-06-08T14:57:53.421Z"
   },
   {
    "duration": 32,
    "start_time": "2022-06-08T14:57:53.456Z"
   },
   {
    "duration": 119,
    "start_time": "2022-06-08T14:57:53.491Z"
   },
   {
    "duration": 32,
    "start_time": "2022-06-08T14:57:53.612Z"
   },
   {
    "duration": 32,
    "start_time": "2022-06-08T14:57:53.646Z"
   },
   {
    "duration": 104,
    "start_time": "2022-06-08T14:57:53.680Z"
   },
   {
    "duration": 35,
    "start_time": "2022-06-08T14:57:53.787Z"
   },
   {
    "duration": 10,
    "start_time": "2022-06-08T14:57:53.824Z"
   },
   {
    "duration": 202,
    "start_time": "2022-06-08T14:57:53.836Z"
   },
   {
    "duration": 8,
    "start_time": "2022-06-08T14:57:54.040Z"
   },
   {
    "duration": 42,
    "start_time": "2022-06-08T14:57:54.050Z"
   },
   {
    "duration": 23,
    "start_time": "2022-06-08T14:57:54.094Z"
   },
   {
    "duration": 19,
    "start_time": "2022-06-08T14:57:54.119Z"
   },
   {
    "duration": 33,
    "start_time": "2022-06-08T14:57:54.140Z"
   },
   {
    "duration": 7,
    "start_time": "2022-06-08T14:57:54.175Z"
   },
   {
    "duration": 194,
    "start_time": "2022-06-08T14:57:54.184Z"
   },
   {
    "duration": 15,
    "start_time": "2022-06-08T14:57:54.380Z"
   },
   {
    "duration": 17,
    "start_time": "2022-06-08T14:57:54.437Z"
   },
   {
    "duration": 45,
    "start_time": "2022-06-08T14:57:54.456Z"
   },
   {
    "duration": 4,
    "start_time": "2022-06-08T14:57:54.503Z"
   },
   {
    "duration": 16,
    "start_time": "2022-06-08T14:57:54.509Z"
   },
   {
    "duration": 237,
    "start_time": "2022-06-08T14:57:54.527Z"
   },
   {
    "duration": 15,
    "start_time": "2022-06-08T14:57:54.766Z"
   },
   {
    "duration": 15,
    "start_time": "2022-06-08T14:57:54.782Z"
   },
   {
    "duration": 31,
    "start_time": "2022-06-08T14:57:54.799Z"
   },
   {
    "duration": 48,
    "start_time": "2022-06-08T14:57:54.832Z"
   },
   {
    "duration": 8,
    "start_time": "2022-06-08T14:57:54.882Z"
   },
   {
    "duration": 188,
    "start_time": "2022-06-08T14:57:54.892Z"
   },
   {
    "duration": 3,
    "start_time": "2022-06-08T14:57:55.133Z"
   },
   {
    "duration": 41,
    "start_time": "2022-06-08T14:57:55.138Z"
   },
   {
    "duration": 34,
    "start_time": "2022-06-08T14:57:55.181Z"
   },
   {
    "duration": 66,
    "start_time": "2022-06-08T14:57:55.217Z"
   },
   {
    "duration": 33,
    "start_time": "2022-06-08T14:57:55.286Z"
   },
   {
    "duration": 34,
    "start_time": "2022-06-08T14:57:55.321Z"
   },
   {
    "duration": 31,
    "start_time": "2022-06-08T14:57:55.357Z"
   },
   {
    "duration": 6,
    "start_time": "2022-06-08T14:57:55.390Z"
   },
   {
    "duration": 5,
    "start_time": "2022-06-08T14:57:55.398Z"
   },
   {
    "duration": 6,
    "start_time": "2022-06-08T14:57:55.405Z"
   },
   {
    "duration": 562,
    "start_time": "2022-06-08T14:57:55.412Z"
   },
   {
    "duration": 3,
    "start_time": "2022-06-08T14:57:55.976Z"
   },
   {
    "duration": 20,
    "start_time": "2022-06-08T14:57:55.980Z"
   },
   {
    "duration": 7,
    "start_time": "2022-06-08T14:57:56.002Z"
   },
   {
    "duration": 60,
    "start_time": "2022-06-08T14:57:56.011Z"
   },
   {
    "duration": 11,
    "start_time": "2022-06-08T14:57:56.074Z"
   },
   {
    "duration": 480,
    "start_time": "2022-06-08T14:58:09.952Z"
   },
   {
    "duration": 36,
    "start_time": "2022-06-08T14:58:56.648Z"
   },
   {
    "duration": 10,
    "start_time": "2022-06-08T14:59:21.808Z"
   },
   {
    "duration": 444,
    "start_time": "2022-06-08T14:59:24.124Z"
   },
   {
    "duration": 8,
    "start_time": "2022-06-08T15:04:39.617Z"
   },
   {
    "duration": 337,
    "start_time": "2022-06-08T15:04:41.536Z"
   },
   {
    "duration": 7,
    "start_time": "2022-06-08T15:06:04.273Z"
   },
   {
    "duration": 392,
    "start_time": "2022-06-08T15:06:05.664Z"
   },
   {
    "duration": 10,
    "start_time": "2022-06-08T15:08:37.921Z"
   },
   {
    "duration": 465,
    "start_time": "2022-06-08T15:08:39.493Z"
   },
   {
    "duration": 6,
    "start_time": "2022-06-08T15:13:31.193Z"
   },
   {
    "duration": 411,
    "start_time": "2022-06-08T15:13:33.709Z"
   },
   {
    "duration": 4,
    "start_time": "2022-06-08T15:19:38.601Z"
   },
   {
    "duration": 6,
    "start_time": "2022-06-08T15:20:00.069Z"
   },
   {
    "duration": 382,
    "start_time": "2022-06-08T15:20:03.541Z"
   },
   {
    "duration": 418,
    "start_time": "2022-06-08T15:22:36.169Z"
   },
   {
    "duration": 339,
    "start_time": "2022-06-08T15:24:29.005Z"
   },
   {
    "duration": 4,
    "start_time": "2022-06-08T16:40:54.388Z"
   },
   {
    "duration": 355,
    "start_time": "2022-06-08T16:40:54.393Z"
   },
   {
    "duration": 216,
    "start_time": "2022-06-08T16:40:54.750Z"
   },
   {
    "duration": 156,
    "start_time": "2022-06-08T16:40:54.967Z"
   },
   {
    "duration": 12,
    "start_time": "2022-06-08T16:40:55.125Z"
   },
   {
    "duration": 31,
    "start_time": "2022-06-08T16:40:55.138Z"
   },
   {
    "duration": 38,
    "start_time": "2022-06-08T16:40:55.171Z"
   },
   {
    "duration": 54,
    "start_time": "2022-06-08T16:40:55.227Z"
   },
   {
    "duration": 11,
    "start_time": "2022-06-08T16:40:55.283Z"
   },
   {
    "duration": 12,
    "start_time": "2022-06-08T16:40:55.295Z"
   },
   {
    "duration": 31,
    "start_time": "2022-06-08T16:40:55.328Z"
   },
   {
    "duration": 35,
    "start_time": "2022-06-08T16:40:55.361Z"
   },
   {
    "duration": 81,
    "start_time": "2022-06-08T16:40:55.398Z"
   },
   {
    "duration": 7,
    "start_time": "2022-06-08T16:40:55.481Z"
   },
   {
    "duration": 20,
    "start_time": "2022-06-08T16:40:55.490Z"
   },
   {
    "duration": 41,
    "start_time": "2022-06-08T16:40:55.512Z"
   },
   {
    "duration": 40,
    "start_time": "2022-06-08T16:40:55.554Z"
   },
   {
    "duration": 66,
    "start_time": "2022-06-08T16:40:55.596Z"
   },
   {
    "duration": 11,
    "start_time": "2022-06-08T16:40:55.664Z"
   },
   {
    "duration": 4,
    "start_time": "2022-06-08T16:40:55.677Z"
   },
   {
    "duration": 7,
    "start_time": "2022-06-08T16:40:55.683Z"
   },
   {
    "duration": 5,
    "start_time": "2022-06-08T16:40:55.692Z"
   },
   {
    "duration": 613,
    "start_time": "2022-06-08T16:40:55.698Z"
   },
   {
    "duration": 31,
    "start_time": "2022-06-08T16:40:56.313Z"
   },
   {
    "duration": 3,
    "start_time": "2022-06-08T16:40:56.346Z"
   },
   {
    "duration": 77,
    "start_time": "2022-06-08T16:40:56.351Z"
   },
   {
    "duration": 23,
    "start_time": "2022-06-08T16:40:56.430Z"
   },
   {
    "duration": 3,
    "start_time": "2022-06-08T16:40:56.455Z"
   },
   {
    "duration": 67,
    "start_time": "2022-06-08T16:40:56.461Z"
   },
   {
    "duration": 21,
    "start_time": "2022-06-08T16:40:56.529Z"
   },
   {
    "duration": 2,
    "start_time": "2022-06-08T16:40:56.552Z"
   },
   {
    "duration": 52,
    "start_time": "2022-06-08T16:40:56.555Z"
   },
   {
    "duration": 20,
    "start_time": "2022-06-08T16:40:56.608Z"
   },
   {
    "duration": 17,
    "start_time": "2022-06-08T16:40:56.629Z"
   },
   {
    "duration": 11,
    "start_time": "2022-06-08T16:40:56.648Z"
   },
   {
    "duration": 13,
    "start_time": "2022-06-08T16:40:56.660Z"
   },
   {
    "duration": 4,
    "start_time": "2022-06-08T16:40:56.674Z"
   },
   {
    "duration": 11,
    "start_time": "2022-06-08T16:40:56.679Z"
   },
   {
    "duration": 49,
    "start_time": "2022-06-08T16:40:56.691Z"
   },
   {
    "duration": 96,
    "start_time": "2022-06-08T16:40:56.742Z"
   },
   {
    "duration": 9,
    "start_time": "2022-06-08T16:40:56.839Z"
   },
   {
    "duration": 13,
    "start_time": "2022-06-08T16:40:56.849Z"
   },
   {
    "duration": 67,
    "start_time": "2022-06-08T16:40:56.863Z"
   },
   {
    "duration": 9,
    "start_time": "2022-06-08T16:40:56.931Z"
   },
   {
    "duration": 94,
    "start_time": "2022-06-08T16:40:56.942Z"
   },
   {
    "duration": 11,
    "start_time": "2022-06-08T16:40:57.128Z"
   },
   {
    "duration": 8,
    "start_time": "2022-06-08T16:40:57.140Z"
   },
   {
    "duration": 13,
    "start_time": "2022-06-08T16:40:57.149Z"
   },
   {
    "duration": 3,
    "start_time": "2022-06-08T16:40:57.164Z"
   },
   {
    "duration": 10,
    "start_time": "2022-06-08T16:40:57.168Z"
   },
   {
    "duration": 58,
    "start_time": "2022-06-08T16:40:57.183Z"
   },
   {
    "duration": 3,
    "start_time": "2022-06-08T16:40:57.328Z"
   },
   {
    "duration": 8,
    "start_time": "2022-06-08T16:40:57.333Z"
   },
   {
    "duration": 5,
    "start_time": "2022-06-08T16:40:57.343Z"
   },
   {
    "duration": 79,
    "start_time": "2022-06-08T16:40:57.349Z"
   },
   {
    "duration": 8,
    "start_time": "2022-06-08T16:40:57.430Z"
   },
   {
    "duration": 5,
    "start_time": "2022-06-08T16:40:57.440Z"
   },
   {
    "duration": 8,
    "start_time": "2022-06-08T16:40:57.447Z"
   },
   {
    "duration": 320,
    "start_time": "2022-06-08T16:40:57.456Z"
   },
   {
    "duration": 325,
    "start_time": "2022-06-08T16:40:57.778Z"
   },
   {
    "duration": 312,
    "start_time": "2022-06-08T16:40:58.104Z"
   },
   {
    "duration": 1474,
    "start_time": "2022-06-09T18:39:24.133Z"
   },
   {
    "duration": 416,
    "start_time": "2022-06-09T18:39:25.609Z"
   },
   {
    "duration": 207,
    "start_time": "2022-06-09T18:39:26.027Z"
   },
   {
    "duration": 210,
    "start_time": "2022-06-09T18:39:26.236Z"
   },
   {
    "duration": 20,
    "start_time": "2022-06-09T18:39:26.449Z"
   },
   {
    "duration": 41,
    "start_time": "2022-06-09T18:39:26.472Z"
   },
   {
    "duration": 65,
    "start_time": "2022-06-09T18:39:26.514Z"
   },
   {
    "duration": 96,
    "start_time": "2022-06-09T18:39:26.581Z"
   },
   {
    "duration": 13,
    "start_time": "2022-06-09T18:39:26.679Z"
   },
   {
    "duration": 15,
    "start_time": "2022-06-09T18:39:26.694Z"
   },
   {
    "duration": 68,
    "start_time": "2022-06-09T18:39:26.711Z"
   },
   {
    "duration": 42,
    "start_time": "2022-06-09T18:39:26.781Z"
   },
   {
    "duration": 79,
    "start_time": "2022-06-09T18:39:26.825Z"
   },
   {
    "duration": 6,
    "start_time": "2022-06-09T18:39:26.907Z"
   },
   {
    "duration": 13,
    "start_time": "2022-06-09T18:39:26.915Z"
   },
   {
    "duration": 56,
    "start_time": "2022-06-09T18:39:26.930Z"
   },
   {
    "duration": 40,
    "start_time": "2022-06-09T18:39:26.988Z"
   },
   {
    "duration": 79,
    "start_time": "2022-06-09T18:39:27.030Z"
   },
   {
    "duration": 14,
    "start_time": "2022-06-09T18:39:27.111Z"
   },
   {
    "duration": 2,
    "start_time": "2022-06-09T18:39:27.126Z"
   },
   {
    "duration": 7,
    "start_time": "2022-06-09T18:39:27.130Z"
   },
   {
    "duration": 23,
    "start_time": "2022-06-09T18:39:27.138Z"
   },
   {
    "duration": 644,
    "start_time": "2022-06-09T18:39:27.163Z"
   },
   {
    "duration": 22,
    "start_time": "2022-06-09T18:39:27.808Z"
   },
   {
    "duration": 2,
    "start_time": "2022-06-09T18:39:27.832Z"
   },
   {
    "duration": 73,
    "start_time": "2022-06-09T18:39:27.835Z"
   },
   {
    "duration": 24,
    "start_time": "2022-06-09T18:39:27.910Z"
   },
   {
    "duration": 3,
    "start_time": "2022-06-09T18:39:27.935Z"
   },
   {
    "duration": 75,
    "start_time": "2022-06-09T18:39:27.939Z"
   },
   {
    "duration": 23,
    "start_time": "2022-06-09T18:39:28.016Z"
   },
   {
    "duration": 3,
    "start_time": "2022-06-09T18:39:28.041Z"
   },
   {
    "duration": 61,
    "start_time": "2022-06-09T18:39:28.060Z"
   },
   {
    "duration": 5,
    "start_time": "2022-06-09T18:39:28.122Z"
   },
   {
    "duration": 19,
    "start_time": "2022-06-09T18:39:28.129Z"
   },
   {
    "duration": 18,
    "start_time": "2022-06-09T18:39:28.158Z"
   },
   {
    "duration": 17,
    "start_time": "2022-06-09T18:40:30.402Z"
   },
   {
    "duration": 6,
    "start_time": "2022-06-09T18:41:16.797Z"
   },
   {
    "duration": 112,
    "start_time": "2022-06-09T18:48:27.438Z"
   },
   {
    "duration": 16,
    "start_time": "2022-06-09T18:50:57.740Z"
   },
   {
    "duration": 139,
    "start_time": "2022-06-09T18:54:31.320Z"
   },
   {
    "duration": 10,
    "start_time": "2022-06-09T18:54:49.928Z"
   },
   {
    "duration": 14,
    "start_time": "2022-06-09T18:55:07.111Z"
   },
   {
    "duration": 16,
    "start_time": "2022-06-09T18:55:41.144Z"
   },
   {
    "duration": 29,
    "start_time": "2022-06-09T18:55:49.895Z"
   },
   {
    "duration": 13,
    "start_time": "2022-06-09T18:56:19.105Z"
   },
   {
    "duration": 22,
    "start_time": "2022-06-09T18:56:53.457Z"
   },
   {
    "duration": 11,
    "start_time": "2022-06-09T18:57:04.310Z"
   },
   {
    "duration": 26,
    "start_time": "2022-06-09T19:03:44.625Z"
   },
   {
    "duration": 13,
    "start_time": "2022-06-09T19:11:32.738Z"
   },
   {
    "duration": 15,
    "start_time": "2022-06-09T19:11:40.711Z"
   },
   {
    "duration": 12,
    "start_time": "2022-06-09T19:11:51.487Z"
   },
   {
    "duration": 15,
    "start_time": "2022-06-09T19:12:03.719Z"
   },
   {
    "duration": 5,
    "start_time": "2022-06-09T19:12:31.399Z"
   },
   {
    "duration": 14,
    "start_time": "2022-06-09T19:13:21.639Z"
   },
   {
    "duration": 6,
    "start_time": "2022-06-09T20:06:36.893Z"
   },
   {
    "duration": 517,
    "start_time": "2022-06-09T20:06:36.902Z"
   },
   {
    "duration": 252,
    "start_time": "2022-06-09T20:06:37.421Z"
   },
   {
    "duration": 165,
    "start_time": "2022-06-09T20:06:37.681Z"
   },
   {
    "duration": 23,
    "start_time": "2022-06-09T20:06:37.848Z"
   },
   {
    "duration": 42,
    "start_time": "2022-06-09T20:06:37.878Z"
   },
   {
    "duration": 53,
    "start_time": "2022-06-09T20:06:37.922Z"
   },
   {
    "duration": 57,
    "start_time": "2022-06-09T20:06:37.987Z"
   },
   {
    "duration": 23,
    "start_time": "2022-06-09T20:06:38.046Z"
   },
   {
    "duration": 21,
    "start_time": "2022-06-09T20:06:38.073Z"
   },
   {
    "duration": 35,
    "start_time": "2022-06-09T20:06:38.096Z"
   },
   {
    "duration": 56,
    "start_time": "2022-06-09T20:06:38.133Z"
   },
   {
    "duration": 59,
    "start_time": "2022-06-09T20:06:38.191Z"
   },
   {
    "duration": 27,
    "start_time": "2022-06-09T20:06:38.252Z"
   },
   {
    "duration": 28,
    "start_time": "2022-06-09T20:06:38.282Z"
   },
   {
    "duration": 32,
    "start_time": "2022-06-09T20:06:38.312Z"
   },
   {
    "duration": 50,
    "start_time": "2022-06-09T20:06:38.345Z"
   },
   {
    "duration": 68,
    "start_time": "2022-06-09T20:06:38.396Z"
   },
   {
    "duration": 25,
    "start_time": "2022-06-09T20:06:38.469Z"
   },
   {
    "duration": 11,
    "start_time": "2022-06-09T20:06:38.496Z"
   },
   {
    "duration": 15,
    "start_time": "2022-06-09T20:06:38.509Z"
   },
   {
    "duration": 13,
    "start_time": "2022-06-09T20:06:38.525Z"
   },
   {
    "duration": 691,
    "start_time": "2022-06-09T20:06:38.539Z"
   },
   {
    "duration": 40,
    "start_time": "2022-06-09T20:06:39.231Z"
   },
   {
    "duration": 7,
    "start_time": "2022-06-09T20:06:39.276Z"
   },
   {
    "duration": 71,
    "start_time": "2022-06-09T20:06:39.285Z"
   },
   {
    "duration": 30,
    "start_time": "2022-06-09T20:06:39.358Z"
   },
   {
    "duration": 11,
    "start_time": "2022-06-09T20:06:39.390Z"
   },
   {
    "duration": 90,
    "start_time": "2022-06-09T20:06:39.403Z"
   },
   {
    "duration": 21,
    "start_time": "2022-06-09T20:06:39.495Z"
   },
   {
    "duration": 3,
    "start_time": "2022-06-09T20:06:39.518Z"
   },
   {
    "duration": 83,
    "start_time": "2022-06-09T20:06:39.523Z"
   },
   {
    "duration": 5,
    "start_time": "2022-06-09T20:06:39.608Z"
   },
   {
    "duration": 27,
    "start_time": "2022-06-09T20:06:39.615Z"
   },
   {
    "duration": 14,
    "start_time": "2022-06-09T20:06:39.643Z"
   },
   {
    "duration": 42,
    "start_time": "2022-06-09T20:06:39.661Z"
   },
   {
    "duration": 6,
    "start_time": "2022-06-09T20:06:39.705Z"
   },
   {
    "duration": 20,
    "start_time": "2022-06-09T20:06:39.712Z"
   },
   {
    "duration": 154,
    "start_time": "2022-06-09T20:06:39.734Z"
   },
   {
    "duration": 23,
    "start_time": "2022-06-09T20:06:39.967Z"
   },
   {
    "duration": 18,
    "start_time": "2022-06-09T20:06:39.996Z"
   },
   {
    "duration": 37,
    "start_time": "2022-06-09T20:06:40.017Z"
   },
   {
    "duration": 8,
    "start_time": "2022-06-09T20:06:40.056Z"
   },
   {
    "duration": 34,
    "start_time": "2022-06-09T20:06:40.066Z"
   },
   {
    "duration": 87,
    "start_time": "2022-06-09T20:06:40.101Z"
   },
   {
    "duration": 12,
    "start_time": "2022-06-09T20:06:40.259Z"
   },
   {
    "duration": 19,
    "start_time": "2022-06-09T20:06:40.277Z"
   },
   {
    "duration": 12,
    "start_time": "2022-06-09T20:06:40.297Z"
   },
   {
    "duration": 3,
    "start_time": "2022-06-09T20:06:40.311Z"
   },
   {
    "duration": 5,
    "start_time": "2022-06-09T20:06:40.316Z"
   },
   {
    "duration": 52,
    "start_time": "2022-06-09T20:06:40.322Z"
   },
   {
    "duration": 22,
    "start_time": "2022-06-09T20:06:40.376Z"
   },
   {
    "duration": 92,
    "start_time": "2022-06-09T20:06:40.400Z"
   },
   {
    "duration": 5,
    "start_time": "2022-06-09T20:06:40.494Z"
   },
   {
    "duration": 8,
    "start_time": "2022-06-09T20:06:40.500Z"
   },
   {
    "duration": 11,
    "start_time": "2022-06-09T20:06:40.510Z"
   },
   {
    "duration": 0,
    "start_time": "2022-06-09T20:06:40.522Z"
   },
   {
    "duration": 0,
    "start_time": "2022-06-09T20:06:40.524Z"
   },
   {
    "duration": 12,
    "start_time": "2022-06-09T20:07:11.870Z"
   },
   {
    "duration": 11,
    "start_time": "2022-06-09T20:07:23.881Z"
   },
   {
    "duration": 6,
    "start_time": "2022-06-09T20:07:36.314Z"
   },
   {
    "duration": 9,
    "start_time": "2022-06-09T20:07:45.393Z"
   },
   {
    "duration": 5,
    "start_time": "2022-06-09T20:09:08.094Z"
   },
   {
    "duration": 4,
    "start_time": "2022-06-09T20:09:22.422Z"
   },
   {
    "duration": 8,
    "start_time": "2022-06-09T20:09:28.398Z"
   },
   {
    "duration": 19,
    "start_time": "2022-06-09T20:09:33.002Z"
   },
   {
    "duration": 15,
    "start_time": "2022-06-09T20:13:22.217Z"
   },
   {
    "duration": 8,
    "start_time": "2022-06-09T20:15:01.949Z"
   },
   {
    "duration": 29,
    "start_time": "2022-06-09T20:15:03.713Z"
   },
   {
    "duration": 32,
    "start_time": "2022-06-09T20:15:31.585Z"
   },
   {
    "duration": 4,
    "start_time": "2022-06-09T20:25:07.523Z"
   },
   {
    "duration": 7,
    "start_time": "2022-06-09T20:25:13.335Z"
   },
   {
    "duration": 436,
    "start_time": "2022-06-09T20:25:15.331Z"
   },
   {
    "duration": 455,
    "start_time": "2022-06-09T20:25:44.799Z"
   },
   {
    "duration": 9,
    "start_time": "2022-06-09T20:26:20.828Z"
   },
   {
    "duration": 431,
    "start_time": "2022-06-09T20:26:37.620Z"
   },
   {
    "duration": 3,
    "start_time": "2022-06-09T20:30:11.803Z"
   },
   {
    "duration": 9,
    "start_time": "2022-06-09T20:30:16.739Z"
   },
   {
    "duration": 440,
    "start_time": "2022-06-09T20:30:19.395Z"
   },
   {
    "duration": 493,
    "start_time": "2022-06-09T20:30:22.631Z"
   },
   {
    "duration": 427,
    "start_time": "2022-06-09T20:30:29.995Z"
   },
   {
    "duration": 1619,
    "start_time": "2022-06-10T07:39:24.792Z"
   },
   {
    "duration": 470,
    "start_time": "2022-06-10T07:39:26.418Z"
   },
   {
    "duration": 242,
    "start_time": "2022-06-10T07:39:26.890Z"
   },
   {
    "duration": 240,
    "start_time": "2022-06-10T07:39:27.134Z"
   },
   {
    "duration": 15,
    "start_time": "2022-06-10T07:39:27.376Z"
   },
   {
    "duration": 49,
    "start_time": "2022-06-10T07:39:27.392Z"
   },
   {
    "duration": 67,
    "start_time": "2022-06-10T07:39:27.443Z"
   },
   {
    "duration": 79,
    "start_time": "2022-06-10T07:39:27.515Z"
   },
   {
    "duration": 22,
    "start_time": "2022-06-10T07:39:27.596Z"
   },
   {
    "duration": 21,
    "start_time": "2022-06-10T07:39:27.620Z"
   },
   {
    "duration": 34,
    "start_time": "2022-06-10T07:39:27.643Z"
   },
   {
    "duration": 68,
    "start_time": "2022-06-10T07:39:27.679Z"
   },
   {
    "duration": 88,
    "start_time": "2022-06-10T07:39:27.748Z"
   },
   {
    "duration": 6,
    "start_time": "2022-06-10T07:39:27.839Z"
   },
   {
    "duration": 16,
    "start_time": "2022-06-10T07:39:27.847Z"
   },
   {
    "duration": 68,
    "start_time": "2022-06-10T07:39:27.865Z"
   },
   {
    "duration": 67,
    "start_time": "2022-06-10T07:39:27.935Z"
   },
   {
    "duration": 79,
    "start_time": "2022-06-10T07:39:28.007Z"
   },
   {
    "duration": 26,
    "start_time": "2022-06-10T07:39:28.088Z"
   },
   {
    "duration": 11,
    "start_time": "2022-06-10T07:39:28.118Z"
   },
   {
    "duration": 6,
    "start_time": "2022-06-10T07:39:28.131Z"
   },
   {
    "duration": 7,
    "start_time": "2022-06-10T07:39:28.139Z"
   },
   {
    "duration": 668,
    "start_time": "2022-06-10T07:39:28.147Z"
   },
   {
    "duration": 27,
    "start_time": "2022-06-10T07:39:28.817Z"
   },
   {
    "duration": 2,
    "start_time": "2022-06-10T07:39:28.846Z"
   },
   {
    "duration": 123,
    "start_time": "2022-06-10T07:39:28.850Z"
   },
   {
    "duration": 54,
    "start_time": "2022-06-10T07:39:28.975Z"
   },
   {
    "duration": 16,
    "start_time": "2022-06-10T07:39:29.031Z"
   },
   {
    "duration": 123,
    "start_time": "2022-06-10T07:39:29.049Z"
   },
   {
    "duration": 41,
    "start_time": "2022-06-10T07:39:29.174Z"
   },
   {
    "duration": 15,
    "start_time": "2022-06-10T07:39:29.217Z"
   },
   {
    "duration": 98,
    "start_time": "2022-06-10T07:39:29.234Z"
   },
   {
    "duration": 6,
    "start_time": "2022-06-10T07:39:29.334Z"
   },
   {
    "duration": 21,
    "start_time": "2022-06-10T07:39:29.342Z"
   },
   {
    "duration": 10,
    "start_time": "2022-06-10T07:39:29.364Z"
   },
   {
    "duration": 27,
    "start_time": "2022-06-10T07:39:29.376Z"
   },
   {
    "duration": 14,
    "start_time": "2022-06-10T07:39:29.405Z"
   },
   {
    "duration": 26,
    "start_time": "2022-06-10T07:39:29.421Z"
   },
   {
    "duration": 184,
    "start_time": "2022-06-10T07:39:29.449Z"
   },
   {
    "duration": 26,
    "start_time": "2022-06-10T07:39:29.698Z"
   },
   {
    "duration": 7,
    "start_time": "2022-06-10T07:39:29.729Z"
   },
   {
    "duration": 15,
    "start_time": "2022-06-10T07:39:29.738Z"
   },
   {
    "duration": 4,
    "start_time": "2022-06-10T07:39:29.755Z"
   },
   {
    "duration": 9,
    "start_time": "2022-06-10T07:39:29.761Z"
   },
   {
    "duration": 131,
    "start_time": "2022-06-10T07:39:29.772Z"
   },
   {
    "duration": 97,
    "start_time": "2022-06-10T07:39:29.906Z"
   },
   {
    "duration": 39,
    "start_time": "2022-06-10T07:39:30.005Z"
   },
   {
    "duration": 19,
    "start_time": "2022-06-10T07:39:30.046Z"
   },
   {
    "duration": 5,
    "start_time": "2022-06-10T07:39:30.066Z"
   },
   {
    "duration": 13,
    "start_time": "2022-06-10T07:39:30.072Z"
   },
   {
    "duration": 111,
    "start_time": "2022-06-10T07:39:30.087Z"
   },
   {
    "duration": 11,
    "start_time": "2022-06-10T07:39:30.200Z"
   },
   {
    "duration": 86,
    "start_time": "2022-06-10T07:39:30.213Z"
   },
   {
    "duration": 27,
    "start_time": "2022-06-10T07:39:30.302Z"
   },
   {
    "duration": 11,
    "start_time": "2022-06-10T07:39:30.331Z"
   },
   {
    "duration": 10,
    "start_time": "2022-06-10T07:39:30.344Z"
   },
   {
    "duration": 11,
    "start_time": "2022-06-10T07:39:30.356Z"
   },
   {
    "duration": 20,
    "start_time": "2022-06-10T07:39:30.369Z"
   },
   {
    "duration": 556,
    "start_time": "2022-06-10T07:39:30.391Z"
   },
   {
    "duration": 473,
    "start_time": "2022-06-10T07:39:30.950Z"
   },
   {
    "duration": 492,
    "start_time": "2022-06-10T07:39:31.425Z"
   },
   {
    "duration": 5,
    "start_time": "2022-06-10T07:41:35.559Z"
   },
   {
    "duration": 24,
    "start_time": "2022-06-10T07:41:54.596Z"
   },
   {
    "duration": 5,
    "start_time": "2022-06-10T07:42:23.280Z"
   },
   {
    "duration": 8,
    "start_time": "2022-06-10T07:48:27.793Z"
   },
   {
    "duration": 576,
    "start_time": "2022-06-10T07:48:31.791Z"
   },
   {
    "duration": 6,
    "start_time": "2022-06-10T07:49:10.817Z"
   },
   {
    "duration": 424,
    "start_time": "2022-06-10T07:49:13.456Z"
   },
   {
    "duration": 7,
    "start_time": "2022-06-10T07:50:00.872Z"
   },
   {
    "duration": 496,
    "start_time": "2022-06-10T07:50:02.512Z"
   },
   {
    "duration": 467,
    "start_time": "2022-06-10T07:50:25.459Z"
   },
   {
    "duration": 9,
    "start_time": "2022-06-10T07:51:08.260Z"
   },
   {
    "duration": 516,
    "start_time": "2022-06-10T07:51:11.410Z"
   },
   {
    "duration": 506,
    "start_time": "2022-06-10T07:51:19.183Z"
   },
   {
    "duration": 424,
    "start_time": "2022-06-10T07:51:26.311Z"
   },
   {
    "duration": 4,
    "start_time": "2022-06-10T08:27:45.413Z"
   },
   {
    "duration": 165,
    "start_time": "2022-06-10T08:27:45.419Z"
   },
   {
    "duration": 155,
    "start_time": "2022-06-10T08:27:45.586Z"
   },
   {
    "duration": 150,
    "start_time": "2022-06-10T08:27:45.743Z"
   },
   {
    "duration": 20,
    "start_time": "2022-06-10T08:27:45.899Z"
   },
   {
    "duration": 40,
    "start_time": "2022-06-10T08:27:45.920Z"
   },
   {
    "duration": 80,
    "start_time": "2022-06-10T08:27:45.961Z"
   },
   {
    "duration": 101,
    "start_time": "2022-06-10T08:27:46.043Z"
   },
   {
    "duration": 22,
    "start_time": "2022-06-10T08:27:46.146Z"
   },
   {
    "duration": 41,
    "start_time": "2022-06-10T08:27:46.170Z"
   },
   {
    "duration": 44,
    "start_time": "2022-06-10T08:27:46.215Z"
   },
   {
    "duration": 65,
    "start_time": "2022-06-10T08:27:46.261Z"
   },
   {
    "duration": 91,
    "start_time": "2022-06-10T08:27:46.328Z"
   },
   {
    "duration": 8,
    "start_time": "2022-06-10T08:27:46.420Z"
   },
   {
    "duration": 16,
    "start_time": "2022-06-10T08:27:46.429Z"
   },
   {
    "duration": 65,
    "start_time": "2022-06-10T08:27:46.447Z"
   },
   {
    "duration": 58,
    "start_time": "2022-06-10T08:27:46.514Z"
   },
   {
    "duration": 94,
    "start_time": "2022-06-10T08:27:46.573Z"
   },
   {
    "duration": 43,
    "start_time": "2022-06-10T08:27:46.669Z"
   },
   {
    "duration": 6,
    "start_time": "2022-06-10T08:27:46.715Z"
   },
   {
    "duration": 8,
    "start_time": "2022-06-10T08:27:46.723Z"
   },
   {
    "duration": 12,
    "start_time": "2022-06-10T08:27:46.732Z"
   },
   {
    "duration": 728,
    "start_time": "2022-06-10T08:27:46.747Z"
   },
   {
    "duration": 36,
    "start_time": "2022-06-10T08:27:47.477Z"
   },
   {
    "duration": 4,
    "start_time": "2022-06-10T08:27:47.516Z"
   },
   {
    "duration": 126,
    "start_time": "2022-06-10T08:27:47.523Z"
   },
   {
    "duration": 30,
    "start_time": "2022-06-10T08:27:47.651Z"
   },
   {
    "duration": 13,
    "start_time": "2022-06-10T08:27:47.683Z"
   },
   {
    "duration": 138,
    "start_time": "2022-06-10T08:27:47.701Z"
   },
   {
    "duration": 39,
    "start_time": "2022-06-10T08:27:47.841Z"
   },
   {
    "duration": 13,
    "start_time": "2022-06-10T08:27:47.882Z"
   },
   {
    "duration": 108,
    "start_time": "2022-06-10T08:27:47.905Z"
   },
   {
    "duration": 6,
    "start_time": "2022-06-10T08:27:48.015Z"
   },
   {
    "duration": 23,
    "start_time": "2022-06-10T08:27:48.022Z"
   },
   {
    "duration": 13,
    "start_time": "2022-06-10T08:27:48.047Z"
   },
   {
    "duration": 17,
    "start_time": "2022-06-10T08:27:48.062Z"
   },
   {
    "duration": 4,
    "start_time": "2022-06-10T08:27:48.080Z"
   },
   {
    "duration": 11,
    "start_time": "2022-06-10T08:27:48.086Z"
   },
   {
    "duration": 203,
    "start_time": "2022-06-10T08:27:48.100Z"
   },
   {
    "duration": 17,
    "start_time": "2022-06-10T08:27:48.305Z"
   },
   {
    "duration": 16,
    "start_time": "2022-06-10T08:27:48.324Z"
   },
   {
    "duration": 22,
    "start_time": "2022-06-10T08:27:48.342Z"
   },
   {
    "duration": 4,
    "start_time": "2022-06-10T08:27:48.366Z"
   },
   {
    "duration": 8,
    "start_time": "2022-06-10T08:27:48.372Z"
   },
   {
    "duration": 112,
    "start_time": "2022-06-10T08:27:48.395Z"
   },
   {
    "duration": 101,
    "start_time": "2022-06-10T08:27:48.510Z"
   },
   {
    "duration": 8,
    "start_time": "2022-06-10T08:27:48.613Z"
   },
   {
    "duration": 15,
    "start_time": "2022-06-10T08:27:48.623Z"
   },
   {
    "duration": 4,
    "start_time": "2022-06-10T08:27:48.640Z"
   },
   {
    "duration": 7,
    "start_time": "2022-06-10T08:27:48.646Z"
   },
   {
    "duration": 151,
    "start_time": "2022-06-10T08:27:48.655Z"
   },
   {
    "duration": 2,
    "start_time": "2022-06-10T08:27:48.808Z"
   },
   {
    "duration": 107,
    "start_time": "2022-06-10T08:27:48.811Z"
   },
   {
    "duration": 10,
    "start_time": "2022-06-10T08:27:48.921Z"
   },
   {
    "duration": 18,
    "start_time": "2022-06-10T08:27:48.933Z"
   },
   {
    "duration": 13,
    "start_time": "2022-06-10T08:27:48.954Z"
   },
   {
    "duration": 10,
    "start_time": "2022-06-10T08:27:48.969Z"
   },
   {
    "duration": 11,
    "start_time": "2022-06-10T08:27:48.982Z"
   },
   {
    "duration": 558,
    "start_time": "2022-06-10T08:27:48.996Z"
   },
   {
    "duration": 448,
    "start_time": "2022-06-10T08:27:49.555Z"
   },
   {
    "duration": 464,
    "start_time": "2022-06-10T08:27:50.005Z"
   }
  ],
  "kernelspec": {
   "display_name": "Python 3 (ipykernel)",
   "language": "python",
   "name": "python3"
  },
  "language_info": {
   "codemirror_mode": {
    "name": "ipython",
    "version": 3
   },
   "file_extension": ".py",
   "mimetype": "text/x-python",
   "name": "python",
   "nbconvert_exporter": "python",
   "pygments_lexer": "ipython3",
   "version": "3.10.4"
  },
  "latex_envs": {
   "LaTeX_envs_menu_present": true,
   "autoclose": false,
   "autocomplete": true,
   "bibliofile": "biblio.bib",
   "cite_by": "apalike",
   "current_citInitial": 1,
   "eqLabelWithNumbers": true,
   "eqNumInitial": 1,
   "hotkeys": {
    "equation": "Ctrl-E",
    "itemize": "Ctrl-I"
   },
   "labels_anchors": false,
   "latex_user_defs": false,
   "report_style_numbering": false,
   "user_envs_cfg": false
  },
  "nbTranslate": {
   "displayLangs": [
    "*"
   ],
   "hotkey": "alt-t",
   "langInMainMenu": true,
   "sourceLang": "en",
   "targetLang": "fr",
   "useGoogleTranslate": true
  },
  "toc": {
   "base_numbering": 1,
   "nav_menu": {},
   "number_sections": true,
   "sideBar": true,
   "skip_h1_title": true,
   "title_cell": "Содержание",
   "title_sidebar": "Contents",
   "toc_cell": true,
   "toc_position": {
    "height": "calc(100% - 180px)",
    "left": "10px",
    "top": "150px",
    "width": "360.391px"
   },
   "toc_section_display": true,
   "toc_window_display": true
  }
 },
 "nbformat": 4,
 "nbformat_minor": 2
}
